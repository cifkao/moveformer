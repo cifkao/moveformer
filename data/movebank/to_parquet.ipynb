{
 "cells": [
  {
   "cell_type": "code",
   "execution_count": 25,
   "id": "09385bfb",
   "metadata": {},
   "outputs": [],
   "source": [
    "import collections\n",
    "from pathlib import Path\n",
    "\n",
    "import pyarrow as pa\n",
    "import pyarrow.csv\n",
    "import pyarrow.compute\n",
    "import pyarrow.parquet as pq\n",
    "import requests\n",
    "from tqdm.auto import tqdm"
   ]
  },
  {
   "cell_type": "code",
   "execution_count": 22,
   "id": "9aa16970",
   "metadata": {},
   "outputs": [],
   "source": [
    "schema_in = pa.schema([\n",
    "    (\"timestamp\", pa.timestamp(\"us\")),\n",
    "    (\"location_lat\", pa.float64()),\n",
    "    (\"location_long\", pa.float64()),\n",
    "    (\"individual_id\", pa.int64()),\n",
    "    (\"deployment_id\", pa.int64()),\n",
    "    (\"tag_id\", pa.int64()),\n",
    "    (\"visible\", pa.bool_()),\n",
    "    (\"sensor_type\", pa.string()),\n",
    "])\n",
    "\n",
    "schema_out = pa.schema([\n",
    "    (\"timestamp\", pa.timestamp(\"us\")),\n",
    "    (\"location_lat\", pa.float64()),\n",
    "    (\"location_long\", pa.float64()),\n",
    "    (\"study_id\", pa.int64()),\n",
    "    (\"individual_id\", pa.int64()),\n",
    "    (\"deployment_id\", pa.int64()),\n",
    "    (\"tag_id\", pa.int64()),\n",
    "    (\"visible\", pa.bool_()),\n",
    "    (\"sensor_type\", pa.string())\n",
    "])"
   ]
  },
  {
   "cell_type": "code",
   "execution_count": 23,
   "id": "5136b683",
   "metadata": {},
   "outputs": [
    {
     "data": {
      "application/vnd.jupyter.widget-view+json": {
       "model_id": "2e4d883eb731428184e06db55fee0d7a",
       "version_major": 2,
       "version_minor": 0
      },
      "text/plain": [
       "  0%|          | 0/476 [00:00<?, ?it/s]"
      ]
     },
     "metadata": {},
     "output_type": "display_data"
    }
   ],
   "source": [
    "# Convert from CSV to one big parquet file\n",
    "\n",
    "with pq.ParquetWriter(\"locations_gps.parquet\", schema=schema_out) as writer:\n",
    "    for path in tqdm(sorted(Path(\"studies\").glob(\"*/location.csv\"))):\n",
    "        # Read the CSV file using pyarrow\n",
    "        try:\n",
    "            table = pa.csv.read_csv(path, convert_options=pa.csv.ConvertOptions(column_types=schema_in))\n",
    "        except pa.ArrowInvalid:\n",
    "            continue\n",
    "        \n",
    "        # Clean up the data, limit to GPS\n",
    "        table = table.drop_null()\n",
    "        table = table.filter(table[\"visible\"])\n",
    "        table = table.filter(pa.compute.and_(table[\"visible\"], pa.compute.equal(table[\"sensor_type\"], \"gps\")))\n",
    "        table = table.sort_by([(\"individual_id\", \"ascending\"),\n",
    "                               (\"deployment_id\", \"ascending\"),\n",
    "                               (\"timestamp\", \"ascending\")])\n",
    "\n",
    "        # Add the study_id\n",
    "        study_id = int(path.parent.name.split(\"-\")[0])\n",
    "        table = table.add_column(3, \"study_id\", pa.array(len(table) * [study_id], pa.int64()))\n",
    "\n",
    "        # Append to the output file\n",
    "        writer.write_table(table)"
   ]
  },
  {
   "cell_type": "code",
   "execution_count": 28,
   "id": "a5d6c182",
   "metadata": {},
   "outputs": [
    {
     "data": {
      "application/vnd.jupyter.widget-view+json": {
       "model_id": "67e7592fe657477682fc69af740c1948",
       "version_major": 2,
       "version_minor": 0
      },
      "text/plain": [
       "  0%|          | 0/476 [00:00<?, ?it/s]"
      ]
     },
     "metadata": {},
     "output_type": "display_data"
    },
    {
     "data": {
      "application/vnd.jupyter.widget-view+json": {
       "model_id": "c5840ef3939146d4a266f99e7dc77c3c",
       "version_major": 2,
       "version_minor": 0
      },
      "text/plain": [
       "  0%|          | 0/293 [00:00<?, ?it/s]"
      ]
     },
     "metadata": {},
     "output_type": "display_data"
    }
   ],
   "source": [
    "GBIF_KEYS = [\"rank\", \"kingdom\", \"phylum\", \"class\", \"order\", \"family\", \"genus\", \"species\"]\n",
    "\n",
    "# Get all taxon names, retrieve additional information\n",
    "all_taxons = set()\n",
    "for path in tqdm(sorted(Path(\"studies\").glob(\"*/individual.csv\"))):\n",
    "    all_taxons.update(pd.read_csv(path, dtype=str)[\"taxon_canonical_name\"])\n",
    "all_taxons = sorted(tx for tx in all_taxons if isinstance(tx, str))\n",
    "\n",
    "taxons_data = {}\n",
    "\n",
    "for taxon in tqdm(all_taxons):\n",
    "    response = requests.get(\"https://api.gbif.org/v1/species\", params=dict(name=taxon, limit=1000))\n",
    "    assert response.ok\n",
    "    results = response.json()[\"results\"]\n",
    "    counters = collections.defaultdict(collections.Counter)\n",
    "    for result in results:\n",
    "        if result.get(\"taxonomicStatus\") != \"ACCEPTED\":\n",
    "            continue\n",
    "        for key in GBIF_KEYS:\n",
    "            counters[key][result.get(key)] += 1\n",
    "    taxons_data[taxon] = {\n",
    "        key: max(counters[key].items(), key=lambda x: x[1])[0] if key in counters else None\n",
    "        for key in GBIF_KEYS\n",
    "    }"
   ]
  },
  {
   "cell_type": "code",
   "execution_count": 37,
   "id": "b1215fac",
   "metadata": {
    "scrolled": false
   },
   "outputs": [
    {
     "data": {
      "application/vnd.jupyter.widget-view+json": {
       "model_id": "b1c77c277ac64e99987de691318d3776",
       "version_major": 2,
       "version_minor": 0
      },
      "text/plain": [
       "  0%|          | 0/476 [00:00<?, ?it/s]"
      ]
     },
     "metadata": {},
     "output_type": "display_data"
    }
   ],
   "source": [
    "# Convert metadata about individuals to one big parquet file\n",
    "\n",
    "schema_in_indiv = pa.schema([\n",
    "    (\"id\", pa.int64()),\n",
    "    (\"earliest_date_born\", pa.timestamp(\"us\")),\n",
    "    (\"latest_date_born\", pa.timestamp(\"us\")),\n",
    "    (\"exact_date_of_birth\", pa.timestamp(\"us\")),\n",
    "    (\"local_identifier\", pa.string()),\n",
    "    (\"sex\", pa.string()),\n",
    "    (\"taxon_canonical_name\", pa.string()),\n",
    "])\n",
    "\n",
    "schema_out_indiv = pa.schema([\n",
    "    (\"id\", pa.int64()),\n",
    "    (\"earliest_date_born\", pa.timestamp(\"us\")),\n",
    "    (\"latest_date_born\", pa.timestamp(\"us\")),\n",
    "    (\"exact_date_of_birth\", pa.timestamp(\"us\")),\n",
    "    (\"local_identifier\", pa.string()),\n",
    "    (\"sex\", pa.string()),\n",
    "    (\"taxon_canonical_name\", pa.string()),\n",
    "    *((f\"taxon_{key}\", pa.string())\n",
    "      for key in GBIF_KEYS)\n",
    "])\n",
    "\n",
    "with pq.ParquetWriter(\"individuals.parquet\", schema=schema_out_indiv) as writer:\n",
    "    for path in tqdm(sorted(Path(\"studies\").glob(\"*/individual.csv\"))):\n",
    "        # Read the CSV file using pyarrow\n",
    "        try:\n",
    "            table = pa.csv.read_csv(path, convert_options=pa.csv.ConvertOptions(column_types=schema_in_indiv))\n",
    "        except pa.ArrowInvalid:\n",
    "            continue\n",
    "            \n",
    "        # Add details about taxon\n",
    "        for key in GBIF_KEYS:\n",
    "            table = table.append_column(\n",
    "                f\"taxon_{key}\",\n",
    "                pa.array([taxons_data[tx][key] if tx in taxons_data else None\n",
    "                          for tx in table[\"taxon_canonical_name\"].to_pylist()],\n",
    "                         type=pa.string())\n",
    "            )\n",
    "        \n",
    "        # Keep only wanted columns\n",
    "        table = table.select(schema_out_indiv.names)\n",
    "\n",
    "        # Append to the output file\n",
    "        writer.write_table(table)"
   ]
  }
 ],
 "metadata": {
  "kernelspec": {
   "display_name": "movebank",
   "language": "python",
   "name": "movebank"
  },
  "language_info": {
   "codemirror_mode": {
    "name": "ipython",
    "version": 3
   },
   "file_extension": ".py",
   "mimetype": "text/x-python",
   "name": "python",
   "nbconvert_exporter": "python",
   "pygments_lexer": "ipython3",
   "version": "3.9.7"
  }
 },
 "nbformat": 4,
 "nbformat_minor": 5
}
