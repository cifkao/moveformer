{
 "cells": [
  {
   "cell_type": "code",
   "execution_count": 1,
   "id": "09385bfb",
   "metadata": {},
   "outputs": [],
   "source": [
    "from pathlib import Path\n",
    "\n",
    "import pyarrow as pa\n",
    "import pyarrow.csv\n",
    "import pyarrow.compute\n",
    "import pyarrow.parquet as pq\n",
    "from tqdm.auto import tqdm"
   ]
  },
  {
   "cell_type": "code",
   "execution_count": 2,
   "id": "9aa16970",
   "metadata": {},
   "outputs": [],
   "source": [
    "schema_in = pa.schema([\n",
    "    (\"timestamp\", pa.timestamp(\"us\")),\n",
    "    (\"location_lat\", pa.float64()),\n",
    "    (\"location_long\", pa.float64()),\n",
    "    (\"individual_id\", pa.int64()),\n",
    "    (\"deployment_id\", pa.int64()),\n",
    "    (\"tag_id\", pa.int64()),\n",
    "    (\"visible\", pa.bool_()),\n",
    "    (\"sensor_type\", pa.string()),\n",
    "])\n",
    "\n",
    "schema_out = pa.schema([\n",
    "    (\"timestamp\", pa.timestamp(\"us\")),\n",
    "    (\"location_lat\", pa.float64()),\n",
    "    (\"location_long\", pa.float64()),\n",
    "    (\"study_id\", pa.int64()),\n",
    "    (\"individual_id\", pa.int64()),\n",
    "    (\"deployment_id\", pa.int64()),\n",
    "    (\"tag_id\", pa.int64()),\n",
    "    (\"visible\", pa.bool_()),\n",
    "    (\"sensor_type\", pa.string())\n",
    "])"
   ]
  },
  {
   "cell_type": "code",
   "execution_count": 3,
   "id": "5136b683",
   "metadata": {},
   "outputs": [
    {
     "data": {
      "application/vnd.jupyter.widget-view+json": {
       "model_id": "6fd6ff9dc1454affa651d12ab120e9bb",
       "version_major": 2,
       "version_minor": 0
      },
      "text/plain": [
       "  0%|          | 0/476 [00:00<?, ?it/s]"
      ]
     },
     "metadata": {},
     "output_type": "display_data"
    }
   ],
   "source": [
    "# Convert from CSV to one big parquet file\n",
    "\n",
    "with pq.ParquetWriter(\"locations_gps.parquet\", schema=schema_out) as writer:\n",
    "    for path in tqdm(sorted(Path(\"studies\").glob(\"*/location.csv\"))):\n",
    "        # Read the CSV file using pyarrow\n",
    "        try:\n",
    "            table = pa.csv.read_csv(path, convert_options=pa.csv.ConvertOptions(column_types=schema_in))\n",
    "        except pa.ArrowInvalid:\n",
    "            continue\n",
    "        \n",
    "        # Clean up the data, limit to GPS\n",
    "        table = table.drop_null()\n",
    "        table = table.filter(table[\"visible\"])\n",
    "        table = table.filter(pa.compute.and_(table[\"visible\"], pa.compute.equal(table[\"sensor_type\"], \"gps\")))\n",
    "        table = table.sort_by([(\"individual_id\", \"ascending\"),\n",
    "                               (\"deployment_id\", \"ascending\"),\n",
    "                               (\"timestamp\", \"ascending\")])\n",
    "\n",
    "        # Add the study_id\n",
    "        study_id = int(path.parent.name.split(\"-\")[0])\n",
    "        table = table.add_column(3, \"study_id\", pa.array(len(table) * [study_id], pa.int64()))\n",
    "\n",
    "        # Append to the output file\n",
    "        writer.write_table(table)"
   ]
  },
  {
   "cell_type": "code",
   "execution_count": 4,
   "id": "b1215fac",
   "metadata": {
    "scrolled": false
   },
   "outputs": [
    {
     "data": {
      "application/vnd.jupyter.widget-view+json": {
       "model_id": "c7ee3a18806c4ea481f9626587cca6ff",
       "version_major": 2,
       "version_minor": 0
      },
      "text/plain": [
       "  0%|          | 0/476 [00:00<?, ?it/s]"
      ]
     },
     "metadata": {},
     "output_type": "display_data"
    }
   ],
   "source": [
    "# Convert metadata about individuals to one big parquet file\n",
    "\n",
    "schema_indiv = pa.schema([\n",
    "    (\"id\", pa.int64()),\n",
    "    (\"earliest_date_born\", pa.timestamp(\"us\")),\n",
    "    (\"latest_date_born\", pa.timestamp(\"us\")),\n",
    "    (\"exact_date_of_birth\", pa.timestamp(\"us\")),\n",
    "    (\"local_identifier\", pa.string()),\n",
    "    (\"sex\", pa.string()),\n",
    "    (\"taxon_canonical_name\", pa.string()),\n",
    "])\n",
    "\n",
    "with pq.ParquetWriter(\"individuals.parquet\", schema=schema_indiv) as writer:\n",
    "    for path in tqdm(sorted(Path(\"studies\").glob(\"*/individual.csv\"))):\n",
    "        # Read the CSV file using pyarrow\n",
    "        try:\n",
    "            table = pa.csv.read_csv(path, convert_options=pa.csv.ConvertOptions(column_types=schema_indiv))\n",
    "        except pa.ArrowInvalid:\n",
    "            continue\n",
    "        \n",
    "        # Keep only wanted columns\n",
    "        table = table.select(schema_indiv.names)\n",
    "\n",
    "        # Append to the output file\n",
    "        writer.write_table(table)"
   ]
  }
 ],
 "metadata": {
  "kernelspec": {
   "display_name": "movebank",
   "language": "python",
   "name": "movebank"
  },
  "language_info": {
   "codemirror_mode": {
    "name": "ipython",
    "version": 3
   },
   "file_extension": ".py",
   "mimetype": "text/x-python",
   "name": "python",
   "nbconvert_exporter": "python",
   "pygments_lexer": "ipython3",
   "version": "3.9.7"
  }
 },
 "nbformat": 4,
 "nbformat_minor": 5
}
