{
 "cells": [
  {
   "cell_type": "code",
   "execution_count": 1,
   "id": "3e72635c",
   "metadata": {},
   "outputs": [],
   "source": [
    "import csv\n",
    "import getpass\n",
    "import hashlib\n",
    "import io\n",
    "import os\n",
    "from pathlib import Path\n",
    "import requests\n",
    "import sys\n",
    "import shlex\n",
    "import traceback\n",
    "\n",
    "import pandas as pd\n",
    "import regex as re\n",
    "from slugify import slugify\n",
    "from tqdm.auto import tqdm"
   ]
  },
  {
   "cell_type": "code",
   "execution_count": null,
   "id": "64a9ebc9",
   "metadata": {},
   "outputs": [],
   "source": [
    "username = input(\"Movebank username: \")\n",
    "password = getpass.getpass(\"Movebank password: \")\n",
    "curl_cmd = \"curl -u \" + shlex.quote(f\"{username}:{password}\")"
   ]
  },
  {
   "cell_type": "code",
   "execution_count": 3,
   "id": "60760c23",
   "metadata": {},
   "outputs": [
    {
     "name": "stdout",
     "output_type": "stream",
     "text": [
      "  % Total    % Received % Xferd  Average Speed   Time    Time     Time  Current\n",
      "                                 Dload  Upload   Total   Spent    Left  Speed\n",
      "100 3491k    0 3491k    0     0  2725k      0 --:--:--  0:00:01 --:--:-- 2723k\n"
     ]
    }
   ],
   "source": [
    "!{curl_cmd} -o studies.csv 'https://www.movebank.org/movebank/service/direct-read?entity_type=study'\n",
    "\n",
    "studies_all = pd.read_csv(\"studies.csv\", dtype=str)\n",
    "studies_all.sort_values(by=\"id\", key=pd.to_numeric, inplace=True)\n",
    "studies_all.to_csv(\"studies.csv\", index=False)"
   ]
  },
  {
   "cell_type": "code",
   "execution_count": 4,
   "id": "591b1267",
   "metadata": {},
   "outputs": [
    {
     "name": "stdout",
     "output_type": "stream",
     "text": [
      "  % Total    % Received % Xferd  Average Speed   Time    Time     Time  Current\n",
      "                                 Dload  Upload   Total   Spent    Left  Speed\n",
      "100   831  100   831    0     0   2533      0 --:--:-- --:--:-- --:--:--  2541\n"
     ]
    }
   ],
   "source": [
    "!{curl_cmd} -o sensor_types.csv 'https://www.movebank.org/movebank/service/direct-read?entity_type=tag_type'\n",
    "\n",
    "sensor_types = pd.read_csv(\"sensor_types.csv\")\n",
    "sensor_type_map = dict(zip(sensor_types[\"id\"], sensor_types[\"external_id\"]))\n",
    "location_sensor_type_ids = set(sensor_types[sensor_types[\"is_location_sensor\"]][\"id\"])"
   ]
  },
  {
   "cell_type": "code",
   "execution_count": 5,
   "id": "cd1ac381",
   "metadata": {},
   "outputs": [
    {
     "data": {
      "text/plain": [
       "603"
      ]
     },
     "execution_count": 5,
     "metadata": {},
     "output_type": "execute_result"
    }
   ],
   "source": [
    "studies_downloadable = studies_all[\n",
    "    (studies_all[\"i_have_download_access\"] == \"true\") &\n",
    "    (studies_all[\"there_are_data_which_i_cannot_see\"] != \"true\")]\n",
    "studies_downloadable.to_csv(\"studies_downloadable.csv\", index=False)\n",
    "len(studies_downloadable)"
   ]
  },
  {
   "cell_type": "code",
   "execution_count": 6,
   "id": "e99b805d",
   "metadata": {},
   "outputs": [
    {
     "data": {
      "text/plain": [
       "476"
      ]
     },
     "execution_count": 6,
     "metadata": {},
     "output_type": "execute_result"
    }
   ],
   "source": [
    "studies_permissive = studies_downloadable[studies_downloadable[\"license_type\"] != \"CUSTOM\"]\n",
    "studies_permissive.to_csv(\"studies_permissive.csv\", index=False)\n",
    "len(studies_permissive)"
   ]
  },
  {
   "cell_type": "code",
   "execution_count": 7,
   "id": "9f0a41d2",
   "metadata": {},
   "outputs": [
    {
     "data": {
      "text/plain": [
       "['CC_0', 'CC_BY', 'CC_BY_NC']"
      ]
     },
     "execution_count": 7,
     "metadata": {},
     "output_type": "execute_result"
    }
   ],
   "source": [
    "sorted(set(studies_permissive[\"license_type\"]))"
   ]
  },
  {
   "cell_type": "code",
   "execution_count": 8,
   "id": "d63edf6d",
   "metadata": {},
   "outputs": [],
   "source": [
    "def get_study_dir_name(study):\n",
    "    pi_name = study[\"principal_investigator_name\"]\n",
    "    if pd.isna(pi_name):\n",
    "        pi_name = \"\"\n",
    "        return str(study[\"id\"])\n",
    "    if \"(\" in pi_name:\n",
    "        slug = slugify(pi_name.split(\"(\")[0])\n",
    "    else:\n",
    "        slug = slugify(re.split(r\"[^\\w\\s.]+\", pi_name)[0]).split(\"-\")[-1]\n",
    "    return \"{}-{}\".format(study[\"id\"], slug)"
   ]
  },
  {
   "cell_type": "code",
   "execution_count": 9,
   "id": "fa735c79",
   "metadata": {},
   "outputs": [],
   "source": [
    "def get_data(cookies=None, stream=False, headers=None, **params):\n",
    "    return requests.get(\n",
    "        'https://www.movebank.org/movebank/service/direct-read',\n",
    "        params=params, auth=(username, password), cookies=cookies, stream=stream, headers=headers)"
   ]
  },
  {
   "cell_type": "code",
   "execution_count": 10,
   "id": "01b990a1",
   "metadata": {},
   "outputs": [],
   "source": [
    "def validate_response(response):\n",
    "    response.raise_for_status()\n",
    "    assert response.headers.get(\"accept-license\") != \"true\"\n",
    "    assert response.headers[\"content-type\"] == \"text/csv\""
   ]
  },
  {
   "cell_type": "code",
   "execution_count": 11,
   "id": "f1b113fa",
   "metadata": {},
   "outputs": [],
   "source": [
    "def save_data(study_dir, entity_type, response):\n",
    "    # Make sure response is OK\n",
    "    if response.status_code == requests.codes.server_error:\n",
    "        tqdm.write(f\"Server error for {study_dir}, {entity_type}\")\n",
    "        with open(study_dir / f\"{entity_type}.error.html\", \"wb\") as f:\n",
    "            f.write(response.content)\n",
    "        return\n",
    "    validate_response(response)\n",
    "\n",
    "    # Save the data\n",
    "    path = study_dir / f\"{entity_type}.csv\"\n",
    "    with open(path.with_suffix(\".csv.tmp\"), \"wb\") as f:\n",
    "        f.write(response.content)\n",
    "    path.with_suffix(\".csv.tmp\").replace(path)"
   ]
  },
  {
   "cell_type": "code",
   "execution_count": null,
   "id": "71d2f361",
   "metadata": {},
   "outputs": [],
   "source": [
    "pbar = tqdm(studies_permissive.iterrows(), total=len(studies_permissive))\n",
    "for _, study in pbar:\n",
    "    study_id = int(study[\"id\"])\n",
    "    study_dir = Path(\"studies\") / get_study_dir_name(study)\n",
    "    os.makedirs(study_dir, exist_ok=True)\n",
    "    pbar.set_postfix_str(study_dir)\n",
    "\n",
    "    if not all((study_dir / f\"{e}.csv\").exists() for e in [\"tag\", \"individual\", \"deployment\", \"sensor\"]):\n",
    "        # Save and accept license if necessary\n",
    "        response = get_data(entity_type=\"tag\", study_id=study_id)\n",
    "        params = {}\n",
    "        if response.headers.get(\"accept-license\") == \"true\":\n",
    "            with open(study_dir / \"license.html\", \"wb\") as f:\n",
    "                f.write(response.content)\n",
    "            license_hash = hashlib.md5(response.content).hexdigest()  #.lstrip(\"0\")\n",
    "            params = {\"cookies\": response.cookies, \"license-md5\": license_hash}\n",
    "            response = get_data(entity_type=\"tag\", study_id=study_id, **params)\n",
    "            if response.status_code != requests.codes.ok:\n",
    "                raise RuntimeError(f\"Failed to accept license for {study_dir}: error {response.status_code}\")\n",
    "\n",
    "        del response\n",
    "\n",
    "        # Download metadata\n",
    "        save_data(study_dir, \"tag\",\n",
    "                  get_data(entity_type=\"tag\", study_id=study_id, **params))\n",
    "        save_data(study_dir, \"individual\",\n",
    "                  get_data(entity_type=\"individual\", study_id=study_id, **params))\n",
    "        save_data(study_dir, \"deployment\",\n",
    "                  get_data(entity_type=\"deployment\", study_id=study_id, **params))\n",
    "        save_data(study_dir, \"sensor\",\n",
    "                  get_data(entity_type=\"sensor\", tag_study_id=study_id, **params))\n",
    "\n",
    "    # Get data from all location sensors and save it\n",
    "    path = study_dir / \"location.csv\"\n",
    "    if not path.exists():\n",
    "        sensors = pd.read_csv(study_dir / \"sensor.csv\")\n",
    "        writer = None\n",
    "        with open(path.with_suffix(\".csv.tmp\"), \"w\", newline=\"\") as f:\n",
    "            for sensor_type_id in tqdm(set(sensors[\"sensor_type_id\"]) & location_sensor_type_ids, leave=False):\n",
    "                response = get_data(\n",
    "                    entity_type=\"event\", study_id=study_id, sensor_type_id=sensor_type_id,\n",
    "                    attributes=\"timestamp,location_lat,location_long,individual_id,deployment_id,tag_id,visible\",\n",
    "                    stream=True, **params)\n",
    "                validate_response(response)\n",
    "\n",
    "                # Read the response row by row and write it to the file\n",
    "                lines = (line.decode(\"utf-8\") for line in response.iter_lines())\n",
    "                reader = csv.DictReader(lines)\n",
    "                if not writer:\n",
    "                    writer = csv.DictWriter(f, fieldnames=reader.fieldnames + [\"sensor_type\"])\n",
    "                    writer.writeheader()\n",
    "                for row in tqdm(reader, leave=False):\n",
    "                    row[\"sensor_type\"] = sensor_type_map[sensor_type_id]\n",
    "                    writer.writerow(row)\n",
    "        path.with_suffix(\".csv.tmp\").replace(path)"
   ]
  },
  {
   "cell_type": "code",
   "execution_count": 13,
   "id": "a5300288",
   "metadata": {},
   "outputs": [
    {
     "name": "stdout",
     "output_type": "stream",
     "text": [
      "20G\tstudies\r\n"
     ]
    }
   ],
   "source": [
    "!du -sh studies"
   ]
  }
 ],
 "metadata": {
  "kernelspec": {
   "display_name": "Python 3 (ipykernel)",
   "language": "python",
   "name": "python3"
  },
  "language_info": {
   "codemirror_mode": {
    "name": "ipython",
    "version": 3
   },
   "file_extension": ".py",
   "mimetype": "text/x-python",
   "name": "python",
   "nbconvert_exporter": "python",
   "pygments_lexer": "ipython3",
   "version": "3.9.7"
  }
 },
 "nbformat": 4,
 "nbformat_minor": 5
}
