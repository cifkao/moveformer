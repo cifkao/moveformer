{
 "cells": [
  {
   "cell_type": "code",
   "execution_count": 1,
   "id": "09385bfb",
   "metadata": {},
   "outputs": [],
   "source": [
    "import collections\n",
    "import concurrent.futures as cf\n",
    "import datetime\n",
    "import gc\n",
    "import itertools\n",
    "import math\n",
    "from pathlib import Path\n",
    "\n",
    "import IPython.display as ipd\n",
    "import matplotlib.pyplot as plt\n",
    "import numba\n",
    "import numpy as np\n",
    "import pandas as pd\n",
    "import pyarrow as pa\n",
    "import pyarrow.csv\n",
    "import pyarrow.compute\n",
    "import pyarrow.parquet as pq\n",
    "from tqdm.auto import tqdm\n",
    "\n",
    "from geo_transformers import num_utils"
   ]
  },
  {
   "cell_type": "code",
   "execution_count": 2,
   "id": "5dc1f968",
   "metadata": {},
   "outputs": [],
   "source": [
    "import seaborn as sns\n",
    "import matplotlib.pyplot as plt"
   ]
  },
  {
   "cell_type": "code",
   "execution_count": 3,
   "id": "b3d594b5",
   "metadata": {},
   "outputs": [],
   "source": [
    "IN_PATH = \"locations/\"\n",
    "OUT_PATH = \"locations_12h/\""
   ]
  },
  {
   "cell_type": "code",
   "execution_count": 4,
   "id": "8d3aa14f",
   "metadata": {},
   "outputs": [],
   "source": [
    "TOLERANCE = np.timedelta64(3, \"h\")  # max time diff to midnight / noon\n",
    "MIN_DIFF = np.timedelta64(9, \"h\")   # min time diff between consecutive samples\n",
    "MAX_DIFF = np.timedelta64(15, \"h\")  # max time diff between consecutive samples\n",
    "MIN_LEN = 120"
   ]
  },
  {
   "cell_type": "code",
   "execution_count": 5,
   "id": "140a24c9",
   "metadata": {},
   "outputs": [],
   "source": [
    "schema_out = pa.schema([\n",
    "    (\"timestamp\", pa.timestamp(\"us\")),\n",
    "    (\"location_lat\", pa.float64()),\n",
    "    (\"location_long\", pa.float64()),\n",
    "    (\"study_id\", pa.string()),\n",
    "    (\"individual_id\", pa.string()),\n",
    "    (\"deployment_id\", pa.int64()),\n",
    "    (\"seq_id\", pa.string()),\n",
    "#     (\"section\", pa.string())\n",
    "])"
   ]
  },
  {
   "cell_type": "code",
   "execution_count": 6,
   "id": "cd24a6c2",
   "metadata": {},
   "outputs": [],
   "source": [
    "table = pq.read_table(IN_PATH).drop([\"tag_id\"])\n",
    "index_values, index_offsets, index_ends = num_utils.find_repeated(table[\"deployment_id\"].to_numpy())\n",
    "index_lengths = index_ends - index_offsets\n",
    "table_index = dict(zip(index_values, zip(index_offsets, index_lengths)))\n",
    "\n",
    "deployment_ids = sorted(table_index.keys())\n",
    "np.random.default_rng(0).shuffle(deployment_ids)"
   ]
  },
  {
   "cell_type": "code",
   "execution_count": 7,
   "id": "c30d5c56",
   "metadata": {
    "scrolled": true
   },
   "outputs": [
    {
     "data": {
      "application/vnd.jupyter.widget-view+json": {
       "model_id": "ba694aa13ca547c2aa45bab3dddb6720",
       "version_major": 2,
       "version_minor": 0
      },
      "text/plain": [
       "  0%|          | 0/13702 [00:00<?, ?it/s]"
      ]
     },
     "metadata": {},
     "output_type": "display_data"
    }
   ],
   "source": [
    "def process_traj(deployment_id):\n",
    "    batches_out = []\n",
    "\n",
    "    traj = table.slice(*table_index[deployment_id])\n",
    "    traj_df = traj.to_pandas(timestamp_as_object=True)\n",
    "    traj_df = traj_df.sort_values(by=\"timestamp\").reset_index(drop=True)\n",
    "\n",
    "    orig_len = len(traj_df)\n",
    "    orig_len_sec = (traj_df[\"timestamp\"].max() - traj_df[\"timestamp\"].min()).total_seconds()\n",
    "    total_trajs = 0\n",
    "    total_events = 0\n",
    "    total_covered = 0\n",
    "\n",
    "    times = traj_df[\"timestamp\"].to_numpy(copy=True).astype(\"datetime64[us]\")\n",
    "    # compute local mean time based on longitude\n",
    "    shift_us = traj_df[\"location_long\"] / 180 * 12 * 3600 * 1e6\n",
    "    times += shift_us.astype(\"timedelta64[us]\")\n",
    "\n",
    "    # round to nearest midnight/noon\n",
    "    halfday = np.timedelta64(12, \"h\").astype(\"timedelta64[us]\")\n",
    "    times_midnight = (times + halfday).astype(\"datetime64[D]\").astype(\"datetime64[us]\")\n",
    "    times_noon = times.astype(\"datetime64[D]\").astype(\"datetime64[us]\") + halfday\n",
    "    times_rounded = np.where(np.abs(times - times_midnight) < np.abs(times - times_noon), times_midnight, times_noon)\n",
    "\n",
    "    def pick_closest(df):\n",
    "        df = df.query(\"abs(timestamp_lmt - time_rounded) <= @TOLERANCE\")\n",
    "        if not len(df):\n",
    "            return df.iloc[[]]\n",
    "        return df.iloc[[df.eval(\"abs(timestamp_lmt - time_rounded)\").argmin()]]\n",
    "\n",
    "    # select based on local mean time, do not touch original timestamps\n",
    "    traj_df = traj_df.assign(timestamp_lmt=times, time_rounded=times_rounded).groupby(\"time_rounded\").apply(pick_closest)\n",
    "    subtraj = []\n",
    "    for _, row in traj_df.eval(\"timestamp_diff = timestamp.astype('datetime64[us]').diff()\").iterrows():\n",
    "        if row[\"timestamp_diff\"] < MIN_DIFF or row[\"timestamp_diff\"] > MAX_DIFF:\n",
    "            if len(subtraj) >= MIN_LEN:\n",
    "                subtraj_df = pd.DataFrame.from_records(subtraj)\n",
    "                subtraj_df[\"seq_id\"] = f\"{deployment_id}_{len(batches_out)}\"\n",
    "\n",
    "                batches_out.append(pa.RecordBatch.from_pandas(\n",
    "                    subtraj_df, schema=schema_out, preserve_index=False))\n",
    "                \n",
    "                total_trajs += 1\n",
    "                total_events += len(subtraj_df)\n",
    "                total_covered += (subtraj_df[\"timestamp\"].max() - subtraj_df[\"timestamp\"].min()).total_seconds()\n",
    "\n",
    "            subtraj = [row]\n",
    "        else:\n",
    "            subtraj.append(row)\n",
    "    \n",
    "    return batches_out, total_trajs, orig_len, orig_len_sec, total_events, total_covered\n",
    "\n",
    "total_trajs, total_orig_len, total_orig_len_sec, total_new_len, total_covered = 0, 0, 0, 0, 0\n",
    "all_batches = []\n",
    "\n",
    "#[process_traj(di) for di in tqdm(deployment_ids)]\n",
    "\n",
    "with cf.ProcessPoolExecutor(32) as pool:\n",
    "    with tqdm(total=len(deployment_ids)) as pbar:\n",
    "        futures = cf.as_completed([pool.submit(process_traj, di) for di in deployment_ids])\n",
    "        for future in futures:\n",
    "            batches_out, num_trajs, orig_len, orig_len_sec, new_len, covered_sec = future.result()\n",
    "            all_batches.extend(batches_out)\n",
    "            total_trajs += num_trajs\n",
    "            total_orig_len += orig_len\n",
    "            total_orig_len_sec += orig_len_sec\n",
    "            total_new_len += new_len\n",
    "            total_covered += covered_sec\n",
    "\n",
    "            pbar.set_postfix(trajs=total_trajs,\n",
    "                             events=total_new_len,\n",
    "                             avg_len=total_new_len/total_trajs if total_trajs > 0 else 0,\n",
    "                             tcov=total_covered/total_orig_len_sec if total_orig_len_sec > 0 else np.nan)\n",
    "            pbar.update(1)"
   ]
  },
  {
   "cell_type": "code",
   "execution_count": 8,
   "id": "e2a4689d",
   "metadata": {},
   "outputs": [
    {
     "data": {
      "text/plain": [
       "'avg_len=330, events=1006936, tcov=0.228, trajs=3052'"
      ]
     },
     "execution_count": 8,
     "metadata": {},
     "output_type": "execute_result"
    }
   ],
   "source": [
    "pbar.postfix"
   ]
  },
  {
   "cell_type": "code",
   "execution_count": 101,
   "id": "21100221",
   "metadata": {},
   "outputs": [],
   "source": [
    "table_out = pa.Table.from_batches(all_batches, schema=schema_out)\n",
    "table_out = table_out.sort_by([(\"study_id\", \"ascending\"),\n",
    "                               (\"seq_id\", \"ascending\"),\n",
    "                               (\"timestamp\", \"ascending\")])"
   ]
  },
  {
   "cell_type": "code",
   "execution_count": 4,
   "id": "a8b0d8f4",
   "metadata": {},
   "outputs": [],
   "source": [
    "individuals = pq.read_table(\"individuals.parquet\").to_pandas().set_index(\"id\")"
   ]
  },
  {
   "cell_type": "code",
   "execution_count": null,
   "id": "bd387579",
   "metadata": {
    "scrolled": true
   },
   "outputs": [],
   "source": [
    "taxon_counts = table_out.select([\"individual_id\", \"seq_id\"]).to_pandas().join(individuals, on=\"individual_id\").groupby([\"taxon\"]).agg({\"individual_id\": \"nunique\", \"seq_id\": [\"nunique\", \"count\"]}).sort_values(by=(\"individual_id\", \"nunique\"), ascending=False)\n",
    "\n",
    "with pd.option_context('display.max_rows', 100):\n",
    "    ipd.display(taxon_counts)"
   ]
  },
  {
   "cell_type": "code",
   "execution_count": 104,
   "id": "b8af4ab1",
   "metadata": {},
   "outputs": [
    {
     "data": {
      "text/plain": [
       "individual_id  nunique       1506\n",
       "seq_id         nunique       3052\n",
       "               count      1006936\n",
       "dtype: int64"
      ]
     },
     "execution_count": 104,
     "metadata": {},
     "output_type": "execute_result"
    }
   ],
   "source": [
    "taxon_counts.sum()"
   ]
  },
  {
   "cell_type": "code",
   "execution_count": 105,
   "id": "035f21e8",
   "metadata": {},
   "outputs": [],
   "source": [
    "# Select individuals available for test/validation set\n",
    "avail_taxons = list(taxon_counts[taxon_counts[\"individual_id\", \"nunique\"] >= 10].index)\n",
    "avail_taxons.remove(\"\")\n",
    "avail_individuals = list(individuals.query(\"taxon in @avail_taxons\").index)\n",
    "\n",
    "# Do train/val/test split\n",
    "len_val, len_test = len(avail_individuals) // 25, len(avail_individuals) // 20\n",
    "np.random.default_rng(0).shuffle(avail_individuals)\n",
    "ids_val = pa.array(avail_individuals[:len_val])\n",
    "ids_test = pa.array(avail_individuals[len_val:len_val + len_test])\n",
    "section_names = np.select([\n",
    "    pa.compute.is_in(table_out[\"individual_id\"], ids_val).to_numpy(),\n",
    "    pa.compute.is_in(table_out[\"individual_id\"], ids_test).to_numpy()\n",
    "], [\"val\", \"test\"], \"train\")\n",
    "table_out_split = table_out.append_column(\"section\", pa.array(section_names))\n",
    "\n",
    "# Check that the training set has all the taxons\n",
    "assert set(table_out_split.to_pandas().query(\"section == 'train'\").join(individuals, on=\"individual_id\")[\"taxon\"]) == set(table_out.select([\"individual_id\"]).to_pandas().join(individuals[\"taxon\"], on=\"individual_id\")[\"taxon\"])"
   ]
  },
  {
   "cell_type": "code",
   "execution_count": 106,
   "id": "37a21371",
   "metadata": {},
   "outputs": [
    {
     "data": {
      "text/html": [
       "<div>\n",
       "<style scoped>\n",
       "    .dataframe tbody tr th:only-of-type {\n",
       "        vertical-align: middle;\n",
       "    }\n",
       "\n",
       "    .dataframe tbody tr th {\n",
       "        vertical-align: top;\n",
       "    }\n",
       "\n",
       "    .dataframe thead tr th {\n",
       "        text-align: left;\n",
       "    }\n",
       "\n",
       "    .dataframe thead tr:last-of-type th {\n",
       "        text-align: right;\n",
       "    }\n",
       "</style>\n",
       "<table border=\"1\" class=\"dataframe\">\n",
       "  <thead>\n",
       "    <tr>\n",
       "      <th></th>\n",
       "      <th>individual_id</th>\n",
       "      <th>taxon</th>\n",
       "      <th colspan=\"2\" halign=\"left\">seq_id</th>\n",
       "    </tr>\n",
       "    <tr>\n",
       "      <th></th>\n",
       "      <th>nunique</th>\n",
       "      <th>nunique</th>\n",
       "      <th>nunique</th>\n",
       "      <th>count</th>\n",
       "    </tr>\n",
       "    <tr>\n",
       "      <th>section</th>\n",
       "      <th></th>\n",
       "      <th></th>\n",
       "      <th></th>\n",
       "      <th></th>\n",
       "    </tr>\n",
       "  </thead>\n",
       "  <tbody>\n",
       "    <tr>\n",
       "      <th>test</th>\n",
       "      <td>70</td>\n",
       "      <td>23</td>\n",
       "      <td>133</td>\n",
       "      <td>40334</td>\n",
       "    </tr>\n",
       "    <tr>\n",
       "      <th>train</th>\n",
       "      <td>1383</td>\n",
       "      <td>63</td>\n",
       "      <td>2786</td>\n",
       "      <td>915618</td>\n",
       "    </tr>\n",
       "    <tr>\n",
       "      <th>val</th>\n",
       "      <td>53</td>\n",
       "      <td>17</td>\n",
       "      <td>133</td>\n",
       "      <td>50984</td>\n",
       "    </tr>\n",
       "  </tbody>\n",
       "</table>\n",
       "</div>"
      ],
      "text/plain": [
       "        individual_id   taxon  seq_id        \n",
       "              nunique nunique nunique   count\n",
       "section                                      \n",
       "test               70      23     133   40334\n",
       "train            1383      63    2786  915618\n",
       "val                53      17     133   50984"
      ]
     },
     "metadata": {},
     "output_type": "display_data"
    }
   ],
   "source": [
    "taxon_counts_split = table_out_split.select([\"individual_id\", \"seq_id\", \"section\"]).to_pandas().join(individuals, on=\"individual_id\").groupby([\"taxon\", \"section\"]).agg({\"individual_id\": \"nunique\", \"taxon\": [\"nunique\"], \"seq_id\": [\"nunique\", \"count\"]}).sort_values(by=(\"individual_id\", \"nunique\"), ascending=False)\n",
    "ipd.display(taxon_counts_split.groupby(\"section\").sum())"
   ]
  },
  {
   "cell_type": "code",
   "execution_count": 107,
   "id": "592eea93",
   "metadata": {},
   "outputs": [],
   "source": [
    "pq.write_to_dataset(table_out_split, OUT_PATH, partition_cols=[\"section\", \"study_id\"])"
   ]
  },
  {
   "cell_type": "markdown",
   "id": "9df245c5",
   "metadata": {},
   "source": [
    "  "
   ]
  },
  {
   "cell_type": "code",
   "execution_count": 108,
   "id": "064efd12",
   "metadata": {},
   "outputs": [
    {
     "data": {
      "text/plain": [
       "<AxesSubplot:ylabel='Frequency'>"
      ]
     },
     "execution_count": 108,
     "metadata": {},
     "output_type": "execute_result"
    },
    {
     "data": {
      "image/png": "[encoded data removed]",
      "text/plain": [
       "<Figure size 432x288 with 1 Axes>"
      ]
     },
     "metadata": {
      "needs_background": "light"
     },
     "output_type": "display_data"
    }
   ],
   "source": [
    "df = pq.read_table(OUT_PATH, columns=[\"timestamp\", \"location_long\"]).to_pandas()\n",
    "((df[\"timestamp\"].dt.hour + df[\"timestamp\"].dt.minute / 60 + df[\"location_long\"] / 15 + 24) % 24).plot.hist(bins=np.linspace(0., 24., 25))"
   ]
  },
  {
   "cell_type": "code",
   "execution_count": 114,
   "id": "90812a63",
   "metadata": {},
   "outputs": [
    {
     "name": "stderr",
     "output_type": "stream",
     "text": [
      "/tmp/ipykernel_3782196/4115562341.py:2: VisibleDeprecationWarning: Passing `normed=True` on non-uniform bins has always been broken, and computes neither the probability density function nor the probability mass function. The result is only correct if the bins are uniform, when density=True will produce the same result anyway. The argument will be removed in a future version of numpy.\n",
      "  hist, bins = np.histogram((df[\"timestamp\"].dt.hour + df[\"timestamp\"].dt.minute / 60 + df[\"location_long\"] / 15 + 24) % 24, bins=np.linspace(0., 24., 25), normed=True)\n"
     ]
    },
    {
     "data": {
      "image/png": "[encoded data removed]",
      "text/plain": [
       "<Figure size 432x288 with 1 Axes>"
      ]
     },
     "metadata": {
      "needs_background": "light"
     },
     "output_type": "display_data"
    }
   ],
   "source": [
    "df = pq.read_table(OUT_PATH, columns=[\"timestamp\", \"location_long\"]).to_pandas()\n",
    "hist, bins = np.histogram((df[\"timestamp\"].dt.hour + df[\"timestamp\"].dt.minute / 60 + df[\"location_long\"] / 15 + 24) % 24, bins=np.linspace(0., 24., 25), normed=True)\n",
    "plt.polar((bins + 0.5) / 24 * 2 * np.pi, [*hist, hist[0]])\n",
    "plt.gca().set_theta_zero_location('N')\n",
    "plt.gca().set_theta_direction(-1)\n",
    "plt.xticks(np.arange(24) / 24 * 2 * np.pi, np.arange(24))\n",
    "plt.gca().set_yticklabels([])\n",
    "plt.show()"
   ]
  },
  {
   "cell_type": "code",
   "execution_count": 117,
   "id": "ac00d9aa",
   "metadata": {},
   "outputs": [
    {
     "data": {
      "text/plain": [
       "<AxesSubplot:ylabel='Frequency'>"
      ]
     },
     "execution_count": 117,
     "metadata": {},
     "output_type": "execute_result"
    },
    {
     "data": {
      "image/png": "[encoded data removed]",
      "text/plain": [
       "<Figure size 432x288 with 1 Axes>"
      ]
     },
     "metadata": {
      "needs_background": "light"
     },
     "output_type": "display_data"
    }
   ],
   "source": [
    "(pq.read_table(OUT_PATH, columns=[\"timestamp\", \"seq_id\"]).to_pandas()\n",
    " .groupby(\"seq_id\")[\"timestamp\"].apply(pd.Series.diff)\n",
    " .apply(lambda dt: dt.total_seconds() / 3600)\n",
    " .plot.hist(bins=24))"
   ]
  }
 ],
 "metadata": {
  "kernelspec": {
   "display_name": "geo-transformers",
   "language": "python",
   "name": "geo-transformers"
  },
  "language_info": {
   "codemirror_mode": {
    "name": "ipython",
    "version": 3
   },
   "file_extension": ".py",
   "mimetype": "text/x-python",
   "name": "python",
   "nbconvert_exporter": "python",
   "pygments_lexer": "ipython3",
   "version": "3.9.7"
  }
 },
 "nbformat": 4,
 "nbformat_minor": 5
}
