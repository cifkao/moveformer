{
 "cells": [
  {
   "cell_type": "code",
   "execution_count": 1,
   "id": "09385bfb",
   "metadata": {},
   "outputs": [],
   "source": [
    "import datetime\n",
    "from pathlib import Path\n",
    "\n",
    "import numpy as np\n",
    "import pandas as pd\n",
    "import pyarrow as pa\n",
    "import pyarrow.csv\n",
    "import pyarrow.compute\n",
    "import pyarrow.parquet as pq\n",
    "import pytz\n",
    "from tqdm.auto import tqdm"
   ]
  },
  {
   "cell_type": "code",
   "execution_count": 2,
   "id": "9aa16970",
   "metadata": {},
   "outputs": [],
   "source": [
    "schema_in = pa.schema([\n",
    "    (\"species\", pa.string()),\n",
    "    (\"animalID\", pa.string()),\n",
    "    (\"collarID\", pa.string()),\n",
    "    (\"date_time_local\", pa.timestamp(\"us\")),\n",
    "    (\"lon\", pa.float64()),\n",
    "    (\"lat\", pa.float64()),\n",
    "    (\"tz\", pa.string()),\n",
    "    (\"source\", pa.string()),\n",
    "    (\"trackID\", pa.string()),\n",
    "])\n",
    "\n",
    "schema_out = pa.schema([\n",
    "    (\"timestamp\", pa.timestamp(\"us\")),\n",
    "    (\"location_lat\", pa.float64()),\n",
    "    (\"location_long\", pa.float64()),\n",
    "    (\"study_id\", pa.string()),\n",
    "    (\"individual_id\", pa.string()),\n",
    "    (\"deployment_id\", pa.string()),\n",
    "    (\"tag_id\", pa.string()),\n",
    "#     (\"section\", pa.string())\n",
    "])"
   ]
  },
  {
   "cell_type": "code",
   "execution_count": 3,
   "id": "eeefaae5",
   "metadata": {},
   "outputs": [],
   "source": [
    "table = pa.csv.read_csv(\"all.csv\",\n",
    "                        convert_options=pa.csv.ConvertOptions(\n",
    "                            column_types=schema_in,\n",
    "                            timestamp_parsers=[\"%Y-%m-%dT%H:%M:%SZ\"]\n",
    "                        ))"
   ]
  },
  {
   "cell_type": "code",
   "execution_count": 4,
   "id": "e367592e",
   "metadata": {},
   "outputs": [],
   "source": [
    "table_df = table.to_pandas()"
   ]
  },
  {
   "cell_type": "code",
   "execution_count": 5,
   "id": "4d82bdde",
   "metadata": {
    "scrolled": false
   },
   "outputs": [],
   "source": [
    "def timestamps_to_utc(df):\n",
    "    assert df[\"tz\"].nunique() == 1\n",
    "    try:\n",
    "        df[\"timestamp\"] = df[\"date_time_local\"].dt.tz_localize(df[\"tz\"].iloc[0], ambiguous=\"infer\")\n",
    "    except pytz.AmbiguousTimeError:\n",
    "        # remove ambiguous ones if infer failed\n",
    "        df[\"timestamp\"] = df[\"date_time_local\"].dt.tz_localize(df[\"tz\"].iloc[0], ambiguous=\"NaT\")\n",
    "        df = df.query(\"not timestamp.isna()\")\n",
    "    df[\"timestamp\"] = df[\"timestamp\"].dt.tz_convert(\"UTC\").dt.tz_localize(None)\n",
    "    return df\n",
    "\n",
    "table_df = table_df.groupby(\"tz\").apply(timestamps_to_utc).reset_index(level=\"tz\", drop=True).sort_index()"
   ]
  },
  {
   "cell_type": "code",
   "execution_count": 6,
   "id": "985b63f5",
   "metadata": {},
   "outputs": [],
   "source": [
    "table_df = table_df.query(\"source.str.contains('simon') and not lon.isna() and not lat.isna()\")"
   ]
  },
  {
   "cell_type": "code",
   "execution_count": 7,
   "id": "79bc6004",
   "metadata": {},
   "outputs": [],
   "source": [
    "table_out_df = pd.DataFrame.from_dict({\n",
    "    \"timestamp\": table_df[\"timestamp\"],\n",
    "    \"location_lat\": table_df[\"lat\"],\n",
    "    \"location_long\": table_df[\"lon\"],\n",
    "    \"study_id\": table_df[\"source\"].str.cat(table_df[\"site\"], sep=\" - \"),\n",
    "    \"individual_id\": table_df[\"animalID\"],\n",
    "    \"deployment_id\": table_df[\"trackID\"],\n",
    "    \"tag_id\": table_df[\"collarID\"],\n",
    "})"
   ]
  },
  {
   "cell_type": "code",
   "execution_count": 8,
   "id": "adcdbf3d",
   "metadata": {},
   "outputs": [],
   "source": [
    "table_out = pa.Table.from_pandas(table_out_df, preserve_index=False, schema=schema_out)"
   ]
  },
  {
   "cell_type": "code",
   "execution_count": 9,
   "id": "6b676a8c",
   "metadata": {},
   "outputs": [],
   "source": [
    "table_out = table_out.sort_by([(\"individual_id\", \"ascending\"),\n",
    "                               (\"deployment_id\", \"ascending\"),\n",
    "                               (\"timestamp\", \"ascending\")])"
   ]
  },
  {
   "cell_type": "code",
   "execution_count": 10,
   "id": "9f02f9e9",
   "metadata": {},
   "outputs": [],
   "source": [
    "with pq.ParquetWriter(\"locations_simon.parquet\", schema=schema_out) as writer:\n",
    "    writer.write_table(table_out)"
   ]
  },
  {
   "cell_type": "code",
   "execution_count": 11,
   "id": "b1215fac",
   "metadata": {
    "scrolled": false
   },
   "outputs": [],
   "source": [
    "# Convert metadata about individuals to a parquet file\n",
    "schema_out_indiv = pa.schema([\n",
    "    (\"id\", pa.string()),\n",
    "    (\"species\", pa.string())\n",
    "])\n",
    "\n",
    "indiv_df = table_df[[\"animalID\", \"species\"]].rename(columns={\"animalID\": \"id\"}).drop_duplicates()\n",
    "indiv_table = pa.Table.from_pandas(indiv_df, preserve_index=False, schema=schema_out_indiv)\n",
    "\n",
    "with pq.ParquetWriter(\"individuals_simon.parquet\", schema=schema_out_indiv) as writer:\n",
    "    writer.write_table(indiv_table)"
   ]
  },
  {
   "cell_type": "code",
   "execution_count": 12,
   "id": "6ebedd59",
   "metadata": {},
   "outputs": [
    {
     "data": {
      "text/plain": [
       "True"
      ]
     },
     "execution_count": 12,
     "metadata": {},
     "output_type": "execute_result"
    }
   ],
   "source": [
    "# Check that each animalID has exactly one unique species\n",
    "(table_df.groupby(\"animalID\").agg({\"species\": \"nunique\"}) == 1).all().all()"
   ]
  }
 ],
 "metadata": {
  "kernelspec": {
   "display_name": "geo-transformers",
   "language": "python",
   "name": "geo-transformers"
  },
  "language_info": {
   "codemirror_mode": {
    "name": "ipython",
    "version": 3
   },
   "file_extension": ".py",
   "mimetype": "text/x-python",
   "name": "python",
   "nbconvert_exporter": "python",
   "pygments_lexer": "ipython3",
   "version": "3.9.7"
  }
 },
 "nbformat": 4,
 "nbformat_minor": 5
}
