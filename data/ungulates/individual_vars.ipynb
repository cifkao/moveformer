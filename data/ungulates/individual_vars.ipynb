{
 "cells": [
  {
   "cell_type": "code",
   "execution_count": 1,
   "id": "bd9223c9",
   "metadata": {},
   "outputs": [],
   "source": [
    "import bz2\n",
    "import functools\n",
    "import pickle\n",
    "\n",
    "import numpy as np\n",
    "import pandas as pd\n",
    "import pyarrow as pa\n",
    "import pyarrow.parquet as pq\n",
    "import wikipedia2vec"
   ]
  },
  {
   "cell_type": "code",
   "execution_count": 2,
   "id": "511e169c",
   "metadata": {},
   "outputs": [
    {
     "name": "stderr",
     "output_type": "stream",
     "text": [
      "/home/ocifka/miniconda3/envs/wiki2vec/lib/python3.8/contextlib.py:113: UserWarning: \"<bz2.BZ2File object at 0x7f444c61eee0>\" is not a raw file, mmap_mode \"c\" flag will be ignored.\n",
      "  return next(self.gen)\n"
     ]
    }
   ],
   "source": [
    "with bz2.open(\"../enwiki_20180420_100d.pkl.bz2\", \"rb\") as f:\n",
    "    wiki2vec = wikipedia2vec.Wikipedia2Vec.load(f)"
   ]
  },
  {
   "cell_type": "code",
   "execution_count": 3,
   "id": "831b647b",
   "metadata": {
    "scrolled": true
   },
   "outputs": [],
   "source": [
    "individuals = pd.read_parquet(\"individuals_simon.parquet\")"
   ]
  },
  {
   "cell_type": "code",
   "execution_count": 4,
   "id": "8fd9f6d9",
   "metadata": {},
   "outputs": [],
   "source": [
    "# Manually defined cases that are not resolved automatically\n",
    "TAXON_MAP = {\n",
    "    \"Mountain caribou\": \"Rangifer tarandus\"\n",
    "}"
   ]
  },
  {
   "cell_type": "code",
   "execution_count": 5,
   "id": "77fef990",
   "metadata": {},
   "outputs": [
    {
     "name": "stdout",
     "output_type": "stream",
     "text": [
      "Wild boar -> <Entity Wild boar>\n",
      "Blue wildebeest -> <Entity Blue wildebeest>\n",
      "Plains zebra -> <Entity Plains zebra>\n",
      "African elephant -> <Entity African elephant>\n"
     ]
    }
   ],
   "source": [
    "taxon2emb = {}\n",
    "\n",
    "for taxon in individuals[\"species\"].unique():\n",
    "    print(taxon, end=\" \")\n",
    "    entity = None\n",
    "    if taxon in TAXON_MAP:\n",
    "        entity = wiki2vec.get_entity(TAXON_MAP[taxon])\n",
    "        print(\"->\", TAXON_MAP[taxon], end=\" \")\n",
    "    else:\n",
    "        entity = wiki2vec.get_entity(taxon)\n",
    "    if entity is None:\n",
    "        print(\"-> FAIL\")\n",
    "    else:\n",
    "        print(\"->\", entity)\n",
    "        taxon2emb[taxon] = wiki2vec.get_vector(entity)"
   ]
  },
  {
   "cell_type": "code",
   "execution_count": 6,
   "id": "363e11e2",
   "metadata": {},
   "outputs": [],
   "source": [
    "nan_emb = next(iter(taxon2emb.values())) * np.nan"
   ]
  },
  {
   "cell_type": "code",
   "execution_count": 7,
   "id": "7e46a510",
   "metadata": {},
   "outputs": [],
   "source": [
    "individual2emb = {\n",
    "    ind: taxon2emb[taxon] if taxon in taxon2emb else nan_emb\n",
    "    for ind, taxon in individuals[[\"id\", \"species\"]].drop_duplicates().itertuples(index=False)\n",
    "}\n",
    "\n",
    "with open(\"individual2taxon_emb_simon.pickle\", \"wb\") as f:\n",
    "    pickle.dump(individual2emb, f)"
   ]
  }
 ],
 "metadata": {
  "kernelspec": {
   "display_name": "wiki2vec",
   "language": "python",
   "name": "wiki2vec"
  },
  "language_info": {
   "codemirror_mode": {
    "name": "ipython",
    "version": 3
   },
   "file_extension": ".py",
   "mimetype": "text/x-python",
   "name": "python",
   "nbconvert_exporter": "python",
   "pygments_lexer": "ipython3",
   "version": "3.8.13"
  }
 },
 "nbformat": 4,
 "nbformat_minor": 5
}
