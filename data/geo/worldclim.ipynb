{
 "cells": [
  {
   "cell_type": "markdown",
   "id": "ab4adc04",
   "metadata": {},
   "source": [
    "BIO1 = Annual Mean Temperature  \n",
    "BIO2 = Mean Diurnal Range (Mean of monthly (max temp - min temp))  \n",
    "BIO3 = Isothermality (BIO2/BIO7) (×100)  \n",
    "BIO4 = Temperature Seasonality (standard deviation ×100)  \n",
    "BIO5 = Max Temperature of Warmest Month  \n",
    "BIO6 = Min Temperature of Coldest Month  \n",
    "BIO7 = Temperature Annual Range (BIO5-BIO6)  \n",
    "BIO8 = Mean Temperature of Wettest Quarter  \n",
    "BIO9 = Mean Temperature of Driest Quarter  \n",
    "BIO10 = Mean Temperature of Warmest Quarter  \n",
    "BIO11 = Mean Temperature of Coldest Quarter  \n",
    "BIO12 = Annual Precipitation  \n",
    "BIO13 = Precipitation of Wettest Month  \n",
    "BIO14 = Precipitation of Driest Month  \n",
    "BIO15 = Precipitation Seasonality (Coefficient of Variation)  \n",
    "BIO16 = Precipitation of Wettest Quarter  \n",
    "BIO17 = Precipitation of Driest Quarter  \n",
    "BIO18 = Precipitation of Warmest Quarter  \n",
    "BIO19 = Precipitation of Coldest Quarter"
   ]
  },
  {
   "cell_type": "code",
   "execution_count": 1,
   "id": "4f7cad70",
   "metadata": {},
   "outputs": [],
   "source": [
    "from pathlib import Path\n",
    "\n",
    "import numpy as np\n",
    "import pandas as pd\n",
    "import rasterio\n",
    "from tqdm.auto import tqdm\n",
    "import yaml"
   ]
  },
  {
   "cell_type": "code",
   "execution_count": 2,
   "id": "b25472e0",
   "metadata": {},
   "outputs": [],
   "source": [
    "PATHS = [\n",
    "    Path(f\"wc2.1_30s/wc2.1_30s_bio_{i}.tif\")\n",
    "    for i in range(1, 19 + 1)\n",
    "]"
   ]
  },
  {
   "cell_type": "code",
   "execution_count": 3,
   "id": "9ca740e2",
   "metadata": {},
   "outputs": [
    {
     "data": {
      "application/vnd.jupyter.widget-view+json": {
       "model_id": "a3533b169d7a448bbb6030a83bcc9bfa",
       "version_major": 2,
       "version_minor": 0
      },
      "text/plain": [
       "  0%|          | 0/19 [00:00<?, ?it/s]"
      ]
     },
     "metadata": {},
     "output_type": "display_data"
    }
   ],
   "source": [
    "# Save the files with a better block shape\n",
    "\n",
    "Path(\"wc2.1_30s_reformat/\").mkdir(exist_ok=True)\n",
    "\n",
    "for path in tqdm(PATHS):\n",
    "    with rasterio.open(path) as dataset:\n",
    "        path_out = Path(\"wc2.1_30s_reformat/\") / path.name\n",
    "        profile = dict(dataset.profile)\n",
    "        profile.update(tiled=True, blockxsize=144, blockysize=80)\n",
    "        with rasterio.open(path_out, \"w\", **profile) as dataset_out:\n",
    "            dataset_out.write(dataset.read(masked=True))"
   ]
  },
  {
   "cell_type": "code",
   "execution_count": 4,
   "id": "0c83a181",
   "metadata": {},
   "outputs": [
    {
     "data": {
      "application/vnd.jupyter.widget-view+json": {
       "model_id": "b3541c0bb7fb4d79bbed6c2ee598e6c5",
       "version_major": 2,
       "version_minor": 0
      },
      "text/plain": [
       "  0%|          | 0/19 [00:00<?, ?it/s]"
      ]
     },
     "metadata": {},
     "output_type": "display_data"
    }
   ],
   "source": [
    "# Check that the result is correct\n",
    "\n",
    "for path in tqdm(PATHS):\n",
    "    path_out = Path(\"wc2.1_30s_reformat/\") / path.name\n",
    "    with rasterio.open(path) as dataset, rasterio.open(path_out) as dataset2:\n",
    "        assert (dataset.read() == dataset2.read()).all()"
   ]
  },
  {
   "cell_type": "code",
   "execution_count": 5,
   "id": "77983f5c",
   "metadata": {},
   "outputs": [
    {
     "data": {
      "application/vnd.jupyter.widget-view+json": {
       "model_id": "010cef97c99c4a4998fa5e7c00efae86",
       "version_major": 2,
       "version_minor": 0
      },
      "text/plain": [
       "  0%|          | 0/19 [00:00<?, ?it/s]"
      ]
     },
     "metadata": {},
     "output_type": "display_data"
    }
   ],
   "source": [
    "# Calculate statistics\n",
    "\n",
    "means = []\n",
    "inv_stds = []\n",
    "for path in tqdm(PATHS):\n",
    "    path = Path(\"wc2.1_30s_reformat/\") / path.name\n",
    "    with rasterio.open(path) as dataset:\n",
    "        data = dataset.read(masked=True)\n",
    "        means.append(data.mean())\n",
    "        inv_stds.append(1 / data.std())\n",
    "        del data"
   ]
  },
  {
   "cell_type": "code",
   "execution_count": 6,
   "id": "ede01aed",
   "metadata": {},
   "outputs": [
    {
     "name": "stdout",
     "output_type": "stream",
     "text": [
      "[-4.444607781058798, 10.096086344492093, 34.370007727122236, 891.2090319373718, 13.787539469205488, -20.40271177134371, 34.19024379094415, -1.3611660708992686, -5.745056777226296, 6.941681041726127, -14.421294752932441, 532.131499794549, 91.45147736774582, 14.40531286690578, 75.82097431192203, 235.65372064235214, 52.30173682400658, 152.5487079282464, 104.11886525145661]\n"
     ]
    }
   ],
   "source": [
    "print(repr(means))"
   ]
  },
  {
   "cell_type": "code",
   "execution_count": 7,
   "id": "f1eeb6ca",
   "metadata": {},
   "outputs": [
    {
     "name": "stdout",
     "output_type": "stream",
     "text": [
      "[0.040476010033391005, 0.3214225280748891, 0.05344555694549748, 0.0021399762797460935, 0.04606637955532394, 0.03843761811508031, 0.08331273603316934, 0.03430459261257326, 0.04390995464841662, 0.04717281544850558, 0.0373186472451054, 0.0015872099327125268, 0.009792140739007598, 0.036879766047647554, 0.02270102763233621, 0.0036459771924056417, 0.011045701305820062, 0.005456338375624682, 0.005517603053323615]\n"
     ]
    }
   ],
   "source": [
    "print(repr(inv_stds))"
   ]
  },
  {
   "cell_type": "markdown",
   "id": "d63ead4c",
   "metadata": {},
   "source": [
    "  "
   ]
  }
 ],
 "metadata": {
  "kernelspec": {
   "display_name": "geo-transformers",
   "language": "python",
   "name": "geo-transformers"
  },
  "language_info": {
   "codemirror_mode": {
    "name": "ipython",
    "version": 3
   },
   "file_extension": ".py",
   "mimetype": "text/x-python",
   "name": "python",
   "nbconvert_exporter": "python",
   "pygments_lexer": "ipython3",
   "version": "3.9.7"
  }
 },
 "nbformat": 4,
 "nbformat_minor": 5
}
