{
 "cells": [
  {
   "cell_type": "code",
   "execution_count": 1,
   "id": "dffab3f7",
   "metadata": {},
   "outputs": [],
   "source": [
    "import concurrent.futures as cf\n",
    "import math\n",
    "import os\n",
    "from pathlib import Path\n",
    "import shutil\n",
    "import sys\n",
    "import uuid\n",
    "\n",
    "import dask\n",
    "import dask.dataframe as dd\n",
    "import dask.array as da\n",
    "import dask.diagnostics\n",
    "from geo_transformers.models.any_horizon_forecast_transformer import AnyHorizonForecastTransformerCLI, SelectionHead\n",
    "from geo_transformers import training_utils, notebook_utils\n",
    "import IPython.display as ipd\n",
    "import jsonargparse\n",
    "import matplotlib as mpl\n",
    "import matplotlib.pyplot as plt\n",
    "import numpy as np\n",
    "import pandas as pd\n",
    "from pandarallel import pandarallel\n",
    "import pyarrow.parquet as pq\n",
    "import seaborn as sns\n",
    "import torch\n",
    "from torch.nn import functional as F\n",
    "from tqdm.auto import tqdm\n",
    "import wandb\n",
    "import yaml"
   ]
  },
  {
   "cell_type": "code",
   "execution_count": 2,
   "id": "92de03fb",
   "metadata": {},
   "outputs": [],
   "source": [
    "TMP_DIR = Path(\"/tmp/tmp.9YSt0bTTXY\")"
   ]
  },
  {
   "cell_type": "code",
   "execution_count": 3,
   "id": "86db1060",
   "metadata": {},
   "outputs": [
    {
     "name": "stdout",
     "output_type": "stream",
     "text": [
      "INFO: Pandarallel will run on 16 workers.\n",
      "INFO: Pandarallel will use Memory file system to transfer data between the main process and workers.\n"
     ]
    }
   ],
   "source": [
    "pandarallel.initialize(progress_bar=False)"
   ]
  },
  {
   "cell_type": "markdown",
   "id": "24b5b316",
   "metadata": {},
   "source": [
    "## Load metadata"
   ]
  },
  {
   "cell_type": "code",
   "execution_count": 4,
   "id": "e99212c8",
   "metadata": {},
   "outputs": [],
   "source": [
    "individuals_df = pq.read_table(\"../data/movebank+ungulates/individuals.parquet\").to_pandas().set_index(\"id\")"
   ]
  },
  {
   "cell_type": "code",
   "execution_count": 5,
   "id": "b22853c7",
   "metadata": {},
   "outputs": [],
   "source": [
    "seq_to_individual = (pq.read_table(\"../data/movebank+ungulates/locations_12h/\", columns=[\"seq_id\", \"individual_id\"])\n",
    " .to_pandas().drop_duplicates()\n",
    " .join(individuals_df, on=\"individual_id\")\n",
    " .set_index(\"seq_id\"))"
   ]
  },
  {
   "cell_type": "markdown",
   "id": "abb6084f",
   "metadata": {},
   "source": [
    "## Load model and data"
   ]
  },
  {
   "cell_type": "code",
   "execution_count": 6,
   "id": "b872721b",
   "metadata": {},
   "outputs": [
    {
     "name": "stdout",
     "output_type": "stream",
     "text": [
      "../exp/forecast_mbk+ung_12h/geo-transformers/37ld98g9/checkpoints/epoch=169-step=23629-best.ckpt\n"
     ]
    }
   ],
   "source": [
    "#ENTITY = \"wandb-user\"\n",
    "PROJECT = \"geo-transformers\"\n",
    "RUN_ID = \"37ld98g9\"\n",
    "\n",
    "#run_path = f\"{ENTITY}/{PROJECT}/{RUN_ID}\"\n",
    "run_dir = Path(f\"../exp/forecast_mbk+ung_12h/{PROJECT}/{RUN_ID}\")\n",
    "\n",
    "[ckpt_path] = sorted((run_dir / \"checkpoints\").glob(\"*-best.ckpt\"))\n",
    "print(ckpt_path)"
   ]
  },
  {
   "cell_type": "code",
   "execution_count": 7,
   "id": "6acd4a9a",
   "metadata": {},
   "outputs": [],
   "source": [
    "if (run_dir / \"config.yaml\").exists():\n",
    "    f = open(run_dir / \"config.yaml\")\n",
    "else:\n",
    "    run_dir.mkdir(exist_ok=True)\n",
    "    f = wandb.restore(\"config.yaml\", run_path=run_path, root=run_dir)\n",
    "with f:\n",
    "    config_dict = yaml.load(f, Loader=yaml.SafeLoader)\n",
    "config_dict = config_dict[\"fit\"][\"value\"]\n",
    "config_dict[\"trainer\"][\"logger\"] = False\n",
    "\n",
    "# do not split examples, keep full length; we extract our own slices later\n",
    "for section in [\"train\", \"val\", \"test\"]:\n",
    "    config_dict[\"data\"][section][\"split_max_len\"] = None\n",
    "    config_dict[\"data\"][section][\"encoded_max_len\"] = None\n",
    "\n",
    "del config_dict[\"seed_everything\"], config_dict[\"ckpt_path\"]"
   ]
  },
  {
   "cell_type": "code",
   "execution_count": 8,
   "id": "924622de",
   "metadata": {},
   "outputs": [],
   "source": [
    "with notebook_utils.chdir(\"..\"):\n",
    "    config, objects = notebook_utils.load_experiment(AnyHorizonForecastTransformerCLI, config_dict)\n",
    "\n",
    "    trainer = objects[\"trainer\"]\n",
    "    model = objects[\"model\"]\n",
    "    dmodule = objects[\"data\"]\n",
    "    dmodule.setup(stage=\"predict\")\n",
    "    processor = dmodule.processor\n",
    "    \n",
    "    dloader = dmodule.test_dataloader()\n",
    "    \n",
    "    dataset_raw = dmodule.test_dataloader().dataset\n",
    "    dataset_raw.preprocess_fn = lambda x: x"
   ]
  },
  {
   "cell_type": "code",
   "execution_count": 9,
   "id": "8f3f0ee4",
   "metadata": {},
   "outputs": [
    {
     "data": {
      "text/plain": [
       "<All keys matched successfully>"
      ]
     },
     "execution_count": 9,
     "metadata": {},
     "output_type": "execute_result"
    }
   ],
   "source": [
    "model.load_state_dict(torch.load(ckpt_path)[\"state_dict\"])"
   ]
  },
  {
   "cell_type": "code",
   "execution_count": 10,
   "id": "226da4d5",
   "metadata": {},
   "outputs": [
    {
     "data": {
      "text/plain": [
       "AnyHorizonForecastTransformer(\n",
       "  (encoder): AttentionLayers(\n",
       "    (layers): ModuleList(\n",
       "      (0): ModuleList(\n",
       "        (0): ModuleList(\n",
       "          (0): LayerNorm((128,), eps=1e-05, elementwise_affine=True)\n",
       "          (1): None\n",
       "          (2): None\n",
       "        )\n",
       "        (1): Attention(\n",
       "          (to_q): Linear(in_features=128, out_features=512, bias=False)\n",
       "          (to_k): Linear(in_features=128, out_features=512, bias=False)\n",
       "          (to_v): Linear(in_features=128, out_features=512, bias=False)\n",
       "          (dropout): Dropout(p=0.0, inplace=False)\n",
       "          (to_out): Linear(in_features=512, out_features=128, bias=True)\n",
       "        )\n",
       "        (2): Residual()\n",
       "      )\n",
       "      (1): ModuleList(\n",
       "        (0): ModuleList(\n",
       "          (0): LayerNorm((128,), eps=1e-05, elementwise_affine=True)\n",
       "          (1): None\n",
       "          (2): None\n",
       "        )\n",
       "        (1): FeedForward(\n",
       "          (net): Sequential(\n",
       "            (0): Sequential(\n",
       "              (0): Linear(in_features=128, out_features=512, bias=True)\n",
       "              (1): GELU()\n",
       "            )\n",
       "            (1): Identity()\n",
       "            (2): Dropout(p=0.0, inplace=False)\n",
       "            (3): Linear(in_features=512, out_features=128, bias=True)\n",
       "          )\n",
       "        )\n",
       "        (2): Residual()\n",
       "      )\n",
       "      (2): ModuleList(\n",
       "        (0): ModuleList(\n",
       "          (0): LayerNorm((128,), eps=1e-05, elementwise_affine=True)\n",
       "          (1): None\n",
       "          (2): None\n",
       "        )\n",
       "        (1): Attention(\n",
       "          (to_q): Linear(in_features=128, out_features=512, bias=False)\n",
       "          (to_k): Linear(in_features=128, out_features=512, bias=False)\n",
       "          (to_v): Linear(in_features=128, out_features=512, bias=False)\n",
       "          (dropout): Dropout(p=0.0, inplace=False)\n",
       "          (to_out): Linear(in_features=512, out_features=128, bias=True)\n",
       "        )\n",
       "        (2): Residual()\n",
       "      )\n",
       "      (3): ModuleList(\n",
       "        (0): ModuleList(\n",
       "          (0): LayerNorm((128,), eps=1e-05, elementwise_affine=True)\n",
       "          (1): None\n",
       "          (2): None\n",
       "        )\n",
       "        (1): FeedForward(\n",
       "          (net): Sequential(\n",
       "            (0): Sequential(\n",
       "              (0): Linear(in_features=128, out_features=512, bias=True)\n",
       "              (1): GELU()\n",
       "            )\n",
       "            (1): Identity()\n",
       "            (2): Dropout(p=0.0, inplace=False)\n",
       "            (3): Linear(in_features=512, out_features=128, bias=True)\n",
       "          )\n",
       "        )\n",
       "        (2): Residual()\n",
       "      )\n",
       "      (4): ModuleList(\n",
       "        (0): ModuleList(\n",
       "          (0): LayerNorm((128,), eps=1e-05, elementwise_affine=True)\n",
       "          (1): None\n",
       "          (2): None\n",
       "        )\n",
       "        (1): Attention(\n",
       "          (to_q): Linear(in_features=128, out_features=512, bias=False)\n",
       "          (to_k): Linear(in_features=128, out_features=512, bias=False)\n",
       "          (to_v): Linear(in_features=128, out_features=512, bias=False)\n",
       "          (dropout): Dropout(p=0.0, inplace=False)\n",
       "          (to_out): Linear(in_features=512, out_features=128, bias=True)\n",
       "        )\n",
       "        (2): Residual()\n",
       "      )\n",
       "      (5): ModuleList(\n",
       "        (0): ModuleList(\n",
       "          (0): LayerNorm((128,), eps=1e-05, elementwise_affine=True)\n",
       "          (1): None\n",
       "          (2): None\n",
       "        )\n",
       "        (1): FeedForward(\n",
       "          (net): Sequential(\n",
       "            (0): Sequential(\n",
       "              (0): Linear(in_features=128, out_features=512, bias=True)\n",
       "              (1): GELU()\n",
       "            )\n",
       "            (1): Identity()\n",
       "            (2): Dropout(p=0.0, inplace=False)\n",
       "            (3): Linear(in_features=512, out_features=128, bias=True)\n",
       "          )\n",
       "        )\n",
       "        (2): Residual()\n",
       "      )\n",
       "      (6): ModuleList(\n",
       "        (0): ModuleList(\n",
       "          (0): LayerNorm((128,), eps=1e-05, elementwise_affine=True)\n",
       "          (1): None\n",
       "          (2): None\n",
       "        )\n",
       "        (1): Attention(\n",
       "          (to_q): Linear(in_features=128, out_features=512, bias=False)\n",
       "          (to_k): Linear(in_features=128, out_features=512, bias=False)\n",
       "          (to_v): Linear(in_features=128, out_features=512, bias=False)\n",
       "          (dropout): Dropout(p=0.0, inplace=False)\n",
       "          (to_out): Linear(in_features=512, out_features=128, bias=True)\n",
       "        )\n",
       "        (2): Residual()\n",
       "      )\n",
       "      (7): ModuleList(\n",
       "        (0): ModuleList(\n",
       "          (0): LayerNorm((128,), eps=1e-05, elementwise_affine=True)\n",
       "          (1): None\n",
       "          (2): None\n",
       "        )\n",
       "        (1): FeedForward(\n",
       "          (net): Sequential(\n",
       "            (0): Sequential(\n",
       "              (0): Linear(in_features=128, out_features=512, bias=True)\n",
       "              (1): GELU()\n",
       "            )\n",
       "            (1): Identity()\n",
       "            (2): Dropout(p=0.0, inplace=False)\n",
       "            (3): Linear(in_features=512, out_features=128, bias=True)\n",
       "          )\n",
       "        )\n",
       "        (2): Residual()\n",
       "      )\n",
       "      (8): ModuleList(\n",
       "        (0): ModuleList(\n",
       "          (0): LayerNorm((128,), eps=1e-05, elementwise_affine=True)\n",
       "          (1): None\n",
       "          (2): None\n",
       "        )\n",
       "        (1): Attention(\n",
       "          (to_q): Linear(in_features=128, out_features=512, bias=False)\n",
       "          (to_k): Linear(in_features=128, out_features=512, bias=False)\n",
       "          (to_v): Linear(in_features=128, out_features=512, bias=False)\n",
       "          (dropout): Dropout(p=0.0, inplace=False)\n",
       "          (to_out): Linear(in_features=512, out_features=128, bias=True)\n",
       "        )\n",
       "        (2): Residual()\n",
       "      )\n",
       "      (9): ModuleList(\n",
       "        (0): ModuleList(\n",
       "          (0): LayerNorm((128,), eps=1e-05, elementwise_affine=True)\n",
       "          (1): None\n",
       "          (2): None\n",
       "        )\n",
       "        (1): FeedForward(\n",
       "          (net): Sequential(\n",
       "            (0): Sequential(\n",
       "              (0): Linear(in_features=128, out_features=512, bias=True)\n",
       "              (1): GELU()\n",
       "            )\n",
       "            (1): Identity()\n",
       "            (2): Dropout(p=0.0, inplace=False)\n",
       "            (3): Linear(in_features=512, out_features=128, bias=True)\n",
       "          )\n",
       "        )\n",
       "        (2): Residual()\n",
       "      )\n",
       "      (10): ModuleList(\n",
       "        (0): ModuleList(\n",
       "          (0): LayerNorm((128,), eps=1e-05, elementwise_affine=True)\n",
       "          (1): None\n",
       "          (2): None\n",
       "        )\n",
       "        (1): Attention(\n",
       "          (to_q): Linear(in_features=128, out_features=512, bias=False)\n",
       "          (to_k): Linear(in_features=128, out_features=512, bias=False)\n",
       "          (to_v): Linear(in_features=128, out_features=512, bias=False)\n",
       "          (dropout): Dropout(p=0.0, inplace=False)\n",
       "          (to_out): Linear(in_features=512, out_features=128, bias=True)\n",
       "        )\n",
       "        (2): Residual()\n",
       "      )\n",
       "      (11): ModuleList(\n",
       "        (0): ModuleList(\n",
       "          (0): LayerNorm((128,), eps=1e-05, elementwise_affine=True)\n",
       "          (1): None\n",
       "          (2): None\n",
       "        )\n",
       "        (1): FeedForward(\n",
       "          (net): Sequential(\n",
       "            (0): Sequential(\n",
       "              (0): Linear(in_features=128, out_features=512, bias=True)\n",
       "              (1): GELU()\n",
       "            )\n",
       "            (1): Identity()\n",
       "            (2): Dropout(p=0.0, inplace=False)\n",
       "            (3): Linear(in_features=512, out_features=128, bias=True)\n",
       "          )\n",
       "        )\n",
       "        (2): Residual()\n",
       "      )\n",
       "    )\n",
       "  )\n",
       "  (prediction_head): SelectionHead(\n",
       "    (candidate_encoder): Sequential(\n",
       "      (0): Linear(in_features=256, out_features=256, bias=True)\n",
       "      (1): GELU()\n",
       "      (2): Linear(in_features=256, out_features=128, bias=True)\n",
       "    )\n",
       "    (combine_emb): Linear(in_features=5, out_features=1, bias=True)\n",
       "    (query_proj): Linear(in_features=128, out_features=128, bias=True)\n",
       "  )\n",
       "  (nan_fill): ParameterDict(\n",
       "      (bioclim): Parameter containing: [torch.cuda.FloatTensor of size 19 (GPU 0)]\n",
       "      (bioclim_cand): Parameter containing: [torch.cuda.FloatTensor of size 19 (GPU 0)]\n",
       "      (bioclim_tgt): Parameter containing: [torch.cuda.FloatTensor of size 19 (GPU 0)]\n",
       "      (dtime_cont): Parameter containing: [torch.cuda.FloatTensor of size 12 (GPU 0)]\n",
       "      (humfoot): Parameter containing: [torch.cuda.FloatTensor of size 1 (GPU 0)]\n",
       "      (humfoot_cand): Parameter containing: [torch.cuda.FloatTensor of size 1 (GPU 0)]\n",
       "      (humfoot_tgt): Parameter containing: [torch.cuda.FloatTensor of size 1 (GPU 0)]\n",
       "      (location): Parameter containing: [torch.cuda.FloatTensor of size 3 (GPU 0)]\n",
       "      (location_cand): Parameter containing: [torch.cuda.FloatTensor of size 3 (GPU 0)]\n",
       "      (location_cand_mov): Parameter containing: [torch.cuda.FloatTensor of size 2 (GPU 0)]\n",
       "      (location_mov): Parameter containing: [torch.cuda.FloatTensor of size 2 (GPU 0)]\n",
       "      (taxon): Parameter containing: [torch.cuda.FloatTensor of size 100 (GPU 0)]\n",
       "      (time_cont): Parameter containing: [torch.cuda.FloatTensor of size 10 (GPU 0)]\n",
       "      (time_cont_tgt): Parameter containing: [torch.cuda.FloatTensor of size 10 (GPU 0)]\n",
       "      (time_lmt): Parameter containing: [torch.cuda.FloatTensor of size 2 (GPU 0)]\n",
       "      (time_lmt_tgt): Parameter containing: [torch.cuda.FloatTensor of size 2 (GPU 0)]\n",
       "  )\n",
       "  (disc_emb): ModuleDict(\n",
       "    (landcover): Embedding(201, 128)\n",
       "    (landcover_cand): Embedding(201, 128)\n",
       "    (landcover_tgt): Embedding(201, 128)\n",
       "    (time_day): Embedding(31, 128)\n",
       "    (time_day_tgt): Embedding(31, 128)\n",
       "    (time_month): Embedding(12, 128)\n",
       "    (time_month_tgt): Embedding(12, 128)\n",
       "    (time_weekday): Embedding(7, 128)\n",
       "    (time_weekday_tgt): Embedding(7, 128)\n",
       "  )\n",
       "  (cont_proj): ModuleDict(\n",
       "    (bioclim): Linear(in_features=19, out_features=128, bias=True)\n",
       "    (bioclim_cand): Linear(in_features=19, out_features=128, bias=True)\n",
       "    (bioclim_tgt): Linear(in_features=19, out_features=128, bias=True)\n",
       "    (dtime_cont): Linear(in_features=12, out_features=128, bias=True)\n",
       "    (humfoot): Linear(in_features=1, out_features=128, bias=True)\n",
       "    (humfoot_cand): Linear(in_features=1, out_features=128, bias=True)\n",
       "    (humfoot_tgt): Linear(in_features=1, out_features=128, bias=True)\n",
       "    (location): Linear(in_features=3, out_features=128, bias=True)\n",
       "    (location_cand): Linear(in_features=3, out_features=128, bias=True)\n",
       "    (location_cand_mov): Linear(in_features=2, out_features=128, bias=True)\n",
       "    (location_mov): Linear(in_features=2, out_features=128, bias=True)\n",
       "    (taxon): Linear(in_features=100, out_features=128, bias=True)\n",
       "    (time_cont): Linear(in_features=10, out_features=128, bias=True)\n",
       "    (time_cont_tgt): Linear(in_features=10, out_features=128, bias=True)\n",
       "    (time_lmt): Linear(in_features=2, out_features=128, bias=True)\n",
       "    (time_lmt_tgt): Linear(in_features=2, out_features=128, bias=True)\n",
       "  )\n",
       "  (combine_in): Linear(in_features=17, out_features=1, bias=True)\n",
       "  (emb_proj): Identity()\n",
       "  (encoder_norm): LayerNorm((128,), eps=1e-05, elementwise_affine=True)\n",
       ")"
      ]
     },
     "execution_count": 10,
     "metadata": {},
     "output_type": "execute_result"
    }
   ],
   "source": [
    "model.cuda()\n",
    "model.train(False)"
   ]
  },
  {
   "cell_type": "markdown",
   "id": "501a5b92",
   "metadata": {},
   "source": [
    "## Prepare data"
   ]
  },
  {
   "cell_type": "code",
   "execution_count": 11,
   "id": "0733bffb",
   "metadata": {},
   "outputs": [],
   "source": [
    "def index_sequence(example, idx):\n",
    "    return {k: v[idx] for k, v in example.items()}"
   ]
  },
  {
   "cell_type": "code",
   "execution_count": 12,
   "id": "6aba94ef",
   "metadata": {},
   "outputs": [],
   "source": [
    "def get_slices(example, max_ctx_len):\n",
    "    n = sum(example[\"mask\"])\n",
    "    return [index_sequence(example, slice(i, i + max_ctx_len)) for i in range(n)]"
   ]
  },
  {
   "cell_type": "code",
   "execution_count": 13,
   "id": "b218066e",
   "metadata": {},
   "outputs": [],
   "source": [
    "def store_array(array):\n",
    "    path = TMP_DIR / f\"{uuid.uuid4().hex}.npy\"\n",
    "    array = np.asarray(array)\n",
    "    np.save(path, array, allow_pickle=False)\n",
    "    return da.from_delayed(dask.delayed(np.load)(path), shape=array.shape, dtype=array.dtype)"
   ]
  },
  {
   "cell_type": "code",
   "execution_count": 14,
   "id": "996da007",
   "metadata": {},
   "outputs": [
    {
     "data": {
      "application/vnd.jupyter.widget-view+json": {
       "model_id": "b38a37acbdc9439a97386f4bc778302f",
       "version_major": 2,
       "version_minor": 0
      },
      "text/plain": [
       "  0%|          | 0/133 [00:00<?, ?it/s]"
      ]
     },
     "metadata": {},
     "output_type": "display_data"
    }
   ],
   "source": [
    "n_examples = len(dataset_raw)\n",
    "dloader.dataset.num_candidates = 16\n",
    "log_n = np.log(dloader.dataset.num_candidates)\n",
    "\n",
    "example_ids = np.random.default_rng(0).choice(len(dataset_raw), n_examples, replace=False)\n",
    "example_ids.sort()\n",
    "\n",
    "with cf.ThreadPoolExecutor(16) as pool:\n",
    "    examples_raw = list(tqdm(pool.map(dataset_raw.__getitem__, example_ids), total=n_examples))"
   ]
  },
  {
   "cell_type": "code",
   "execution_count": 15,
   "id": "ea45f9b1",
   "metadata": {},
   "outputs": [
    {
     "data": {
      "text/plain": [
       "0.5864661654135338"
      ]
     },
     "execution_count": 15,
     "metadata": {},
     "output_type": "execute_result"
    }
   ],
   "source": [
    "lengths = [len(ex[\"timestamp\"]) for ex in examples_raw]\n",
    "(np.array(lengths) >= 200).mean()"
   ]
  },
  {
   "cell_type": "markdown",
   "id": "8daab849",
   "metadata": {},
   "source": [
    "## Get predictions"
   ]
  },
  {
   "cell_type": "code",
   "execution_count": 16,
   "id": "f5f462ff",
   "metadata": {},
   "outputs": [
    {
     "data": {
      "application/vnd.jupyter.widget-view+json": {
       "model_id": "95d53f47bdfa46d7a84d09d1f7cf5b91",
       "version_major": 2,
       "version_minor": 0
      },
      "text/plain": [
       "  0%|          | 0/133 [00:00<?, ?it/s]"
      ]
     },
     "metadata": {},
     "output_type": "display_data"
    },
    {
     "data": {
      "application/vnd.jupyter.widget-view+json": {
       "model_id": "",
       "version_major": 2,
       "version_minor": 0
      },
      "text/plain": [
       "  0%|          | 0/10 [00:00<?, ?it/s]"
      ]
     },
     "metadata": {},
     "output_type": "display_data"
    },
    {
     "data": {
      "application/vnd.jupyter.widget-view+json": {
       "model_id": "",
       "version_major": 2,
       "version_minor": 0
      },
      "text/plain": [
       "  0%|          | 0/5 [00:00<?, ?it/s]"
      ]
     },
     "metadata": {},
     "output_type": "display_data"
    },
    {
     "data": {
      "application/vnd.jupyter.widget-view+json": {
       "model_id": "",
       "version_major": 2,
       "version_minor": 0
      },
      "text/plain": [
       "  0%|          | 0/6 [00:00<?, ?it/s]"
      ]
     },
     "metadata": {},
     "output_type": "display_data"
    },
    {
     "data": {
      "application/vnd.jupyter.widget-view+json": {
       "model_id": "",
       "version_major": 2,
       "version_minor": 0
      },
      "text/plain": [
       "  0%|          | 0/10 [00:00<?, ?it/s]"
      ]
     },
     "metadata": {},
     "output_type": "display_data"
    },
    {
     "data": {
      "application/vnd.jupyter.widget-view+json": {
       "model_id": "",
       "version_major": 2,
       "version_minor": 0
      },
      "text/plain": [
       "  0%|          | 0/5 [00:00<?, ?it/s]"
      ]
     },
     "metadata": {},
     "output_type": "display_data"
    },
    {
     "data": {
      "application/vnd.jupyter.widget-view+json": {
       "model_id": "",
       "version_major": 2,
       "version_minor": 0
      },
      "text/plain": [
       "  0%|          | 0/5 [00:00<?, ?it/s]"
      ]
     },
     "metadata": {},
     "output_type": "display_data"
    },
    {
     "data": {
      "application/vnd.jupyter.widget-view+json": {
       "model_id": "",
       "version_major": 2,
       "version_minor": 0
      },
      "text/plain": [
       "  0%|          | 0/5 [00:00<?, ?it/s]"
      ]
     },
     "metadata": {},
     "output_type": "display_data"
    },
    {
     "data": {
      "application/vnd.jupyter.widget-view+json": {
       "model_id": "",
       "version_major": 2,
       "version_minor": 0
      },
      "text/plain": [
       "  0%|          | 0/5 [00:00<?, ?it/s]"
      ]
     },
     "metadata": {},
     "output_type": "display_data"
    },
    {
     "data": {
      "application/vnd.jupyter.widget-view+json": {
       "model_id": "",
       "version_major": 2,
       "version_minor": 0
      },
      "text/plain": [
       "  0%|          | 0/4 [00:00<?, ?it/s]"
      ]
     },
     "metadata": {},
     "output_type": "display_data"
    },
    {
     "data": {
      "application/vnd.jupyter.widget-view+json": {
       "model_id": "",
       "version_major": 2,
       "version_minor": 0
      },
      "text/plain": [
       "  0%|          | 0/4 [00:00<?, ?it/s]"
      ]
     },
     "metadata": {},
     "output_type": "display_data"
    },
    {
     "data": {
      "application/vnd.jupyter.widget-view+json": {
       "model_id": "",
       "version_major": 2,
       "version_minor": 0
      },
      "text/plain": [
       "  0%|          | 0/5 [00:00<?, ?it/s]"
      ]
     },
     "metadata": {},
     "output_type": "display_data"
    },
    {
     "data": {
      "application/vnd.jupyter.widget-view+json": {
       "model_id": "",
       "version_major": 2,
       "version_minor": 0
      },
      "text/plain": [
       "  0%|          | 0/6 [00:00<?, ?it/s]"
      ]
     },
     "metadata": {},
     "output_type": "display_data"
    },
    {
     "data": {
      "application/vnd.jupyter.widget-view+json": {
       "model_id": "",
       "version_major": 2,
       "version_minor": 0
      },
      "text/plain": [
       "  0%|          | 0/5 [00:00<?, ?it/s]"
      ]
     },
     "metadata": {},
     "output_type": "display_data"
    },
    {
     "data": {
      "application/vnd.jupyter.widget-view+json": {
       "model_id": "",
       "version_major": 2,
       "version_minor": 0
      },
      "text/plain": [
       "  0%|          | 0/5 [00:00<?, ?it/s]"
      ]
     },
     "metadata": {},
     "output_type": "display_data"
    },
    {
     "data": {
      "application/vnd.jupyter.widget-view+json": {
       "model_id": "",
       "version_major": 2,
       "version_minor": 0
      },
      "text/plain": [
       "  0%|          | 0/3 [00:00<?, ?it/s]"
      ]
     },
     "metadata": {},
     "output_type": "display_data"
    },
    {
     "data": {
      "application/vnd.jupyter.widget-view+json": {
       "model_id": "",
       "version_major": 2,
       "version_minor": 0
      },
      "text/plain": [
       "  0%|          | 0/4 [00:00<?, ?it/s]"
      ]
     },
     "metadata": {},
     "output_type": "display_data"
    },
    {
     "data": {
      "application/vnd.jupyter.widget-view+json": {
       "model_id": "",
       "version_major": 2,
       "version_minor": 0
      },
      "text/plain": [
       "  0%|          | 0/7 [00:00<?, ?it/s]"
      ]
     },
     "metadata": {},
     "output_type": "display_data"
    },
    {
     "data": {
      "application/vnd.jupyter.widget-view+json": {
       "model_id": "",
       "version_major": 2,
       "version_minor": 0
      },
      "text/plain": [
       "  0%|          | 0/4 [00:00<?, ?it/s]"
      ]
     },
     "metadata": {},
     "output_type": "display_data"
    },
    {
     "data": {
      "application/vnd.jupyter.widget-view+json": {
       "model_id": "",
       "version_major": 2,
       "version_minor": 0
      },
      "text/plain": [
       "  0%|          | 0/6 [00:00<?, ?it/s]"
      ]
     },
     "metadata": {},
     "output_type": "display_data"
    },
    {
     "data": {
      "application/vnd.jupyter.widget-view+json": {
       "model_id": "",
       "version_major": 2,
       "version_minor": 0
      },
      "text/plain": [
       "  0%|          | 0/10 [00:00<?, ?it/s]"
      ]
     },
     "metadata": {},
     "output_type": "display_data"
    },
    {
     "data": {
      "application/vnd.jupyter.widget-view+json": {
       "model_id": "",
       "version_major": 2,
       "version_minor": 0
      },
      "text/plain": [
       "  0%|          | 0/8 [00:00<?, ?it/s]"
      ]
     },
     "metadata": {},
     "output_type": "display_data"
    },
    {
     "data": {
      "application/vnd.jupyter.widget-view+json": {
       "model_id": "",
       "version_major": 2,
       "version_minor": 0
      },
      "text/plain": [
       "  0%|          | 0/12 [00:00<?, ?it/s]"
      ]
     },
     "metadata": {},
     "output_type": "display_data"
    },
    {
     "data": {
      "application/vnd.jupyter.widget-view+json": {
       "model_id": "",
       "version_major": 2,
       "version_minor": 0
      },
      "text/plain": [
       "  0%|          | 0/10 [00:00<?, ?it/s]"
      ]
     },
     "metadata": {},
     "output_type": "display_data"
    },
    {
     "data": {
      "application/vnd.jupyter.widget-view+json": {
       "model_id": "",
       "version_major": 2,
       "version_minor": 0
      },
      "text/plain": [
       "  0%|          | 0/5 [00:00<?, ?it/s]"
      ]
     },
     "metadata": {},
     "output_type": "display_data"
    },
    {
     "data": {
      "application/vnd.jupyter.widget-view+json": {
       "model_id": "",
       "version_major": 2,
       "version_minor": 0
      },
      "text/plain": [
       "  0%|          | 0/6 [00:00<?, ?it/s]"
      ]
     },
     "metadata": {},
     "output_type": "display_data"
    },
    {
     "data": {
      "application/vnd.jupyter.widget-view+json": {
       "model_id": "",
       "version_major": 2,
       "version_minor": 0
      },
      "text/plain": [
       "  0%|          | 0/8 [00:00<?, ?it/s]"
      ]
     },
     "metadata": {},
     "output_type": "display_data"
    },
    {
     "data": {
      "application/vnd.jupyter.widget-view+json": {
       "model_id": "",
       "version_major": 2,
       "version_minor": 0
      },
      "text/plain": [
       "  0%|          | 0/5 [00:00<?, ?it/s]"
      ]
     },
     "metadata": {},
     "output_type": "display_data"
    },
    {
     "data": {
      "application/vnd.jupyter.widget-view+json": {
       "model_id": "",
       "version_major": 2,
       "version_minor": 0
      },
      "text/plain": [
       "  0%|          | 0/3 [00:00<?, ?it/s]"
      ]
     },
     "metadata": {},
     "output_type": "display_data"
    },
    {
     "data": {
      "application/vnd.jupyter.widget-view+json": {
       "model_id": "",
       "version_major": 2,
       "version_minor": 0
      },
      "text/plain": [
       "  0%|          | 0/8 [00:00<?, ?it/s]"
      ]
     },
     "metadata": {},
     "output_type": "display_data"
    },
    {
     "data": {
      "application/vnd.jupyter.widget-view+json": {
       "model_id": "",
       "version_major": 2,
       "version_minor": 0
      },
      "text/plain": [
       "  0%|          | 0/12 [00:00<?, ?it/s]"
      ]
     },
     "metadata": {},
     "output_type": "display_data"
    },
    {
     "data": {
      "application/vnd.jupyter.widget-view+json": {
       "model_id": "",
       "version_major": 2,
       "version_minor": 0
      },
      "text/plain": [
       "  0%|          | 0/4 [00:00<?, ?it/s]"
      ]
     },
     "metadata": {},
     "output_type": "display_data"
    },
    {
     "data": {
      "application/vnd.jupyter.widget-view+json": {
       "model_id": "",
       "version_major": 2,
       "version_minor": 0
      },
      "text/plain": [
       "  0%|          | 0/4 [00:00<?, ?it/s]"
      ]
     },
     "metadata": {},
     "output_type": "display_data"
    },
    {
     "data": {
      "application/vnd.jupyter.widget-view+json": {
       "model_id": "",
       "version_major": 2,
       "version_minor": 0
      },
      "text/plain": [
       "  0%|          | 0/6 [00:00<?, ?it/s]"
      ]
     },
     "metadata": {},
     "output_type": "display_data"
    },
    {
     "data": {
      "application/vnd.jupyter.widget-view+json": {
       "model_id": "",
       "version_major": 2,
       "version_minor": 0
      },
      "text/plain": [
       "  0%|          | 0/4 [00:00<?, ?it/s]"
      ]
     },
     "metadata": {},
     "output_type": "display_data"
    },
    {
     "data": {
      "application/vnd.jupyter.widget-view+json": {
       "model_id": "",
       "version_major": 2,
       "version_minor": 0
      },
      "text/plain": [
       "  0%|          | 0/4 [00:00<?, ?it/s]"
      ]
     },
     "metadata": {},
     "output_type": "display_data"
    },
    {
     "data": {
      "application/vnd.jupyter.widget-view+json": {
       "model_id": "",
       "version_major": 2,
       "version_minor": 0
      },
      "text/plain": [
       "  0%|          | 0/3 [00:00<?, ?it/s]"
      ]
     },
     "metadata": {},
     "output_type": "display_data"
    },
    {
     "data": {
      "application/vnd.jupyter.widget-view+json": {
       "model_id": "",
       "version_major": 2,
       "version_minor": 0
      },
      "text/plain": [
       "  0%|          | 0/10 [00:00<?, ?it/s]"
      ]
     },
     "metadata": {},
     "output_type": "display_data"
    },
    {
     "data": {
      "application/vnd.jupyter.widget-view+json": {
       "model_id": "",
       "version_major": 2,
       "version_minor": 0
      },
      "text/plain": [
       "  0%|          | 0/3 [00:00<?, ?it/s]"
      ]
     },
     "metadata": {},
     "output_type": "display_data"
    },
    {
     "data": {
      "application/vnd.jupyter.widget-view+json": {
       "model_id": "",
       "version_major": 2,
       "version_minor": 0
      },
      "text/plain": [
       "  0%|          | 0/13 [00:00<?, ?it/s]"
      ]
     },
     "metadata": {},
     "output_type": "display_data"
    },
    {
     "data": {
      "application/vnd.jupyter.widget-view+json": {
       "model_id": "",
       "version_major": 2,
       "version_minor": 0
      },
      "text/plain": [
       "  0%|          | 0/6 [00:00<?, ?it/s]"
      ]
     },
     "metadata": {},
     "output_type": "display_data"
    },
    {
     "data": {
      "application/vnd.jupyter.widget-view+json": {
       "model_id": "",
       "version_major": 2,
       "version_minor": 0
      },
      "text/plain": [
       "  0%|          | 0/3 [00:00<?, ?it/s]"
      ]
     },
     "metadata": {},
     "output_type": "display_data"
    },
    {
     "data": {
      "application/vnd.jupyter.widget-view+json": {
       "model_id": "",
       "version_major": 2,
       "version_minor": 0
      },
      "text/plain": [
       "  0%|          | 0/3 [00:00<?, ?it/s]"
      ]
     },
     "metadata": {},
     "output_type": "display_data"
    },
    {
     "data": {
      "application/vnd.jupyter.widget-view+json": {
       "model_id": "",
       "version_major": 2,
       "version_minor": 0
      },
      "text/plain": [
       "  0%|          | 0/8 [00:00<?, ?it/s]"
      ]
     },
     "metadata": {},
     "output_type": "display_data"
    },
    {
     "data": {
      "application/vnd.jupyter.widget-view+json": {
       "model_id": "",
       "version_major": 2,
       "version_minor": 0
      },
      "text/plain": [
       "  0%|          | 0/5 [00:00<?, ?it/s]"
      ]
     },
     "metadata": {},
     "output_type": "display_data"
    },
    {
     "data": {
      "application/vnd.jupyter.widget-view+json": {
       "model_id": "",
       "version_major": 2,
       "version_minor": 0
      },
      "text/plain": [
       "  0%|          | 0/8 [00:00<?, ?it/s]"
      ]
     },
     "metadata": {},
     "output_type": "display_data"
    },
    {
     "data": {
      "application/vnd.jupyter.widget-view+json": {
       "model_id": "",
       "version_major": 2,
       "version_minor": 0
      },
      "text/plain": [
       "  0%|          | 0/4 [00:00<?, ?it/s]"
      ]
     },
     "metadata": {},
     "output_type": "display_data"
    },
    {
     "data": {
      "application/vnd.jupyter.widget-view+json": {
       "model_id": "",
       "version_major": 2,
       "version_minor": 0
      },
      "text/plain": [
       "  0%|          | 0/8 [00:00<?, ?it/s]"
      ]
     },
     "metadata": {},
     "output_type": "display_data"
    },
    {
     "data": {
      "application/vnd.jupyter.widget-view+json": {
       "model_id": "",
       "version_major": 2,
       "version_minor": 0
      },
      "text/plain": [
       "  0%|          | 0/9 [00:00<?, ?it/s]"
      ]
     },
     "metadata": {},
     "output_type": "display_data"
    },
    {
     "data": {
      "application/vnd.jupyter.widget-view+json": {
       "model_id": "",
       "version_major": 2,
       "version_minor": 0
      },
      "text/plain": [
       "  0%|          | 0/6 [00:00<?, ?it/s]"
      ]
     },
     "metadata": {},
     "output_type": "display_data"
    },
    {
     "data": {
      "application/vnd.jupyter.widget-view+json": {
       "model_id": "",
       "version_major": 2,
       "version_minor": 0
      },
      "text/plain": [
       "  0%|          | 0/8 [00:00<?, ?it/s]"
      ]
     },
     "metadata": {},
     "output_type": "display_data"
    },
    {
     "data": {
      "application/vnd.jupyter.widget-view+json": {
       "model_id": "",
       "version_major": 2,
       "version_minor": 0
      },
      "text/plain": [
       "  0%|          | 0/3 [00:00<?, ?it/s]"
      ]
     },
     "metadata": {},
     "output_type": "display_data"
    },
    {
     "data": {
      "application/vnd.jupyter.widget-view+json": {
       "model_id": "",
       "version_major": 2,
       "version_minor": 0
      },
      "text/plain": [
       "  0%|          | 0/52 [00:00<?, ?it/s]"
      ]
     },
     "metadata": {},
     "output_type": "display_data"
    },
    {
     "data": {
      "application/vnd.jupyter.widget-view+json": {
       "model_id": "",
       "version_major": 2,
       "version_minor": 0
      },
      "text/plain": [
       "  0%|          | 0/5 [00:00<?, ?it/s]"
      ]
     },
     "metadata": {},
     "output_type": "display_data"
    },
    {
     "data": {
      "application/vnd.jupyter.widget-view+json": {
       "model_id": "",
       "version_major": 2,
       "version_minor": 0
      },
      "text/plain": [
       "  0%|          | 0/3 [00:00<?, ?it/s]"
      ]
     },
     "metadata": {},
     "output_type": "display_data"
    },
    {
     "data": {
      "application/vnd.jupyter.widget-view+json": {
       "model_id": "",
       "version_major": 2,
       "version_minor": 0
      },
      "text/plain": [
       "  0%|          | 0/3 [00:00<?, ?it/s]"
      ]
     },
     "metadata": {},
     "output_type": "display_data"
    },
    {
     "data": {
      "application/vnd.jupyter.widget-view+json": {
       "model_id": "",
       "version_major": 2,
       "version_minor": 0
      },
      "text/plain": [
       "  0%|          | 0/4 [00:00<?, ?it/s]"
      ]
     },
     "metadata": {},
     "output_type": "display_data"
    },
    {
     "data": {
      "application/vnd.jupyter.widget-view+json": {
       "model_id": "",
       "version_major": 2,
       "version_minor": 0
      },
      "text/plain": [
       "  0%|          | 0/3 [00:00<?, ?it/s]"
      ]
     },
     "metadata": {},
     "output_type": "display_data"
    },
    {
     "data": {
      "application/vnd.jupyter.widget-view+json": {
       "model_id": "",
       "version_major": 2,
       "version_minor": 0
      },
      "text/plain": [
       "  0%|          | 0/6 [00:00<?, ?it/s]"
      ]
     },
     "metadata": {},
     "output_type": "display_data"
    },
    {
     "data": {
      "application/vnd.jupyter.widget-view+json": {
       "model_id": "",
       "version_major": 2,
       "version_minor": 0
      },
      "text/plain": [
       "  0%|          | 0/4 [00:00<?, ?it/s]"
      ]
     },
     "metadata": {},
     "output_type": "display_data"
    },
    {
     "data": {
      "application/vnd.jupyter.widget-view+json": {
       "model_id": "",
       "version_major": 2,
       "version_minor": 0
      },
      "text/plain": [
       "  0%|          | 0/3 [00:00<?, ?it/s]"
      ]
     },
     "metadata": {},
     "output_type": "display_data"
    },
    {
     "data": {
      "application/vnd.jupyter.widget-view+json": {
       "model_id": "",
       "version_major": 2,
       "version_minor": 0
      },
      "text/plain": [
       "  0%|          | 0/3 [00:00<?, ?it/s]"
      ]
     },
     "metadata": {},
     "output_type": "display_data"
    },
    {
     "data": {
      "application/vnd.jupyter.widget-view+json": {
       "model_id": "",
       "version_major": 2,
       "version_minor": 0
      },
      "text/plain": [
       "  0%|          | 0/16 [00:00<?, ?it/s]"
      ]
     },
     "metadata": {},
     "output_type": "display_data"
    },
    {
     "data": {
      "application/vnd.jupyter.widget-view+json": {
       "model_id": "",
       "version_major": 2,
       "version_minor": 0
      },
      "text/plain": [
       "  0%|          | 0/9 [00:00<?, ?it/s]"
      ]
     },
     "metadata": {},
     "output_type": "display_data"
    },
    {
     "data": {
      "application/vnd.jupyter.widget-view+json": {
       "model_id": "",
       "version_major": 2,
       "version_minor": 0
      },
      "text/plain": [
       "  0%|          | 0/7 [00:00<?, ?it/s]"
      ]
     },
     "metadata": {},
     "output_type": "display_data"
    },
    {
     "data": {
      "application/vnd.jupyter.widget-view+json": {
       "model_id": "",
       "version_major": 2,
       "version_minor": 0
      },
      "text/plain": [
       "  0%|          | 0/7 [00:00<?, ?it/s]"
      ]
     },
     "metadata": {},
     "output_type": "display_data"
    },
    {
     "data": {
      "application/vnd.jupyter.widget-view+json": {
       "model_id": "",
       "version_major": 2,
       "version_minor": 0
      },
      "text/plain": [
       "  0%|          | 0/4 [00:00<?, ?it/s]"
      ]
     },
     "metadata": {},
     "output_type": "display_data"
    },
    {
     "data": {
      "application/vnd.jupyter.widget-view+json": {
       "model_id": "",
       "version_major": 2,
       "version_minor": 0
      },
      "text/plain": [
       "  0%|          | 0/6 [00:00<?, ?it/s]"
      ]
     },
     "metadata": {},
     "output_type": "display_data"
    },
    {
     "data": {
      "application/vnd.jupyter.widget-view+json": {
       "model_id": "",
       "version_major": 2,
       "version_minor": 0
      },
      "text/plain": [
       "  0%|          | 0/10 [00:00<?, ?it/s]"
      ]
     },
     "metadata": {},
     "output_type": "display_data"
    },
    {
     "data": {
      "application/vnd.jupyter.widget-view+json": {
       "model_id": "",
       "version_major": 2,
       "version_minor": 0
      },
      "text/plain": [
       "  0%|          | 0/4 [00:00<?, ?it/s]"
      ]
     },
     "metadata": {},
     "output_type": "display_data"
    },
    {
     "data": {
      "application/vnd.jupyter.widget-view+json": {
       "model_id": "",
       "version_major": 2,
       "version_minor": 0
      },
      "text/plain": [
       "  0%|          | 0/3 [00:00<?, ?it/s]"
      ]
     },
     "metadata": {},
     "output_type": "display_data"
    },
    {
     "data": {
      "application/vnd.jupyter.widget-view+json": {
       "model_id": "",
       "version_major": 2,
       "version_minor": 0
      },
      "text/plain": [
       "  0%|          | 0/6 [00:00<?, ?it/s]"
      ]
     },
     "metadata": {},
     "output_type": "display_data"
    },
    {
     "data": {
      "application/vnd.jupyter.widget-view+json": {
       "model_id": "",
       "version_major": 2,
       "version_minor": 0
      },
      "text/plain": [
       "  0%|          | 0/5 [00:00<?, ?it/s]"
      ]
     },
     "metadata": {},
     "output_type": "display_data"
    },
    {
     "data": {
      "application/vnd.jupyter.widget-view+json": {
       "model_id": "",
       "version_major": 2,
       "version_minor": 0
      },
      "text/plain": [
       "  0%|          | 0/5 [00:00<?, ?it/s]"
      ]
     },
     "metadata": {},
     "output_type": "display_data"
    },
    {
     "data": {
      "application/vnd.jupyter.widget-view+json": {
       "model_id": "",
       "version_major": 2,
       "version_minor": 0
      },
      "text/plain": [
       "  0%|          | 0/14 [00:00<?, ?it/s]"
      ]
     },
     "metadata": {},
     "output_type": "display_data"
    },
    {
     "data": {
      "application/vnd.jupyter.widget-view+json": {
       "model_id": "",
       "version_major": 2,
       "version_minor": 0
      },
      "text/plain": [
       "  0%|          | 0/5 [00:00<?, ?it/s]"
      ]
     },
     "metadata": {},
     "output_type": "display_data"
    },
    {
     "data": {
      "application/vnd.jupyter.widget-view+json": {
       "model_id": "",
       "version_major": 2,
       "version_minor": 0
      },
      "text/plain": [
       "  0%|          | 0/3 [00:00<?, ?it/s]"
      ]
     },
     "metadata": {},
     "output_type": "display_data"
    },
    {
     "data": {
      "application/vnd.jupyter.widget-view+json": {
       "model_id": "",
       "version_major": 2,
       "version_minor": 0
      },
      "text/plain": [
       "  0%|          | 0/3 [00:00<?, ?it/s]"
      ]
     },
     "metadata": {},
     "output_type": "display_data"
    },
    {
     "data": {
      "application/vnd.jupyter.widget-view+json": {
       "model_id": "",
       "version_major": 2,
       "version_minor": 0
      },
      "text/plain": [
       "  0%|          | 0/3 [00:00<?, ?it/s]"
      ]
     },
     "metadata": {},
     "output_type": "display_data"
    },
    {
     "data": {
      "application/vnd.jupyter.widget-view+json": {
       "model_id": "",
       "version_major": 2,
       "version_minor": 0
      },
      "text/plain": [
       "  0%|          | 0/4 [00:00<?, ?it/s]"
      ]
     },
     "metadata": {},
     "output_type": "display_data"
    },
    {
     "data": {
      "application/vnd.jupyter.widget-view+json": {
       "model_id": "",
       "version_major": 2,
       "version_minor": 0
      },
      "text/plain": [
       "  0%|          | 0/3 [00:00<?, ?it/s]"
      ]
     },
     "metadata": {},
     "output_type": "display_data"
    },
    {
     "data": {
      "application/vnd.jupyter.widget-view+json": {
       "model_id": "",
       "version_major": 2,
       "version_minor": 0
      },
      "text/plain": [
       "  0%|          | 0/3 [00:00<?, ?it/s]"
      ]
     },
     "metadata": {},
     "output_type": "display_data"
    },
    {
     "data": {
      "application/vnd.jupyter.widget-view+json": {
       "model_id": "",
       "version_major": 2,
       "version_minor": 0
      },
      "text/plain": [
       "  0%|          | 0/4 [00:00<?, ?it/s]"
      ]
     },
     "metadata": {},
     "output_type": "display_data"
    },
    {
     "data": {
      "application/vnd.jupyter.widget-view+json": {
       "model_id": "",
       "version_major": 2,
       "version_minor": 0
      },
      "text/plain": [
       "  0%|          | 0/8 [00:00<?, ?it/s]"
      ]
     },
     "metadata": {},
     "output_type": "display_data"
    },
    {
     "data": {
      "application/vnd.jupyter.widget-view+json": {
       "model_id": "",
       "version_major": 2,
       "version_minor": 0
      },
      "text/plain": [
       "  0%|          | 0/4 [00:00<?, ?it/s]"
      ]
     },
     "metadata": {},
     "output_type": "display_data"
    },
    {
     "data": {
      "application/vnd.jupyter.widget-view+json": {
       "model_id": "",
       "version_major": 2,
       "version_minor": 0
      },
      "text/plain": [
       "  0%|          | 0/4 [00:00<?, ?it/s]"
      ]
     },
     "metadata": {},
     "output_type": "display_data"
    },
    {
     "data": {
      "application/vnd.jupyter.widget-view+json": {
       "model_id": "",
       "version_major": 2,
       "version_minor": 0
      },
      "text/plain": [
       "  0%|          | 0/5 [00:00<?, ?it/s]"
      ]
     },
     "metadata": {},
     "output_type": "display_data"
    },
    {
     "data": {
      "application/vnd.jupyter.widget-view+json": {
       "model_id": "",
       "version_major": 2,
       "version_minor": 0
      },
      "text/plain": [
       "  0%|          | 0/3 [00:00<?, ?it/s]"
      ]
     },
     "metadata": {},
     "output_type": "display_data"
    },
    {
     "data": {
      "application/vnd.jupyter.widget-view+json": {
       "model_id": "",
       "version_major": 2,
       "version_minor": 0
      },
      "text/plain": [
       "  0%|          | 0/3 [00:00<?, ?it/s]"
      ]
     },
     "metadata": {},
     "output_type": "display_data"
    },
    {
     "data": {
      "application/vnd.jupyter.widget-view+json": {
       "model_id": "",
       "version_major": 2,
       "version_minor": 0
      },
      "text/plain": [
       "  0%|          | 0/4 [00:00<?, ?it/s]"
      ]
     },
     "metadata": {},
     "output_type": "display_data"
    },
    {
     "data": {
      "application/vnd.jupyter.widget-view+json": {
       "model_id": "",
       "version_major": 2,
       "version_minor": 0
      },
      "text/plain": [
       "  0%|          | 0/9 [00:00<?, ?it/s]"
      ]
     },
     "metadata": {},
     "output_type": "display_data"
    },
    {
     "data": {
      "application/vnd.jupyter.widget-view+json": {
       "model_id": "",
       "version_major": 2,
       "version_minor": 0
      },
      "text/plain": [
       "  0%|          | 0/4 [00:00<?, ?it/s]"
      ]
     },
     "metadata": {},
     "output_type": "display_data"
    },
    {
     "data": {
      "application/vnd.jupyter.widget-view+json": {
       "model_id": "",
       "version_major": 2,
       "version_minor": 0
      },
      "text/plain": [
       "  0%|          | 0/3 [00:00<?, ?it/s]"
      ]
     },
     "metadata": {},
     "output_type": "display_data"
    },
    {
     "data": {
      "application/vnd.jupyter.widget-view+json": {
       "model_id": "",
       "version_major": 2,
       "version_minor": 0
      },
      "text/plain": [
       "  0%|          | 0/6 [00:00<?, ?it/s]"
      ]
     },
     "metadata": {},
     "output_type": "display_data"
    },
    {
     "data": {
      "application/vnd.jupyter.widget-view+json": {
       "model_id": "",
       "version_major": 2,
       "version_minor": 0
      },
      "text/plain": [
       "  0%|          | 0/5 [00:00<?, ?it/s]"
      ]
     },
     "metadata": {},
     "output_type": "display_data"
    },
    {
     "data": {
      "application/vnd.jupyter.widget-view+json": {
       "model_id": "",
       "version_major": 2,
       "version_minor": 0
      },
      "text/plain": [
       "  0%|          | 0/3 [00:00<?, ?it/s]"
      ]
     },
     "metadata": {},
     "output_type": "display_data"
    },
    {
     "data": {
      "application/vnd.jupyter.widget-view+json": {
       "model_id": "",
       "version_major": 2,
       "version_minor": 0
      },
      "text/plain": [
       "  0%|          | 0/5 [00:00<?, ?it/s]"
      ]
     },
     "metadata": {},
     "output_type": "display_data"
    },
    {
     "data": {
      "application/vnd.jupyter.widget-view+json": {
       "model_id": "",
       "version_major": 2,
       "version_minor": 0
      },
      "text/plain": [
       "  0%|          | 0/3 [00:00<?, ?it/s]"
      ]
     },
     "metadata": {},
     "output_type": "display_data"
    },
    {
     "data": {
      "application/vnd.jupyter.widget-view+json": {
       "model_id": "",
       "version_major": 2,
       "version_minor": 0
      },
      "text/plain": [
       "  0%|          | 0/3 [00:00<?, ?it/s]"
      ]
     },
     "metadata": {},
     "output_type": "display_data"
    },
    {
     "data": {
      "application/vnd.jupyter.widget-view+json": {
       "model_id": "",
       "version_major": 2,
       "version_minor": 0
      },
      "text/plain": [
       "  0%|          | 0/7 [00:00<?, ?it/s]"
      ]
     },
     "metadata": {},
     "output_type": "display_data"
    },
    {
     "data": {
      "application/vnd.jupyter.widget-view+json": {
       "model_id": "",
       "version_major": 2,
       "version_minor": 0
      },
      "text/plain": [
       "  0%|          | 0/9 [00:00<?, ?it/s]"
      ]
     },
     "metadata": {},
     "output_type": "display_data"
    },
    {
     "data": {
      "application/vnd.jupyter.widget-view+json": {
       "model_id": "",
       "version_major": 2,
       "version_minor": 0
      },
      "text/plain": [
       "  0%|          | 0/3 [00:00<?, ?it/s]"
      ]
     },
     "metadata": {},
     "output_type": "display_data"
    },
    {
     "data": {
      "application/vnd.jupyter.widget-view+json": {
       "model_id": "",
       "version_major": 2,
       "version_minor": 0
      },
      "text/plain": [
       "  0%|          | 0/3 [00:00<?, ?it/s]"
      ]
     },
     "metadata": {},
     "output_type": "display_data"
    },
    {
     "data": {
      "application/vnd.jupyter.widget-view+json": {
       "model_id": "",
       "version_major": 2,
       "version_minor": 0
      },
      "text/plain": [
       "  0%|          | 0/6 [00:00<?, ?it/s]"
      ]
     },
     "metadata": {},
     "output_type": "display_data"
    },
    {
     "data": {
      "application/vnd.jupyter.widget-view+json": {
       "model_id": "",
       "version_major": 2,
       "version_minor": 0
      },
      "text/plain": [
       "  0%|          | 0/24 [00:00<?, ?it/s]"
      ]
     },
     "metadata": {},
     "output_type": "display_data"
    },
    {
     "data": {
      "application/vnd.jupyter.widget-view+json": {
       "model_id": "",
       "version_major": 2,
       "version_minor": 0
      },
      "text/plain": [
       "  0%|          | 0/4 [00:00<?, ?it/s]"
      ]
     },
     "metadata": {},
     "output_type": "display_data"
    },
    {
     "data": {
      "application/vnd.jupyter.widget-view+json": {
       "model_id": "",
       "version_major": 2,
       "version_minor": 0
      },
      "text/plain": [
       "  0%|          | 0/6 [00:00<?, ?it/s]"
      ]
     },
     "metadata": {},
     "output_type": "display_data"
    },
    {
     "data": {
      "application/vnd.jupyter.widget-view+json": {
       "model_id": "",
       "version_major": 2,
       "version_minor": 0
      },
      "text/plain": [
       "  0%|          | 0/6 [00:00<?, ?it/s]"
      ]
     },
     "metadata": {},
     "output_type": "display_data"
    },
    {
     "data": {
      "application/vnd.jupyter.widget-view+json": {
       "model_id": "",
       "version_major": 2,
       "version_minor": 0
      },
      "text/plain": [
       "  0%|          | 0/7 [00:00<?, ?it/s]"
      ]
     },
     "metadata": {},
     "output_type": "display_data"
    },
    {
     "data": {
      "application/vnd.jupyter.widget-view+json": {
       "model_id": "",
       "version_major": 2,
       "version_minor": 0
      },
      "text/plain": [
       "  0%|          | 0/6 [00:00<?, ?it/s]"
      ]
     },
     "metadata": {},
     "output_type": "display_data"
    },
    {
     "data": {
      "application/vnd.jupyter.widget-view+json": {
       "model_id": "",
       "version_major": 2,
       "version_minor": 0
      },
      "text/plain": [
       "  0%|          | 0/7 [00:00<?, ?it/s]"
      ]
     },
     "metadata": {},
     "output_type": "display_data"
    },
    {
     "data": {
      "application/vnd.jupyter.widget-view+json": {
       "model_id": "",
       "version_major": 2,
       "version_minor": 0
      },
      "text/plain": [
       "  0%|          | 0/4 [00:00<?, ?it/s]"
      ]
     },
     "metadata": {},
     "output_type": "display_data"
    },
    {
     "data": {
      "application/vnd.jupyter.widget-view+json": {
       "model_id": "",
       "version_major": 2,
       "version_minor": 0
      },
      "text/plain": [
       "  0%|          | 0/3 [00:00<?, ?it/s]"
      ]
     },
     "metadata": {},
     "output_type": "display_data"
    },
    {
     "data": {
      "application/vnd.jupyter.widget-view+json": {
       "model_id": "",
       "version_major": 2,
       "version_minor": 0
      },
      "text/plain": [
       "  0%|          | 0/3 [00:00<?, ?it/s]"
      ]
     },
     "metadata": {},
     "output_type": "display_data"
    },
    {
     "data": {
      "application/vnd.jupyter.widget-view+json": {
       "model_id": "",
       "version_major": 2,
       "version_minor": 0
      },
      "text/plain": [
       "  0%|          | 0/7 [00:00<?, ?it/s]"
      ]
     },
     "metadata": {},
     "output_type": "display_data"
    },
    {
     "data": {
      "application/vnd.jupyter.widget-view+json": {
       "model_id": "",
       "version_major": 2,
       "version_minor": 0
      },
      "text/plain": [
       "  0%|          | 0/3 [00:00<?, ?it/s]"
      ]
     },
     "metadata": {},
     "output_type": "display_data"
    },
    {
     "data": {
      "application/vnd.jupyter.widget-view+json": {
       "model_id": "",
       "version_major": 2,
       "version_minor": 0
      },
      "text/plain": [
       "  0%|          | 0/4 [00:00<?, ?it/s]"
      ]
     },
     "metadata": {},
     "output_type": "display_data"
    },
    {
     "data": {
      "application/vnd.jupyter.widget-view+json": {
       "model_id": "",
       "version_major": 2,
       "version_minor": 0
      },
      "text/plain": [
       "  0%|          | 0/3 [00:00<?, ?it/s]"
      ]
     },
     "metadata": {},
     "output_type": "display_data"
    },
    {
     "data": {
      "application/vnd.jupyter.widget-view+json": {
       "model_id": "",
       "version_major": 2,
       "version_minor": 0
      },
      "text/plain": [
       "  0%|          | 0/7 [00:00<?, ?it/s]"
      ]
     },
     "metadata": {},
     "output_type": "display_data"
    },
    {
     "data": {
      "application/vnd.jupyter.widget-view+json": {
       "model_id": "",
       "version_major": 2,
       "version_minor": 0
      },
      "text/plain": [
       "  0%|          | 0/5 [00:00<?, ?it/s]"
      ]
     },
     "metadata": {},
     "output_type": "display_data"
    },
    {
     "data": {
      "application/vnd.jupyter.widget-view+json": {
       "model_id": "",
       "version_major": 2,
       "version_minor": 0
      },
      "text/plain": [
       "  0%|          | 0/13 [00:00<?, ?it/s]"
      ]
     },
     "metadata": {},
     "output_type": "display_data"
    },
    {
     "data": {
      "application/vnd.jupyter.widget-view+json": {
       "model_id": "",
       "version_major": 2,
       "version_minor": 0
      },
      "text/plain": [
       "  0%|          | 0/3 [00:00<?, ?it/s]"
      ]
     },
     "metadata": {},
     "output_type": "display_data"
    },
    {
     "data": {
      "application/vnd.jupyter.widget-view+json": {
       "model_id": "",
       "version_major": 2,
       "version_minor": 0
      },
      "text/plain": [
       "  0%|          | 0/7 [00:00<?, ?it/s]"
      ]
     },
     "metadata": {},
     "output_type": "display_data"
    },
    {
     "data": {
      "application/vnd.jupyter.widget-view+json": {
       "model_id": "",
       "version_major": 2,
       "version_minor": 0
      },
      "text/plain": [
       "  0%|          | 0/9 [00:00<?, ?it/s]"
      ]
     },
     "metadata": {},
     "output_type": "display_data"
    },
    {
     "data": {
      "application/vnd.jupyter.widget-view+json": {
       "model_id": "",
       "version_major": 2,
       "version_minor": 0
      },
      "text/plain": [
       "  0%|          | 0/11 [00:00<?, ?it/s]"
      ]
     },
     "metadata": {},
     "output_type": "display_data"
    },
    {
     "data": {
      "application/vnd.jupyter.widget-view+json": {
       "model_id": "",
       "version_major": 2,
       "version_minor": 0
      },
      "text/plain": [
       "  0%|          | 0/9 [00:00<?, ?it/s]"
      ]
     },
     "metadata": {},
     "output_type": "display_data"
    },
    {
     "data": {
      "application/vnd.jupyter.widget-view+json": {
       "model_id": "",
       "version_major": 2,
       "version_minor": 0
      },
      "text/plain": [
       "  0%|          | 0/27 [00:00<?, ?it/s]"
      ]
     },
     "metadata": {},
     "output_type": "display_data"
    },
    {
     "data": {
      "application/vnd.jupyter.widget-view+json": {
       "model_id": "",
       "version_major": 2,
       "version_minor": 0
      },
      "text/plain": [
       "  0%|          | 0/5 [00:00<?, ?it/s]"
      ]
     },
     "metadata": {},
     "output_type": "display_data"
    },
    {
     "data": {
      "application/vnd.jupyter.widget-view+json": {
       "model_id": "",
       "version_major": 2,
       "version_minor": 0
      },
      "text/plain": [
       "  0%|          | 0/3 [00:00<?, ?it/s]"
      ]
     },
     "metadata": {},
     "output_type": "display_data"
    },
    {
     "data": {
      "application/vnd.jupyter.widget-view+json": {
       "model_id": "",
       "version_major": 2,
       "version_minor": 0
      },
      "text/plain": [
       "  0%|          | 0/5 [00:00<?, ?it/s]"
      ]
     },
     "metadata": {},
     "output_type": "display_data"
    },
    {
     "data": {
      "application/vnd.jupyter.widget-view+json": {
       "model_id": "",
       "version_major": 2,
       "version_minor": 0
      },
      "text/plain": [
       "  0%|          | 0/3 [00:00<?, ?it/s]"
      ]
     },
     "metadata": {},
     "output_type": "display_data"
    },
    {
     "data": {
      "application/vnd.jupyter.widget-view+json": {
       "model_id": "",
       "version_major": 2,
       "version_minor": 0
      },
      "text/plain": [
       "  0%|          | 0/5 [00:00<?, ?it/s]"
      ]
     },
     "metadata": {},
     "output_type": "display_data"
    },
    {
     "data": {
      "application/vnd.jupyter.widget-view+json": {
       "model_id": "",
       "version_major": 2,
       "version_minor": 0
      },
      "text/plain": [
       "  0%|          | 0/9 [00:00<?, ?it/s]"
      ]
     },
     "metadata": {},
     "output_type": "display_data"
    },
    {
     "data": {
      "application/vnd.jupyter.widget-view+json": {
       "model_id": "",
       "version_major": 2,
       "version_minor": 0
      },
      "text/plain": [
       "  0%|          | 0/29 [00:00<?, ?it/s]"
      ]
     },
     "metadata": {},
     "output_type": "display_data"
    }
   ],
   "source": [
    "max_len = None\n",
    "max_ctx_len = 200\n",
    "\n",
    "shutil.rmtree(TMP_DIR, ignore_errors=True)\n",
    "TMP_DIR.mkdir(parents=True)\n",
    "\n",
    "preds_all = []\n",
    "\n",
    "with torch.inference_mode():\n",
    "    for i, example_raw in enumerate(tqdm(examples_raw)):\n",
    "        example = processor.encode(example_raw)\n",
    "        example = index_sequence(example, slice(0, max_len))\n",
    "        slices = get_slices(example, max_ctx_len)\n",
    "        loader = torch.utils.data.DataLoader(\n",
    "            slices, batch_size=50,\n",
    "            collate_fn=training_utils.collate_sequence_dicts\n",
    "        )\n",
    "        \n",
    "        preds = torch.full((len(example[\"mask\"]), max_ctx_len, dloader.dataset.num_candidates), torch.nan, dtype=torch.float32)\n",
    "\n",
    "        # Run the model to fill in the predictions for all the context lengths\n",
    "        j = 0\n",
    "        for batch in tqdm(loader, leave=False):\n",
    "            batch = dmodule.transfer_batch_to_device(batch, device=model.device, dataloader_idx=0)\n",
    "            pred, _, _ = model(batch)\n",
    "\n",
    "            pred = pred.log_softmax(dim=-1)\n",
    "            pred.masked_fill_(~batch.get(\"loss_mask\", batch[\"mask\"]).unsqueeze(-1), np.nan)\n",
    "\n",
    "            for jj in range(pred.shape[0]):\n",
    "                pred_j = pred[jj][:batch[\"mask\"][jj].sum()]\n",
    "                preds[torch.arange(j, j + len(pred_j)), torch.arange(len(pred_j))] = pred_j.cpu()\n",
    "                j += 1\n",
    "\n",
    "        # Copy values for contexts longer than is available\n",
    "        mask = torch.ones(preds.shape[:2], dtype=torch.bool).triu(1)\n",
    "        diag = preds[np.minimum(torch.arange(preds.shape[1]), preds.shape[0] - 1), torch.arange(preds.shape[1])]\n",
    "        diag = diag[:mask.shape[0]]\n",
    "        assert torch.isnan(preds[mask]).all()\n",
    "        preds.masked_scatter_(mask[..., None], diag[:, None].expand(diag.shape[0], *preds.shape[1:])[mask[:diag.shape[0]]])\n",
    "\n",
    "        preds_all.append(store_array(preds))"
   ]
  },
  {
   "cell_type": "markdown",
   "id": "047269f1",
   "metadata": {},
   "source": [
    "## Define metrics"
   ]
  },
  {
   "cell_type": "code",
   "execution_count": 17,
   "id": "b64d710e",
   "metadata": {},
   "outputs": [
    {
     "name": "stdout",
     "output_type": "stream",
     "text": [
      "[########################################] | 100% Completed | 10.04 ss\n"
     ]
    }
   ],
   "source": [
    "def compute_metrics(preds, example_raw):\n",
    "    preds = torch.as_tensor(preds)\n",
    "    tgt_one_hot = F.one_hot(torch.zeros(preds.shape[:-1], dtype=int), num_classes=preds.shape[-1])\n",
    "    ent = (-preds * preds.exp()).sum(dim=-1) / log_n\n",
    "    xent = F.kl_div(preds, tgt_one_hot, log_target=False, reduction=\"none\").sum(dim=-1) / log_n\n",
    "    kl_div_max = F.kl_div(preds, preds[:, [-1]], log_target=True, reduction=\"none\").sum(dim=-1)\n",
    "    kl_div_min = F.kl_div(preds, preds[:, [0]], log_target=True, reduction=\"none\").sum(dim=-1)\n",
    "    acc = (preds.argmax(dim=-1) == 0).to(float)\n",
    "\n",
    "    return pd.DataFrame(\n",
    "        {\n",
    "            \"seq_id\": np.full(xent.shape, example_raw[\"seq_id\"][0]).reshape(-1),\n",
    "            \"ent\": ent.reshape(-1),\n",
    "            \"xent\": xent.reshape(-1),\n",
    "            \"kl_div_max\": kl_div_max.reshape(-1),\n",
    "            \"kl_div_min\": kl_div_min.reshape(-1),\n",
    "            \"acc\": acc.reshape(-1)\n",
    "        },\n",
    "        index=pd.MultiIndex.from_product(\n",
    "            [range(xent.shape[0]), range(1, xent.shape[1] + 1)],\n",
    "            names=[\"index\", \"ctx_len\"]\n",
    "        )\n",
    "    ).reset_index()\n",
    "\n",
    "metrics_df = dd.from_delayed(dask.delayed(compute_metrics)(preds, example_raw) for preds, example_raw in zip(preds_all, examples_raw))\n",
    "with dask.diagnostics.ProgressBar():\n",
    "    assert not metrics_df.isna().any().any().compute()"
   ]
  },
  {
   "cell_type": "markdown",
   "id": "b1ffcf6d",
   "metadata": {},
   "source": [
    "### Save/load metrics\n",
    "\n",
    "The computed metrics are available from: (TODO: add URL)"
   ]
  },
  {
   "cell_type": "code",
   "execution_count": 30,
   "id": "35652dc6",
   "metadata": {},
   "outputs": [
    {
     "name": "stdout",
     "output_type": "stream",
     "text": [
      "[########################################] | 100% Completed | 6.02 ss\n"
     ]
    }
   ],
   "source": [
    "with dask.diagnostics.ProgressBar():\n",
    "    metrics_df.to_parquet(\"mbk+ung_12h_cent_metrics/\")"
   ]
  },
  {
   "cell_type": "code",
   "execution_count": 31,
   "id": "ca326b05",
   "metadata": {},
   "outputs": [],
   "source": [
    "metrics_df = dd.read_parquet(\"mbk+ung_12h_cent_metrics/\")"
   ]
  },
  {
   "cell_type": "markdown",
   "id": "96997cb5",
   "metadata": {},
   "source": [
    "## Draw plots"
   ]
  },
  {
   "cell_type": "code",
   "execution_count": 18,
   "id": "4734ff69",
   "metadata": {},
   "outputs": [],
   "source": [
    "Path(\"figs/\").mkdir(exist_ok=True)"
   ]
  },
  {
   "cell_type": "code",
   "execution_count": 19,
   "id": "79b1ac66",
   "metadata": {
    "scrolled": false
   },
   "outputs": [
    {
     "name": "stdout",
     "output_type": "stream",
     "text": [
      "[########################################] | 100% Completed | 16.81 ss\n"
     ]
    },
    {
     "data": {
      "image/png": "[encoded data removed]",
      "text/plain": [
       "<Figure size 360x288 with 1 Axes>"
      ]
     },
     "metadata": {
      "needs_background": "light"
     },
     "output_type": "display_data"
    },
    {
     "data": {
      "image/png": "[encoded data removed]",
      "text/plain": [
       "<Figure size 360x288 with 1 Axes>"
      ]
     },
     "metadata": {
      "needs_background": "light"
     },
     "output_type": "display_data"
    }
   ],
   "source": [
    "with dask.diagnostics.ProgressBar():\n",
    "    df = metrics_df.query(\"index >= 200\").join(seq_to_individual, on=\"seq_id\")[[\"ctx_len\", \"xent\", \"kl_div_max\", \"taxon_order\"]].reset_index().groupby([\"ctx_len\", \"taxon_order\"]).mean().sort_values(by=\"taxon_order\").compute()\n",
    "\n",
    "g = sns.lineplot(\n",
    "    data=df,\n",
    "    x=\"ctx_len\", y=\"xent\", hue=\"taxon_order\", ci=None)\n",
    "plt.xlabel(\"Context length\")\n",
    "plt.ylabel(\"Cross entropy\")\n",
    "plt.gcf().set_size_inches(5, 4)\n",
    "g.legend(loc=\"upper center\", bbox_to_anchor=(0.45, -0.15), ncol=3, columnspacing=0.5, handletextpad=0.3)\n",
    "plt.savefig(\"figs/ctx_xent_order.pdf\", bbox_inches=\"tight\")\n",
    "plt.show()\n",
    "\n",
    "g = sns.lineplot(\n",
    "    data=df,\n",
    "    x=\"ctx_len\", y=\"kl_div_max\", hue=\"taxon_order\", ci=None)\n",
    "plt.xlabel(\"Context length\")\n",
    "plt.ylabel(\"Relative entropy\")\n",
    "plt.gcf().set_size_inches(5, 4)\n",
    "g.legend(loc=\"upper center\", bbox_to_anchor=(0.45, -0.15), ncol=3, columnspacing=0.2, handletextpad=0.3)\n",
    "plt.savefig(\"figs/ctx_kl_div_max_order.pdf\", bbox_inches=\"tight\")\n",
    "plt.show()"
   ]
  },
  {
   "cell_type": "code",
   "execution_count": 20,
   "id": "fc3a99d3",
   "metadata": {},
   "outputs": [],
   "source": [
    "def compute_relevant_ctx_len(df, col):\n",
    "    df = df.sort_values(by=\"ctx_len\")\n",
    "    c_idx = df.index[df.eval(f\"({col} - {col}.min()) / ({col}.max() - {col}.min()) <= 0.05\")][0]\n",
    "    return df.loc[[c_idx]]"
   ]
  },
  {
   "cell_type": "code",
   "execution_count": 21,
   "id": "daa2086f",
   "metadata": {},
   "outputs": [
    {
     "data": {
      "image/png": "[encoded data removed]",
      "text/plain": [
       "<Figure size 576x360 with 2 Axes>"
      ]
     },
     "metadata": {
      "needs_background": "light"
     },
     "output_type": "display_data"
    }
   ],
   "source": [
    "fig, axes = plt.subplots(1, 2, sharey=True, constrained_layout=True)\n",
    "\n",
    "for metric, xlabel, ax in zip([\"xent\", \"kl_div_max\"], [\"Cross entropy\", \"Relative entropy\"], axes):\n",
    "    df = metrics_df.query(\"index >= 200\").compute()\n",
    "    df = df.groupby([\"seq_id\", \"index\"]).parallel_apply(compute_relevant_ctx_len, col=metric).reset_index(drop=True)\n",
    "    df = df.join(seq_to_individual[[\"taxon_canonicalName\"]], on=\"seq_id\")\n",
    "    df = df.sort_values(by=\"taxon_canonicalName\")\n",
    "    sns.boxplot(data=df, y=\"taxon_canonicalName\", x=\"ctx_len\",\n",
    "                showmeans=True, meanprops=dict(markerfacecolor=\"black\", markeredgecolor=\"black\"),\n",
    "                showfliers=False, ax=ax)\n",
    "    ax.set_xlabel(xlabel)\n",
    "    ax.set_ylabel(None)\n",
    "\n",
    "plt.gcf().set_size_inches(8, 5)\n",
    "plt.savefig(\"figs/c_boxplot.pdf\", bbox_inches=\"tight\")\n",
    "plt.show()"
   ]
  },
  {
   "cell_type": "code",
   "execution_count": 22,
   "id": "4cdefe5f",
   "metadata": {},
   "outputs": [
    {
     "data": {
      "text/html": [
       "<div>\n",
       "<style scoped>\n",
       "    .dataframe tbody tr th:only-of-type {\n",
       "        vertical-align: middle;\n",
       "    }\n",
       "\n",
       "    .dataframe tbody tr th {\n",
       "        vertical-align: top;\n",
       "    }\n",
       "\n",
       "    .dataframe thead th {\n",
       "        text-align: right;\n",
       "    }\n",
       "</style>\n",
       "<table border=\"1\" class=\"dataframe\">\n",
       "  <thead>\n",
       "    <tr style=\"text-align: right;\">\n",
       "      <th></th>\n",
       "      <th>individual_id</th>\n",
       "      <th>taxon</th>\n",
       "      <th>taxon_canonicalName</th>\n",
       "      <th>taxon_vernacularName</th>\n",
       "      <th>taxon_rank</th>\n",
       "      <th>taxon_kingdom</th>\n",
       "      <th>taxon_phylum</th>\n",
       "      <th>taxon_class</th>\n",
       "      <th>taxon_order</th>\n",
       "      <th>taxon_family</th>\n",
       "      <th>taxon_genus</th>\n",
       "      <th>taxon_species</th>\n",
       "    </tr>\n",
       "    <tr>\n",
       "      <th>seq_id</th>\n",
       "      <th></th>\n",
       "      <th></th>\n",
       "      <th></th>\n",
       "      <th></th>\n",
       "      <th></th>\n",
       "      <th></th>\n",
       "      <th></th>\n",
       "      <th></th>\n",
       "      <th></th>\n",
       "      <th></th>\n",
       "      <th></th>\n",
       "      <th></th>\n",
       "    </tr>\n",
       "  </thead>\n",
       "  <tbody>\n",
       "    <tr>\n",
       "      <th>1200772538_0</th>\n",
       "      <td>1200771388</td>\n",
       "      <td>Cervus elaphus</td>\n",
       "      <td>Cervus elaphus</td>\n",
       "      <td>Red Deer (see comments)</td>\n",
       "      <td>SPECIES</td>\n",
       "      <td>Animalia</td>\n",
       "      <td>Chordata</td>\n",
       "      <td>Mammalia</td>\n",
       "      <td>Artiodactyla</td>\n",
       "      <td>Cervidae</td>\n",
       "      <td>Cervus</td>\n",
       "      <td>Cervus elaphus</td>\n",
       "    </tr>\n",
       "    <tr>\n",
       "      <th>1133104476_0</th>\n",
       "      <td>1133104458</td>\n",
       "      <td>Larus argentatus</td>\n",
       "      <td>Larus argentatus</td>\n",
       "      <td>European Herring Gull</td>\n",
       "      <td>SPECIES</td>\n",
       "      <td>Animalia</td>\n",
       "      <td>Chordata</td>\n",
       "      <td>Aves</td>\n",
       "      <td>Charadriiformes</td>\n",
       "      <td>Laridae</td>\n",
       "      <td>Larus</td>\n",
       "      <td>Larus argentatus</td>\n",
       "    </tr>\n",
       "    <tr>\n",
       "      <th>29852247_1</th>\n",
       "      <td>29852238</td>\n",
       "      <td>Ciconia ciconia</td>\n",
       "      <td>Ciconia ciconia</td>\n",
       "      <td>White Stork</td>\n",
       "      <td>SPECIES</td>\n",
       "      <td>Animalia</td>\n",
       "      <td>Chordata</td>\n",
       "      <td>Aves</td>\n",
       "      <td>Ciconiiformes</td>\n",
       "      <td>Ciconiidae</td>\n",
       "      <td>Ciconia</td>\n",
       "      <td>Ciconia ciconia</td>\n",
       "    </tr>\n",
       "  </tbody>\n",
       "</table>\n",
       "</div>"
      ],
      "text/plain": [
       "             individual_id             taxon taxon_canonicalName  \\\n",
       "seq_id                                                             \n",
       "1200772538_0    1200771388    Cervus elaphus      Cervus elaphus   \n",
       "1133104476_0    1133104458  Larus argentatus    Larus argentatus   \n",
       "29852247_1        29852238   Ciconia ciconia     Ciconia ciconia   \n",
       "\n",
       "                 taxon_vernacularName taxon_rank taxon_kingdom taxon_phylum  \\\n",
       "seq_id                                                                        \n",
       "1200772538_0  Red Deer (see comments)    SPECIES      Animalia     Chordata   \n",
       "1133104476_0    European Herring Gull    SPECIES      Animalia     Chordata   \n",
       "29852247_1                White Stork    SPECIES      Animalia     Chordata   \n",
       "\n",
       "             taxon_class      taxon_order taxon_family taxon_genus  \\\n",
       "seq_id                                                               \n",
       "1200772538_0    Mammalia     Artiodactyla     Cervidae      Cervus   \n",
       "1133104476_0        Aves  Charadriiformes      Laridae       Larus   \n",
       "29852247_1          Aves    Ciconiiformes   Ciconiidae     Ciconia   \n",
       "\n",
       "                 taxon_species  \n",
       "seq_id                          \n",
       "1200772538_0    Cervus elaphus  \n",
       "1133104476_0  Larus argentatus  \n",
       "29852247_1     Ciconia ciconia  "
      ]
     },
     "metadata": {},
     "output_type": "display_data"
    },
    {
     "data": {
      "image/png": "[encoded data removed]",
      "text/plain": [
       "<Figure size 396x216 with 6 Axes>"
      ]
     },
     "metadata": {
      "needs_background": "light"
     },
     "output_type": "display_data"
    },
    {
     "data": {
      "image/png": "[encoded data removed]",
      "text/plain": [
       "<Figure size 396x216 with 6 Axes>"
      ]
     },
     "metadata": {
      "needs_background": "light"
     },
     "output_type": "display_data"
    }
   ],
   "source": [
    "seq_ids_long = sorted(metrics_df.query(\"index >= 200\")[\"seq_id\"].unique().compute())\n",
    "seq_ids_sample = np.random.default_rng(2).choice(seq_ids_long, 3, replace=False)\n",
    "ipd.display(seq_to_individual.loc[seq_ids_sample])\n",
    "\n",
    "for metric in [\"xent\", \"kl_div_max\"]:\n",
    "    fig, axes = plt.subplots(2, len(seq_ids_sample), figsize=(5.5, 3), sharex=True, gridspec_kw=dict(wspace=0.26))\n",
    "    rng = np.random.default_rng(0)\n",
    "    for ax_col, seq_id in zip(axes.T, seq_ids_sample):\n",
    "        ax_col[0].set_title(seq_to_individual.loc[seq_id, \"taxon_canonicalName\"].replace(\" \", \"\\n\"))\n",
    "        seq_df = metrics_df.query(f\"seq_id == @seq_id\", local_dict=dict(seq_id=seq_id)).compute()\n",
    "        for ax, idx in zip(ax_col, rng.choice(sorted(seq_df.query(\"index >= 200\")[\"index\"].unique()), axes.shape[0], replace=False)):\n",
    "            df = seq_df.query(\"index == @idx\").sort_values(by=\"ctx_len\")\n",
    "            ax.plot(df[\"ctx_len\"], df[metric])\n",
    "            c_idx = df.index[df.eval(f\"({metric} - {metric}.min()) / ({metric}.max() - {metric}.min()) <= 0.05\")][0]\n",
    "            ax.scatter(df.loc[c_idx, \"ctx_len\"], df.loc[c_idx, metric], color=\"red\")\n",
    "            ymin, ymax = ax.get_ylim()\n",
    "            ax.set_yticks([np.round(ymin + 0.05, decimals=1), np.round(ymax - 0.05, decimals=1)])\n",
    "            ax.tick_params(axis=\"y\", labelsize=8, pad=1)\n",
    "            ax.xaxis.set_minor_locator(mpl.ticker.MultipleLocator(50))\n",
    "    plt.savefig(f\"figs/ctx_{metric}_examples.pdf\", bbox_inches=\"tight\")\n",
    "    plt.show()"
   ]
  }
 ],
 "metadata": {
  "kernelspec": {
   "display_name": "moveformer",
   "language": "python",
   "name": "moveformer"
  },
  "language_info": {
   "codemirror_mode": {
    "name": "ipython",
    "version": 3
   },
   "file_extension": ".py",
   "mimetype": "text/x-python",
   "name": "python",
   "nbconvert_exporter": "python",
   "pygments_lexer": "ipython3",
   "version": "3.9.5"
  }
 },
 "nbformat": 4,
 "nbformat_minor": 5
}
