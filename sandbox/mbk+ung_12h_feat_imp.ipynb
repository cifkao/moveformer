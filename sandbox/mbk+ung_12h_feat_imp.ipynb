{
 "cells": [
  {
   "cell_type": "markdown",
   "id": "8dfc125c",
   "metadata": {},
   "source": [
    "# Candidate feature importance"
   ]
  },
  {
   "cell_type": "code",
   "execution_count": 1,
   "id": "dffab3f7",
   "metadata": {},
   "outputs": [],
   "source": [
    "import collections\n",
    "import copy\n",
    "from pathlib import Path\n",
    "\n",
    "from geo_transformers.data_loading import TransformedDataset\n",
    "from geo_transformers.models.any_horizon_forecast_transformer import AnyHorizonForecastTransformerCLI, SelectionHead\n",
    "from geo_transformers import notebook_utils, training_utils\n",
    "import pandas as pd\n",
    "import torch\n",
    "from torch.nn import functional as F\n",
    "import numpy as np\n",
    "import matplotlib.pyplot as plt\n",
    "import seaborn as sns\n",
    "from tqdm.auto import tqdm\n",
    "import yaml\n",
    "import wandb"
   ]
  },
  {
   "cell_type": "markdown",
   "id": "4c96e5e4",
   "metadata": {},
   "source": [
    "## Load model and data"
   ]
  },
  {
   "cell_type": "code",
   "execution_count": 2,
   "id": "8137f694",
   "metadata": {},
   "outputs": [],
   "source": [
    "ENTITY = \"lirmm-zenith\"\n",
    "PROJECT = \"geo-transformers\"\n",
    "\n",
    "def load_run(run_id):\n",
    "    run_path = f\"{ENTITY}/{PROJECT}/{run_id}\"\n",
    "    run_dir = Path(f\"exp/forecast_mbk+ung_12h/{PROJECT}/{run_id}\")\n",
    "\n",
    "    if (run_dir / \"config.yaml\").exists():\n",
    "        f = open(run_dir / \"config.yaml\")\n",
    "    else:\n",
    "        run_dir.mkdir(exist_ok=True)\n",
    "        f = wandb.restore(\"config.yaml\", run_path=run_path, root=run_dir)\n",
    "    with f:\n",
    "        config_dict = yaml.load(f, Loader=yaml.SafeLoader)\n",
    "    config_dict = config_dict[\"fit\"][\"value\"]\n",
    "    config_dict[\"trainer\"][\"logger\"] = False\n",
    "    del config_dict[\"seed_everything\"], config_dict[\"ckpt_path\"]\n",
    "\n",
    "    config, objects = notebook_utils.load_experiment(AnyHorizonForecastTransformerCLI, config_dict)\n",
    "    \n",
    "    return run_dir, config, objects"
   ]
  },
  {
   "cell_type": "code",
   "execution_count": 3,
   "id": "9792cd11",
   "metadata": {},
   "outputs": [],
   "source": [
    "run_id = \"37ld98g9\""
   ]
  },
  {
   "cell_type": "code",
   "execution_count": 4,
   "id": "cd53856c",
   "metadata": {},
   "outputs": [
    {
     "name": "stdout",
     "output_type": "stream",
     "text": [
      "exp/forecast_mbk+ung_12h/geo-transformers/37ld98g9/checkpoints/epoch=169-step=23629-best.ckpt\n"
     ]
    },
    {
     "data": {
      "application/vnd.jupyter.widget-view+json": {
       "model_id": "f2f7fa96f864450fbf6c94eb0489dff6",
       "version_major": 2,
       "version_minor": 0
      },
      "text/plain": [
       "  0%|          | 0/151 [00:00<?, ?it/s]"
      ]
     },
     "metadata": {},
     "output_type": "display_data"
    }
   ],
   "source": [
    "with notebook_utils.chdir(\"..\"):\n",
    "    run_dir, config, objects = load_run(run_id)\n",
    "\n",
    "    [ckpt_path] = sorted((run_dir / \"checkpoints\").glob(\"*-best.ckpt\"))\n",
    "    print(ckpt_path)\n",
    "\n",
    "    model = objects[\"model\"]\n",
    "    dmodule = objects[\"data\"]\n",
    "\n",
    "    model.load_state_dict(torch.load(ckpt_path)[\"state_dict\"])\n",
    "    \n",
    "    dmodule.setup(stage=\"predict\")\n",
    "    dataset_raw = dmodule.test_dataloader().dataset\n",
    "    dataset_raw.preprocess_fn = lambda x: x\n",
    "    dataset_raw.num_candidates = 16\n",
    "    dataset_raw = list(tqdm(dataset_raw))\n",
    "\n",
    "model.cuda()\n",
    "model.train(False)\n",
    "\n",
    "dataset = TransformedDataset(dataset_raw, dmodule.processor.encode)\n",
    "dloader = torch.utils.data.DataLoader(\n",
    "    dataset,\n",
    "    batch_size=8,\n",
    "    collate_fn=training_utils.collate_sequence_dicts,\n",
    "    num_workers=0\n",
    ")"
   ]
  },
  {
   "cell_type": "markdown",
   "id": "9aa8026b",
   "metadata": {},
   "source": [
    "## Run prediction"
   ]
  },
  {
   "cell_type": "code",
   "execution_count": 5,
   "id": "6983e45b",
   "metadata": {},
   "outputs": [],
   "source": [
    "def cat_padded(tensors):\n",
    "    max_len = max(t.shape[1] for t in tensors)\n",
    "    return torch.cat(\n",
    "        [F.pad(t, (0, 0) * (len(t.shape) - 2) + (0, max_len - t.shape[1])) for t in tensors],\n",
    "        axis=0\n",
    "    )"
   ]
  },
  {
   "cell_type": "code",
   "execution_count": 6,
   "id": "8afd4908",
   "metadata": {},
   "outputs": [],
   "source": [
    "def permute_feature(batch, feat_name, feat_dim, rng_seed=None):\n",
    "    if rng_seed is None:\n",
    "        rng_seed = batch[\"mask\"].sum().item()\n",
    "    feat_index = () if feat_dim is None else (..., feat_dim)\n",
    "    feat = batch[feat_name][feat_index]\n",
    "    shuffle_idxs = np.arange(feat.shape[2])[None, None, :]\n",
    "    shuffle_idxs = np.broadcast_to(shuffle_idxs, shape=feat.shape[:3])\n",
    "    shuffle_idxs = np.random.default_rng(rng_seed).permuted(shuffle_idxs, axis=2)\n",
    "    if feat.ndim > shuffle_idxs.ndim:\n",
    "        shuffle_idxs = shuffle_idxs[..., None]\n",
    "    shuffle_idxs = np.broadcast_to(shuffle_idxs, shape=feat.shape)\n",
    "    shuffle_idxs = torch.tensor(shuffle_idxs, device=model.device)\n",
    "    batch[feat_name][feat_index] = torch.gather(feat, index=shuffle_idxs, dim=2)\n",
    "    return batch"
   ]
  },
  {
   "cell_type": "code",
   "execution_count": 7,
   "id": "6b14d04e",
   "metadata": {},
   "outputs": [],
   "source": [
    "def ablate_feature_median(batch, feat_name, feat_dim):\n",
    "    feat_index = (...,) if feat_dim is None else (..., feat_dim)\n",
    "    if torch.is_floating_point(batch[feat_name]):\n",
    "        batch[feat_name][feat_index] = torch.median(batch[feat_name][feat_index], dim=2, keepdim=True).values\n",
    "    else:\n",
    "        batch[feat_name][feat_index] = torch.mode(batch[feat_name][feat_index], dim=2, keepdim=True).values\n",
    "    return batch"
   ]
  },
  {
   "cell_type": "code",
   "execution_count": 8,
   "id": "aed84eb4",
   "metadata": {},
   "outputs": [],
   "source": [
    "FEATS = [\n",
    "    (None, None),\n",
    "    (\"location_cand\", None),\n",
    "    (\"location_cand_mov\", None),\n",
    "    (\"humfoot_cand\", None),\n",
    "    (\"landcover_cand\", None),\n",
    "    (\"bioclim_cand\", None),\n",
    "]\n",
    "FEATS.extend(\n",
    "    (\"bioclim_cand\", j) for j in range(19)\n",
    ")"
   ]
  },
  {
   "cell_type": "code",
   "execution_count": 9,
   "id": "81cfd0b0",
   "metadata": {},
   "outputs": [
    {
     "data": {
      "application/vnd.jupyter.widget-view+json": {
       "model_id": "3f021d12ef0949dcbf2cf5d45f50e61d",
       "version_major": 2,
       "version_minor": 0
      },
      "text/plain": [
       "  0%|          | 0/19 [00:00<?, ?it/s]"
      ]
     },
     "metadata": {},
     "output_type": "display_data"
    },
    {
     "data": {
      "application/vnd.jupyter.widget-view+json": {
       "model_id": "",
       "version_major": 2,
       "version_minor": 0
      },
      "text/plain": [
       "  0%|          | 0/25 [00:00<?, ?it/s]"
      ]
     },
     "metadata": {},
     "output_type": "display_data"
    },
    {
     "data": {
      "application/vnd.jupyter.widget-view+json": {
       "model_id": "",
       "version_major": 2,
       "version_minor": 0
      },
      "text/plain": [
       "  0%|          | 0/25 [00:00<?, ?it/s]"
      ]
     },
     "metadata": {},
     "output_type": "display_data"
    },
    {
     "data": {
      "application/vnd.jupyter.widget-view+json": {
       "model_id": "",
       "version_major": 2,
       "version_minor": 0
      },
      "text/plain": [
       "  0%|          | 0/25 [00:00<?, ?it/s]"
      ]
     },
     "metadata": {},
     "output_type": "display_data"
    },
    {
     "data": {
      "application/vnd.jupyter.widget-view+json": {
       "model_id": "",
       "version_major": 2,
       "version_minor": 0
      },
      "text/plain": [
       "  0%|          | 0/25 [00:00<?, ?it/s]"
      ]
     },
     "metadata": {},
     "output_type": "display_data"
    },
    {
     "data": {
      "application/vnd.jupyter.widget-view+json": {
       "model_id": "",
       "version_major": 2,
       "version_minor": 0
      },
      "text/plain": [
       "  0%|          | 0/25 [00:00<?, ?it/s]"
      ]
     },
     "metadata": {},
     "output_type": "display_data"
    },
    {
     "data": {
      "application/vnd.jupyter.widget-view+json": {
       "model_id": "",
       "version_major": 2,
       "version_minor": 0
      },
      "text/plain": [
       "  0%|          | 0/25 [00:00<?, ?it/s]"
      ]
     },
     "metadata": {},
     "output_type": "display_data"
    },
    {
     "data": {
      "application/vnd.jupyter.widget-view+json": {
       "model_id": "",
       "version_major": 2,
       "version_minor": 0
      },
      "text/plain": [
       "  0%|          | 0/25 [00:00<?, ?it/s]"
      ]
     },
     "metadata": {},
     "output_type": "display_data"
    },
    {
     "data": {
      "application/vnd.jupyter.widget-view+json": {
       "model_id": "",
       "version_major": 2,
       "version_minor": 0
      },
      "text/plain": [
       "  0%|          | 0/25 [00:00<?, ?it/s]"
      ]
     },
     "metadata": {},
     "output_type": "display_data"
    },
    {
     "data": {
      "application/vnd.jupyter.widget-view+json": {
       "model_id": "",
       "version_major": 2,
       "version_minor": 0
      },
      "text/plain": [
       "  0%|          | 0/25 [00:00<?, ?it/s]"
      ]
     },
     "metadata": {},
     "output_type": "display_data"
    },
    {
     "data": {
      "application/vnd.jupyter.widget-view+json": {
       "model_id": "",
       "version_major": 2,
       "version_minor": 0
      },
      "text/plain": [
       "  0%|          | 0/25 [00:00<?, ?it/s]"
      ]
     },
     "metadata": {},
     "output_type": "display_data"
    },
    {
     "data": {
      "application/vnd.jupyter.widget-view+json": {
       "model_id": "",
       "version_major": 2,
       "version_minor": 0
      },
      "text/plain": [
       "  0%|          | 0/25 [00:00<?, ?it/s]"
      ]
     },
     "metadata": {},
     "output_type": "display_data"
    },
    {
     "data": {
      "application/vnd.jupyter.widget-view+json": {
       "model_id": "",
       "version_major": 2,
       "version_minor": 0
      },
      "text/plain": [
       "  0%|          | 0/25 [00:00<?, ?it/s]"
      ]
     },
     "metadata": {},
     "output_type": "display_data"
    },
    {
     "data": {
      "application/vnd.jupyter.widget-view+json": {
       "model_id": "",
       "version_major": 2,
       "version_minor": 0
      },
      "text/plain": [
       "  0%|          | 0/25 [00:00<?, ?it/s]"
      ]
     },
     "metadata": {},
     "output_type": "display_data"
    },
    {
     "data": {
      "application/vnd.jupyter.widget-view+json": {
       "model_id": "",
       "version_major": 2,
       "version_minor": 0
      },
      "text/plain": [
       "  0%|          | 0/25 [00:00<?, ?it/s]"
      ]
     },
     "metadata": {},
     "output_type": "display_data"
    },
    {
     "data": {
      "application/vnd.jupyter.widget-view+json": {
       "model_id": "",
       "version_major": 2,
       "version_minor": 0
      },
      "text/plain": [
       "  0%|          | 0/25 [00:00<?, ?it/s]"
      ]
     },
     "metadata": {},
     "output_type": "display_data"
    },
    {
     "data": {
      "application/vnd.jupyter.widget-view+json": {
       "model_id": "",
       "version_major": 2,
       "version_minor": 0
      },
      "text/plain": [
       "  0%|          | 0/25 [00:00<?, ?it/s]"
      ]
     },
     "metadata": {},
     "output_type": "display_data"
    },
    {
     "data": {
      "application/vnd.jupyter.widget-view+json": {
       "model_id": "",
       "version_major": 2,
       "version_minor": 0
      },
      "text/plain": [
       "  0%|          | 0/25 [00:00<?, ?it/s]"
      ]
     },
     "metadata": {},
     "output_type": "display_data"
    },
    {
     "data": {
      "application/vnd.jupyter.widget-view+json": {
       "model_id": "",
       "version_major": 2,
       "version_minor": 0
      },
      "text/plain": [
       "  0%|          | 0/25 [00:00<?, ?it/s]"
      ]
     },
     "metadata": {},
     "output_type": "display_data"
    },
    {
     "data": {
      "application/vnd.jupyter.widget-view+json": {
       "model_id": "",
       "version_major": 2,
       "version_minor": 0
      },
      "text/plain": [
       "  0%|          | 0/25 [00:00<?, ?it/s]"
      ]
     },
     "metadata": {},
     "output_type": "display_data"
    }
   ],
   "source": [
    "mask, preds_abl = [], collections.defaultdict(lambda: collections.defaultdict(list))\n",
    "with torch.inference_mode():\n",
    "    for i, batch_orig in enumerate(tqdm(dloader)):\n",
    "        for feat_name, feat_dim in tqdm(FEATS, leave=False):\n",
    "            for method in [\"permute\", \"median\"]:\n",
    "                batch = dmodule.transfer_batch_to_device(copy.deepcopy(batch_orig), device=model.device, dataloader_idx=0)\n",
    "\n",
    "                if feat_name is not None:\n",
    "                    feat_key = feat_name + (f\"[{feat_dim+1}]\" if feat_dim is not None else \"\")\n",
    "                    if method == \"permute\":\n",
    "                        permute_feature(batch, feat_name, feat_dim)\n",
    "                    else:\n",
    "                        ablate_feature_median(batch, feat_name, feat_dim)\n",
    "                else:\n",
    "                    feat_key = \"none\"\n",
    "\n",
    "                pred, _, _ = model(batch)\n",
    "                pred = pred.log_softmax(dim=-1)\n",
    "                preds_abl[method][feat_key].append(pred.cpu())\n",
    "            if feat_name is None:\n",
    "                mask.append(batch[\"mask\"].cpu())\n",
    "mask = cat_padded(mask)\n",
    "preds_abl = {k: {vk: cat_padded(vv) for vk, vv in v.items()} for k, v in preds_abl.items()}"
   ]
  },
  {
   "cell_type": "markdown",
   "id": "7976f3ee",
   "metadata": {},
   "source": [
    "## Compute metrics"
   ]
  },
  {
   "cell_type": "code",
   "execution_count": 10,
   "id": "d7feb168",
   "metadata": {},
   "outputs": [],
   "source": [
    "def compute_accuracies(preds, mask, k=1, num_candidates=None):\n",
    "    assert num_candidates is None or preds.shape[-1] >= num_candidates\n",
    "    hits = (preds[..., :num_candidates].topk(k, dim=-1).indices == 0).any(dim=-1)\n",
    "    return ((hits * mask).sum(dim=-1) / mask.sum(dim=-1))"
   ]
  },
  {
   "cell_type": "code",
   "execution_count": 11,
   "id": "e82acda0",
   "metadata": {},
   "outputs": [
    {
     "data": {
      "application/vnd.jupyter.widget-view+json": {
       "model_id": "9742fa2dfaad4437bdbee335b57b3b33",
       "version_major": 2,
       "version_minor": 0
      },
      "text/plain": [
       "  0%|          | 0/25 [00:00<?, ?it/s]"
      ]
     },
     "metadata": {},
     "output_type": "display_data"
    }
   ],
   "source": [
    "# NOTE: Should use the same number of candidates as above due to permutation\n",
    "\n",
    "results = []\n",
    "for feat_key in tqdm(preds_abl[\"permute\"].keys()):\n",
    "    for method in preds_abl.keys():\n",
    "        preds = preds_abl[method][feat_key]\n",
    "        log_n = np.log(preds.shape[-1])\n",
    "        tgt_oh = F.one_hot(torch.zeros(preds.shape[:-1], dtype=int), num_classes=preds.shape[-1])\n",
    "        xent = F.kl_div(preds, tgt_oh, log_target=False, reduction=\"none\").sum(dim=-1) / log_n\n",
    "        results.append(pd.DataFrame({\n",
    "            \"method\": method,\n",
    "            \"feat\": feat_key,\n",
    "            \"seq_id\": np.arange(len(mask)),\n",
    "            \"-xent@16\": -((xent * mask).sum(dim=1) / mask.sum(dim=1)),\n",
    "            \"acc 8/16\": compute_accuracies(preds, mask, 8, 16),\n",
    "            \"acc 1/16\": compute_accuracies(preds, mask, 1, 16),\n",
    "        }))\n",
    "\n",
    "results = pd.concat(results)"
   ]
  },
  {
   "cell_type": "markdown",
   "id": "e03c81a4",
   "metadata": {},
   "source": [
    "### Save/load metrics"
   ]
  },
  {
   "cell_type": "code",
   "execution_count": 12,
   "id": "4205fb5e",
   "metadata": {},
   "outputs": [],
   "source": [
    "results.to_csv(\"mbk+ung_12h_feat_imp_results.csv\", index=False)"
   ]
  },
  {
   "cell_type": "code",
   "execution_count": 13,
   "id": "bdd42df2",
   "metadata": {},
   "outputs": [],
   "source": [
    "results = pd.read_csv(\"mbk+ung_12h_feat_imp_results.csv\")"
   ]
  },
  {
   "cell_type": "markdown",
   "id": "adb6c0f8",
   "metadata": {},
   "source": [
    "## Compute feature importances"
   ]
  },
  {
   "cell_type": "code",
   "execution_count": 14,
   "id": "6afabe9c",
   "metadata": {},
   "outputs": [],
   "source": [
    "results_base = results.query(\"feat == 'none'\").set_index([\"method\", \"seq_id\"]).drop(columns=\"feat\")\n",
    "results_diff = (\n",
    "    results\n",
    "    .query(\"feat != 'none'\")\n",
    "    .groupby(\"feat\")\n",
    "    .apply(lambda df: results_base - df.set_index([\"method\", \"seq_id\"]).drop(columns=\"feat\"))\n",
    "    .reset_index()\n",
    ")"
   ]
  },
  {
   "cell_type": "code",
   "execution_count": 15,
   "id": "ffc4aa96",
   "metadata": {
    "scrolled": true
   },
   "outputs": [
    {
     "data": {
      "text/html": [
       "<div>\n",
       "<style scoped>\n",
       "    .dataframe tbody tr th:only-of-type {\n",
       "        vertical-align: middle;\n",
       "    }\n",
       "\n",
       "    .dataframe tbody tr th {\n",
       "        vertical-align: top;\n",
       "    }\n",
       "\n",
       "    .dataframe thead th {\n",
       "        text-align: right;\n",
       "    }\n",
       "</style>\n",
       "<table border=\"1\" class=\"dataframe\">\n",
       "  <thead>\n",
       "    <tr style=\"text-align: right;\">\n",
       "      <th></th>\n",
       "      <th>-xent@16</th>\n",
       "      <th>acc 8/16</th>\n",
       "      <th>acc 1/16</th>\n",
       "    </tr>\n",
       "    <tr>\n",
       "      <th>feat</th>\n",
       "      <th></th>\n",
       "      <th></th>\n",
       "      <th></th>\n",
       "    </tr>\n",
       "  </thead>\n",
       "  <tbody>\n",
       "    <tr>\n",
       "      <th>location_cand</th>\n",
       "      <td>0.000006</td>\n",
       "      <td>-0.000049</td>\n",
       "      <td>0.000238</td>\n",
       "    </tr>\n",
       "    <tr>\n",
       "      <th>bioclim_cand[7]</th>\n",
       "      <td>0.000311</td>\n",
       "      <td>-0.000286</td>\n",
       "      <td>0.000601</td>\n",
       "    </tr>\n",
       "    <tr>\n",
       "      <th>bioclim_cand[8]</th>\n",
       "      <td>0.000312</td>\n",
       "      <td>0.000385</td>\n",
       "      <td>0.000687</td>\n",
       "    </tr>\n",
       "    <tr>\n",
       "      <th>bioclim_cand[18]</th>\n",
       "      <td>0.000564</td>\n",
       "      <td>0.001472</td>\n",
       "      <td>0.001400</td>\n",
       "    </tr>\n",
       "    <tr>\n",
       "      <th>bioclim_cand[5]</th>\n",
       "      <td>0.000625</td>\n",
       "      <td>0.001643</td>\n",
       "      <td>0.001556</td>\n",
       "    </tr>\n",
       "    <tr>\n",
       "      <th>bioclim_cand[9]</th>\n",
       "      <td>0.000646</td>\n",
       "      <td>0.000051</td>\n",
       "      <td>0.002648</td>\n",
       "    </tr>\n",
       "    <tr>\n",
       "      <th>bioclim_cand[1]</th>\n",
       "      <td>0.000700</td>\n",
       "      <td>0.000942</td>\n",
       "      <td>0.001641</td>\n",
       "    </tr>\n",
       "    <tr>\n",
       "      <th>bioclim_cand[19]</th>\n",
       "      <td>0.000702</td>\n",
       "      <td>0.000593</td>\n",
       "      <td>0.001295</td>\n",
       "    </tr>\n",
       "    <tr>\n",
       "      <th>bioclim_cand[3]</th>\n",
       "      <td>0.000932</td>\n",
       "      <td>0.000449</td>\n",
       "      <td>0.002697</td>\n",
       "    </tr>\n",
       "    <tr>\n",
       "      <th>bioclim_cand[12]</th>\n",
       "      <td>0.001020</td>\n",
       "      <td>0.001962</td>\n",
       "      <td>0.002120</td>\n",
       "    </tr>\n",
       "    <tr>\n",
       "      <th>bioclim_cand[16]</th>\n",
       "      <td>0.001107</td>\n",
       "      <td>0.001093</td>\n",
       "      <td>0.002080</td>\n",
       "    </tr>\n",
       "    <tr>\n",
       "      <th>bioclim_cand[13]</th>\n",
       "      <td>0.001197</td>\n",
       "      <td>0.001662</td>\n",
       "      <td>0.002157</td>\n",
       "    </tr>\n",
       "    <tr>\n",
       "      <th>bioclim_cand[4]</th>\n",
       "      <td>0.001360</td>\n",
       "      <td>0.000905</td>\n",
       "      <td>0.002573</td>\n",
       "    </tr>\n",
       "    <tr>\n",
       "      <th>bioclim_cand[6]</th>\n",
       "      <td>0.001388</td>\n",
       "      <td>0.001298</td>\n",
       "      <td>0.001981</td>\n",
       "    </tr>\n",
       "    <tr>\n",
       "      <th>bioclim_cand[10]</th>\n",
       "      <td>0.001503</td>\n",
       "      <td>0.000967</td>\n",
       "      <td>0.003137</td>\n",
       "    </tr>\n",
       "    <tr>\n",
       "      <th>bioclim_cand[15]</th>\n",
       "      <td>0.001736</td>\n",
       "      <td>0.001725</td>\n",
       "      <td>0.001906</td>\n",
       "    </tr>\n",
       "    <tr>\n",
       "      <th>bioclim_cand[11]</th>\n",
       "      <td>0.001892</td>\n",
       "      <td>0.002697</td>\n",
       "      <td>0.002279</td>\n",
       "    </tr>\n",
       "    <tr>\n",
       "      <th>bioclim_cand[14]</th>\n",
       "      <td>0.003853</td>\n",
       "      <td>0.004128</td>\n",
       "      <td>0.005286</td>\n",
       "    </tr>\n",
       "    <tr>\n",
       "      <th>bioclim_cand[17]</th>\n",
       "      <td>0.006296</td>\n",
       "      <td>0.002218</td>\n",
       "      <td>0.004421</td>\n",
       "    </tr>\n",
       "    <tr>\n",
       "      <th>bioclim_cand[2]</th>\n",
       "      <td>0.011439</td>\n",
       "      <td>0.007056</td>\n",
       "      <td>0.007240</td>\n",
       "    </tr>\n",
       "    <tr>\n",
       "      <th>bioclim_cand</th>\n",
       "      <td>0.043103</td>\n",
       "      <td>0.020299</td>\n",
       "      <td>0.017567</td>\n",
       "    </tr>\n",
       "    <tr>\n",
       "      <th>humfoot_cand</th>\n",
       "      <td>0.089701</td>\n",
       "      <td>0.027932</td>\n",
       "      <td>0.026265</td>\n",
       "    </tr>\n",
       "    <tr>\n",
       "      <th>landcover_cand</th>\n",
       "      <td>0.174614</td>\n",
       "      <td>0.086969</td>\n",
       "      <td>0.077551</td>\n",
       "    </tr>\n",
       "    <tr>\n",
       "      <th>location_cand_mov</th>\n",
       "      <td>0.384576</td>\n",
       "      <td>0.098492</td>\n",
       "      <td>0.085466</td>\n",
       "    </tr>\n",
       "  </tbody>\n",
       "</table>\n",
       "</div>"
      ],
      "text/plain": [
       "                   -xent@16  acc 8/16  acc 1/16\n",
       "feat                                           \n",
       "location_cand      0.000006 -0.000049  0.000238\n",
       "bioclim_cand[7]    0.000311 -0.000286  0.000601\n",
       "bioclim_cand[8]    0.000312  0.000385  0.000687\n",
       "bioclim_cand[18]   0.000564  0.001472  0.001400\n",
       "bioclim_cand[5]    0.000625  0.001643  0.001556\n",
       "bioclim_cand[9]    0.000646  0.000051  0.002648\n",
       "bioclim_cand[1]    0.000700  0.000942  0.001641\n",
       "bioclim_cand[19]   0.000702  0.000593  0.001295\n",
       "bioclim_cand[3]    0.000932  0.000449  0.002697\n",
       "bioclim_cand[12]   0.001020  0.001962  0.002120\n",
       "bioclim_cand[16]   0.001107  0.001093  0.002080\n",
       "bioclim_cand[13]   0.001197  0.001662  0.002157\n",
       "bioclim_cand[4]    0.001360  0.000905  0.002573\n",
       "bioclim_cand[6]    0.001388  0.001298  0.001981\n",
       "bioclim_cand[10]   0.001503  0.000967  0.003137\n",
       "bioclim_cand[15]   0.001736  0.001725  0.001906\n",
       "bioclim_cand[11]   0.001892  0.002697  0.002279\n",
       "bioclim_cand[14]   0.003853  0.004128  0.005286\n",
       "bioclim_cand[17]   0.006296  0.002218  0.004421\n",
       "bioclim_cand[2]    0.011439  0.007056  0.007240\n",
       "bioclim_cand       0.043103  0.020299  0.017567\n",
       "humfoot_cand       0.089701  0.027932  0.026265\n",
       "landcover_cand     0.174614  0.086969  0.077551\n",
       "location_cand_mov  0.384576  0.098492  0.085466"
      ]
     },
     "execution_count": 15,
     "metadata": {},
     "output_type": "execute_result"
    }
   ],
   "source": [
    "results_diff.query(\"method == 'permute'\").drop(columns=[\"seq_id\", \"method\"]).groupby(\"feat\").mean().sort_values(by=\"-xent@16\")"
   ]
  },
  {
   "cell_type": "code",
   "execution_count": 16,
   "id": "7dbcee68",
   "metadata": {
    "scrolled": false
   },
   "outputs": [
    {
     "data": {
      "image/png": "[encoded data removed]",
      "text/plain": [
       "<Figure size 576x432 with 2 Axes>"
      ]
     },
     "metadata": {
      "needs_background": "light"
     },
     "output_type": "display_data"
    }
   ],
   "source": [
    "for method in [\"permute\"]:\n",
    "    fig, axes = plt.subplots(1, 2, figsize=(8, 6), sharey=True, constrained_layout=True)\n",
    "    for metric, ax in zip([\"-xent@16\", \"acc 1/16\"], axes):\n",
    "        g = sns.boxplot(\n",
    "            data=results_diff.query(\"method == @method\")[[\"feat\", metric]].melt(id_vars=[\"feat\"]),\n",
    "            x=\"value\", y=\"feat\", order=results.query(\"feat != 'none'\")[\"feat\"].unique(),\n",
    "            showmeans=True, showfliers=False,\n",
    "            meanprops=dict(markerfacecolor=\"white\", markeredgecolor=\"black\"), ax=ax)\n",
    "        ax.set_xlabel(metric + \" difference\")\n",
    "        ax.set_ylabel(None)\n",
    "    axes[0].set_yticklabels([l.get_text().replace(\"_cand\", \"\") for l in axes[0].get_yticklabels()])\n",
    "    plt.savefig(f\"figs/feat_imp_{method}.pdf\", bbox_inches=\"tight\")\n",
    "    plt.show()"
   ]
  }
 ],
 "metadata": {
  "kernelspec": {
   "display_name": "moveformer",
   "language": "python",
   "name": "moveformer"
  },
  "language_info": {
   "codemirror_mode": {
    "name": "ipython",
    "version": 3
   },
   "file_extension": ".py",
   "mimetype": "text/x-python",
   "name": "python",
   "nbconvert_exporter": "python",
   "pygments_lexer": "ipython3",
   "version": "3.9.5"
  }
 },
 "nbformat": 4,
 "nbformat_minor": 5
}
