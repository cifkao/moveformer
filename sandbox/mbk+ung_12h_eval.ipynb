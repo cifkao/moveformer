{
 "cells": [
  {
   "cell_type": "markdown",
   "id": "d039c8cb",
   "metadata": {},
   "source": [
    "# Validation"
   ]
  },
  {
   "cell_type": "code",
   "execution_count": 1,
   "id": "dffab3f7",
   "metadata": {},
   "outputs": [],
   "source": [
    "import collections\n",
    "from pathlib import Path\n",
    "\n",
    "from geo_transformers.data_loading import TransformedDataset\n",
    "from geo_transformers.models.any_horizon_forecast_transformer import AnyHorizonForecastTransformerCLI, SelectionHead\n",
    "from geo_transformers import notebook_utils, training_utils\n",
    "import IPython.display as ipd\n",
    "import matplotlib.pyplot as plt\n",
    "import numpy as np\n",
    "import pandas as pd\n",
    "import pyarrow.parquet as pq\n",
    "import torch\n",
    "from torch.nn import functional as F\n",
    "import seaborn as sns\n",
    "from tqdm.auto import tqdm\n",
    "import wandb\n",
    "import yaml"
   ]
  },
  {
   "cell_type": "markdown",
   "id": "3f2afcb9",
   "metadata": {},
   "source": [
    "## Load model and data"
   ]
  },
  {
   "cell_type": "code",
   "execution_count": 2,
   "id": "8137f694",
   "metadata": {},
   "outputs": [],
   "source": [
    "ENTITY = \"lirmm-zenith\"\n",
    "PROJECT = \"geo-transformers\"\n",
    "\n",
    "def load_run(run_id):\n",
    "    run_path = f\"{ENTITY}/{PROJECT}/{run_id}\"\n",
    "    run_dir = Path(f\"exp/forecast_mbk+ung_12h/{PROJECT}/{run_id}\")\n",
    "\n",
    "    if (run_dir / \"config.yaml\").exists():\n",
    "        f = open(run_dir / \"config.yaml\")\n",
    "    else:\n",
    "        run_dir.mkdir(exist_ok=True)\n",
    "        f = wandb.restore(\"config.yaml\", run_path=run_path, root=run_dir)\n",
    "    with f:\n",
    "        config_dict = yaml.load(f, Loader=yaml.SafeLoader)\n",
    "    config_dict = config_dict[\"fit\"][\"value\"]\n",
    "    config_dict[\"trainer\"][\"logger\"] = False\n",
    "    del config_dict[\"seed_everything\"], config_dict[\"ckpt_path\"]\n",
    "    \n",
    "    config, objects = notebook_utils.load_experiment(AnyHorizonForecastTransformerCLI, config_dict)\n",
    "    \n",
    "    return run_dir, config, objects"
   ]
  },
  {
   "cell_type": "code",
   "execution_count": 3,
   "id": "60f89833",
   "metadata": {},
   "outputs": [
    {
     "data": {
      "application/vnd.jupyter.widget-view+json": {
       "model_id": "fb0c2e09290441a8a15c138d05f762f3",
       "version_major": 2,
       "version_minor": 0
      },
      "text/plain": [
       "  0%|          | 0/151 [00:00<?, ?it/s]"
      ]
     },
     "metadata": {},
     "output_type": "display_data"
    }
   ],
   "source": [
    "with notebook_utils.chdir(\"..\"):\n",
    "    _, config, objects = load_run(\"uxc2lb3w\")\n",
    "    dmodule = objects[\"data\"]\n",
    "    del config, objects\n",
    "\n",
    "    dmodule.setup(stage=\"predict\")\n",
    "    dataset_raw = dmodule.test_dataloader().dataset\n",
    "    dataset_raw.preprocess_fn = lambda x: x\n",
    "    dataset_raw.num_candidates = 100\n",
    "    dataset_raw = list(tqdm(dataset_raw))"
   ]
  },
  {
   "cell_type": "code",
   "execution_count": 4,
   "id": "6983e45b",
   "metadata": {},
   "outputs": [],
   "source": [
    "def cat_padded(tensors):\n",
    "    max_len = max(t.shape[1] for t in tensors)\n",
    "    return torch.cat(\n",
    "        [F.pad(t, (0, 0) * (len(t.shape) - 2) + (0, max_len - t.shape[1])) for t in tensors],\n",
    "        axis=0\n",
    "    )"
   ]
  },
  {
   "cell_type": "markdown",
   "id": "cfa63061",
   "metadata": {},
   "source": [
    "## Get predictions and metrics"
   ]
  },
  {
   "cell_type": "code",
   "execution_count": 5,
   "id": "b872721b",
   "metadata": {},
   "outputs": [],
   "source": [
    "def predict(run_id, no_context=False):\n",
    "    with notebook_utils.chdir(\"..\"):\n",
    "        run_dir, config, objects = load_run(run_id)\n",
    "\n",
    "        [ckpt_path] = sorted((run_dir / \"checkpoints\").glob(\"*-best.ckpt\"))\n",
    "        print(ckpt_path)\n",
    "\n",
    "        model = objects[\"model\"]\n",
    "        dmodule = objects[\"data\"]\n",
    "\n",
    "        model.load_state_dict(torch.load(ckpt_path)[\"state_dict\"])\n",
    "\n",
    "    model.cuda()\n",
    "    model.train(False)\n",
    "    \n",
    "    dloader = torch.utils.data.DataLoader(\n",
    "        TransformedDataset(dataset_raw, dmodule.processor.encode),\n",
    "        batch_size=8,\n",
    "        collate_fn=training_utils.collate_sequence_dicts,\n",
    "        num_workers=0\n",
    "    )\n",
    "\n",
    "    masks, preds = [], []\n",
    "    with torch.inference_mode():\n",
    "        for batch in tqdm(dloader, leave=False):\n",
    "            batch = dmodule.transfer_batch_to_device(batch, device=model.device, dataloader_idx=0)\n",
    "        \n",
    "            encoder_kwargs = {}\n",
    "            if no_context:\n",
    "                encoder_kwargs.update(\n",
    "                    attn_mask=torch.eye(batch[\"mask\"].shape[1], dtype=bool, device=model.device)\n",
    "                )\n",
    "\n",
    "            pred, _, _ = model(batch, encoder_kwargs=encoder_kwargs)\n",
    "            preds.append(pred.cpu())\n",
    "            masks.append(batch[\"mask\"].cpu())\n",
    "    return cat_padded(preds), cat_padded(masks)"
   ]
  },
  {
   "cell_type": "code",
   "execution_count": 6,
   "id": "d7feb168",
   "metadata": {},
   "outputs": [],
   "source": [
    "def compute_accuracies(preds, mask, k=1, num_candidates=None):\n",
    "    assert num_candidates is None or preds.shape[-1] >= num_candidates\n",
    "    hits = (preds[..., :num_candidates].topk(k, dim=-1).indices == 0).any(dim=-1)\n",
    "    return ((hits * mask).sum(dim=-1) / mask.sum(dim=-1))"
   ]
  },
  {
   "cell_type": "code",
   "execution_count": 18,
   "id": "e82acda0",
   "metadata": {
    "scrolled": true
   },
   "outputs": [
    {
     "data": {
      "application/vnd.jupyter.widget-view+json": {
       "model_id": "72751988f52e4c4b8654a79dee288e0c",
       "version_major": 2,
       "version_minor": 0
      },
      "text/plain": [
       "  0%|          | 0/6 [00:00<?, ?it/s]"
      ]
     },
     "metadata": {},
     "output_type": "display_data"
    },
    {
     "name": "stdout",
     "output_type": "stream",
     "text": [
      "exp/forecast_mbk+ung_12h/geo-transformers/vdv96ee1/checkpoints/epoch=49-step=6949-best.ckpt\n"
     ]
    },
    {
     "data": {
      "application/vnd.jupyter.widget-view+json": {
       "model_id": "",
       "version_major": 2,
       "version_minor": 0
      },
      "text/plain": [
       "  0%|          | 0/19 [00:00<?, ?it/s]"
      ]
     },
     "metadata": {},
     "output_type": "display_data"
    },
    {
     "name": "stdout",
     "output_type": "stream",
     "text": [
      "exp/forecast_mbk+ung_12h/geo-transformers/vdv96ee1/checkpoints/epoch=49-step=6949-best.ckpt\n"
     ]
    },
    {
     "data": {
      "application/vnd.jupyter.widget-view+json": {
       "model_id": "",
       "version_major": 2,
       "version_minor": 0
      },
      "text/plain": [
       "  0%|          | 0/19 [00:00<?, ?it/s]"
      ]
     },
     "metadata": {},
     "output_type": "display_data"
    },
    {
     "name": "stdout",
     "output_type": "stream",
     "text": [
      "exp/forecast_mbk+ung_12h/geo-transformers/37ld98g9/checkpoints/epoch=169-step=23629-best.ckpt\n"
     ]
    },
    {
     "data": {
      "application/vnd.jupyter.widget-view+json": {
       "model_id": "",
       "version_major": 2,
       "version_minor": 0
      },
      "text/plain": [
       "  0%|          | 0/19 [00:00<?, ?it/s]"
      ]
     },
     "metadata": {},
     "output_type": "display_data"
    },
    {
     "name": "stdout",
     "output_type": "stream",
     "text": [
      "exp/forecast_mbk+ung_12h/geo-transformers/37ld98g9/checkpoints/epoch=169-step=23629-best.ckpt\n"
     ]
    },
    {
     "data": {
      "application/vnd.jupyter.widget-view+json": {
       "model_id": "",
       "version_major": 2,
       "version_minor": 0
      },
      "text/plain": [
       "  0%|          | 0/19 [00:00<?, ?it/s]"
      ]
     },
     "metadata": {},
     "output_type": "display_data"
    },
    {
     "name": "stdout",
     "output_type": "stream",
     "text": [
      "exp/forecast_mbk+ung_12h/geo-transformers/2u6ajp2u/checkpoints/epoch=179-step=24950-best.ckpt\n"
     ]
    },
    {
     "data": {
      "application/vnd.jupyter.widget-view+json": {
       "model_id": "",
       "version_major": 2,
       "version_minor": 0
      },
      "text/plain": [
       "  0%|          | 0/19 [00:00<?, ?it/s]"
      ]
     },
     "metadata": {},
     "output_type": "display_data"
    },
    {
     "name": "stdout",
     "output_type": "stream",
     "text": [
      "exp/forecast_mbk+ung_12h/geo-transformers/2rygu3l4/checkpoints/epoch=175-step=24394-best.ckpt\n"
     ]
    },
    {
     "data": {
      "application/vnd.jupyter.widget-view+json": {
       "model_id": "",
       "version_major": 2,
       "version_minor": 0
      },
      "text/plain": [
       "  0%|          | 0/19 [00:00<?, ?it/s]"
      ]
     },
     "metadata": {},
     "output_type": "display_data"
    }
   ],
   "source": [
    "RUNS = [\n",
    "    (\"vdv96ee1\", False, \"full context\"),\n",
    "    (\"vdv96ee1\", True, \"full context, diag\"),\n",
    "    (\"37ld98g9\", False, \"var context\"),\n",
    "    (\"37ld98g9\", True, \"var context, diag\"),\n",
    "    (\"2u6ajp2u\", False, \"no att\"),\n",
    "    (\"2rygu3l4\", False, \"no enc\"),\n",
    "]\n",
    "\n",
    "results = []\n",
    "for run_id, no_context, desc in tqdm(RUNS):\n",
    "    preds, mask = predict(run_id, no_context=no_context)\n",
    "\n",
    "    tgt_oh = F.one_hot(torch.zeros(preds.shape[:-1], dtype=int), num_classes=preds.shape[-1])\n",
    "    xent = F.kl_div(preds.log_softmax(dim=-1), tgt_oh, log_target=False, reduction=\"none\").sum(dim=-1) / np.log(preds.shape[-1])\n",
    "    xent_16 = F.kl_div(preds[:, :, :16].log_softmax(dim=-1), tgt_oh[:, :, :16], log_target=False, reduction=\"none\").sum(dim=-1) / np.log(16)\n",
    "    logprob_ctrl_16 = preds[:, :, 1:16].log_softmax(dim=-1)\n",
    "    results.append(pd.DataFrame({\n",
    "        \"desc\": desc,\n",
    "        \"seq_id\": [traj[\"seq_id\"][0] for traj in dataset_raw],\n",
    "        \"xent@100\": ((xent * mask).sum(dim=1) / mask.sum(dim=1)),\n",
    "        \"xent@16\": ((xent_16 * mask).sum(dim=1) / mask.sum(dim=1)),\n",
    "        \"ent@16\": -((logprob_ctrl_16 * logprob_ctrl_16.exp()).sum(dim=-1) * mask).sum(dim=1) / mask.sum(dim=1) / np.log(16),\n",
    "        \"acc 8/16\": compute_accuracies(preds, mask, 8, 16),\n",
    "        \"acc 50/100\": compute_accuracies(preds, mask, 50, 100),\n",
    "        \"acc 1/4\": compute_accuracies(preds, mask, 1, 4),\n",
    "        \"acc 10/100\": compute_accuracies(preds, mask, 10, 100),\n",
    "        \"acc 1/16\": compute_accuracies(preds, mask, 1, 16),\n",
    "    }))\n",
    "\n",
    "results = pd.concat(results, ignore_index=True)"
   ]
  },
  {
   "cell_type": "code",
   "execution_count": 31,
   "id": "2486e18c",
   "metadata": {},
   "outputs": [
    {
     "data": {
      "text/html": [
       "<div>\n",
       "<style scoped>\n",
       "    .dataframe tbody tr th:only-of-type {\n",
       "        vertical-align: middle;\n",
       "    }\n",
       "\n",
       "    .dataframe tbody tr th {\n",
       "        vertical-align: top;\n",
       "    }\n",
       "\n",
       "    .dataframe thead th {\n",
       "        text-align: right;\n",
       "    }\n",
       "</style>\n",
       "<table border=\"1\" class=\"dataframe\">\n",
       "  <thead>\n",
       "    <tr style=\"text-align: right;\">\n",
       "      <th></th>\n",
       "      <th>xent@100</th>\n",
       "      <th>xent@16</th>\n",
       "      <th>ent@16</th>\n",
       "      <th>acc 8/16</th>\n",
       "      <th>acc 50/100</th>\n",
       "      <th>acc 1/4</th>\n",
       "      <th>acc 10/100</th>\n",
       "      <th>acc 1/16</th>\n",
       "    </tr>\n",
       "    <tr>\n",
       "      <th>desc</th>\n",
       "      <th></th>\n",
       "      <th></th>\n",
       "      <th></th>\n",
       "      <th></th>\n",
       "      <th></th>\n",
       "      <th></th>\n",
       "      <th></th>\n",
       "      <th></th>\n",
       "    </tr>\n",
       "  </thead>\n",
       "  <tbody>\n",
       "    <tr>\n",
       "      <th>full context</th>\n",
       "      <td>0.908900</td>\n",
       "      <td>0.868632</td>\n",
       "      <td>0.834409</td>\n",
       "      <td>0.730447</td>\n",
       "      <td>0.737179</td>\n",
       "      <td>0.458209</td>\n",
       "      <td>0.293231</td>\n",
       "      <td>0.197842</td>\n",
       "    </tr>\n",
       "    <tr>\n",
       "      <th>full context, diag</th>\n",
       "      <td>0.997791</td>\n",
       "      <td>0.990456</td>\n",
       "      <td>0.905633</td>\n",
       "      <td>0.590871</td>\n",
       "      <td>0.593715</td>\n",
       "      <td>0.322613</td>\n",
       "      <td>0.156565</td>\n",
       "      <td>0.101702</td>\n",
       "    </tr>\n",
       "    <tr>\n",
       "      <th>var context</th>\n",
       "      <td>0.894168</td>\n",
       "      <td>0.847382</td>\n",
       "      <td>0.816869</td>\n",
       "      <td>0.755732</td>\n",
       "      <td>0.761867</td>\n",
       "      <td>0.487215</td>\n",
       "      <td>0.323221</td>\n",
       "      <td>0.220644</td>\n",
       "    </tr>\n",
       "    <tr>\n",
       "      <th>var context, diag</th>\n",
       "      <td>0.953701</td>\n",
       "      <td>0.931739</td>\n",
       "      <td>0.897415</td>\n",
       "      <td>0.660647</td>\n",
       "      <td>0.667223</td>\n",
       "      <td>0.381508</td>\n",
       "      <td>0.204419</td>\n",
       "      <td>0.135908</td>\n",
       "    </tr>\n",
       "    <tr>\n",
       "      <th>no att</th>\n",
       "      <td>0.945193</td>\n",
       "      <td>0.919238</td>\n",
       "      <td>0.866843</td>\n",
       "      <td>0.683045</td>\n",
       "      <td>0.689779</td>\n",
       "      <td>0.402607</td>\n",
       "      <td>0.231137</td>\n",
       "      <td>0.157229</td>\n",
       "    </tr>\n",
       "    <tr>\n",
       "      <th>no enc</th>\n",
       "      <td>0.950192</td>\n",
       "      <td>0.927839</td>\n",
       "      <td>0.905191</td>\n",
       "      <td>0.657577</td>\n",
       "      <td>0.661735</td>\n",
       "      <td>0.383310</td>\n",
       "      <td>0.217173</td>\n",
       "      <td>0.148166</td>\n",
       "    </tr>\n",
       "  </tbody>\n",
       "</table>\n",
       "</div>"
      ],
      "text/plain": [
       "                    xent@100   xent@16    ent@16  acc 8/16  acc 50/100  \\\n",
       "desc                                                                     \n",
       "full context        0.908900  0.868632  0.834409  0.730447    0.737179   \n",
       "full context, diag  0.997791  0.990456  0.905633  0.590871    0.593715   \n",
       "var context         0.894168  0.847382  0.816869  0.755732    0.761867   \n",
       "var context, diag   0.953701  0.931739  0.897415  0.660647    0.667223   \n",
       "no att              0.945193  0.919238  0.866843  0.683045    0.689779   \n",
       "no enc              0.950192  0.927839  0.905191  0.657577    0.661735   \n",
       "\n",
       "                     acc 1/4  acc 10/100  acc 1/16  \n",
       "desc                                                \n",
       "full context        0.458209    0.293231  0.197842  \n",
       "full context, diag  0.322613    0.156565  0.101702  \n",
       "var context         0.487215    0.323221  0.220644  \n",
       "var context, diag   0.381508    0.204419  0.135908  \n",
       "no att              0.402607    0.231137  0.157229  \n",
       "no enc              0.383310    0.217173  0.148166  "
      ]
     },
     "execution_count": 31,
     "metadata": {},
     "output_type": "execute_result"
    }
   ],
   "source": [
    "results.groupby(\"desc\", sort=False).mean()"
   ]
  },
  {
   "cell_type": "markdown",
   "id": "e4da32c9",
   "metadata": {},
   "source": [
    "### Save/load metrics"
   ]
  },
  {
   "cell_type": "code",
   "execution_count": 11,
   "id": "5cf79a34",
   "metadata": {},
   "outputs": [],
   "source": [
    "results.to_csv(\"mbk+ung_12h_eval_results.csv\", index=False)"
   ]
  },
  {
   "cell_type": "code",
   "execution_count": 30,
   "id": "30e5dc62",
   "metadata": {},
   "outputs": [],
   "source": [
    "results = pd.read_csv(\"mbk+ung_12h_eval_results.csv\")"
   ]
  },
  {
   "cell_type": "markdown",
   "id": "fe325ae5",
   "metadata": {},
   "source": [
    "## Make result tables and plots"
   ]
  },
  {
   "cell_type": "code",
   "execution_count": 32,
   "id": "3d72ec46",
   "metadata": {},
   "outputs": [
    {
     "data": {
      "text/html": [
       "<style type=\"text/css\">\n",
       "#T_393e8_row2_col1, #T_393e8_row2_col2, #T_393e8_row2_col3, #T_393e8_row2_col4 {\n",
       "  font-weight: bold;\n",
       "}\n",
       "</style>\n",
       "<table id=\"T_393e8\">\n",
       "  <thead>\n",
       "    <tr>\n",
       "      <th id=\"T_393e8_level0_col0\" class=\"col_heading level0 col0\" >desc</th>\n",
       "      <th id=\"T_393e8_level0_col1\" class=\"col_heading level0 col1\" >xent@16</th>\n",
       "      <th id=\"T_393e8_level0_col2\" class=\"col_heading level0 col2\" >xent@100</th>\n",
       "      <th id=\"T_393e8_level0_col3\" class=\"col_heading level0 col3\" >acc 1/16</th>\n",
       "      <th id=\"T_393e8_level0_col4\" class=\"col_heading level0 col4\" >acc 10/100</th>\n",
       "    </tr>\n",
       "  </thead>\n",
       "  <tbody>\n",
       "    <tr>\n",
       "      <td id=\"T_393e8_row0_col0\" class=\"data row0 col0\" >\\textsc{FullCtx}</td>\n",
       "      <td id=\"T_393e8_row0_col1\" class=\"data row0 col1\" >0.869</td>\n",
       "      <td id=\"T_393e8_row0_col2\" class=\"data row0 col2\" >0.909</td>\n",
       "      <td id=\"T_393e8_row0_col3\" class=\"data row0 col3\" >0.198</td>\n",
       "      <td id=\"T_393e8_row0_col4\" class=\"data row0 col4\" >0.293</td>\n",
       "    </tr>\n",
       "    <tr>\n",
       "      <td id=\"T_393e8_row1_col0\" class=\"data row1 col0\" >\\textsc{FullCtx}+\\textsc{diag}</td>\n",
       "      <td id=\"T_393e8_row1_col1\" class=\"data row1 col1\" >0.990</td>\n",
       "      <td id=\"T_393e8_row1_col2\" class=\"data row1 col2\" >0.998</td>\n",
       "      <td id=\"T_393e8_row1_col3\" class=\"data row1 col3\" >0.102</td>\n",
       "      <td id=\"T_393e8_row1_col4\" class=\"data row1 col4\" >0.157</td>\n",
       "    </tr>\n",
       "    <tr>\n",
       "      <td id=\"T_393e8_row2_col0\" class=\"data row2 col0\" >\\textsc{VarCtx}</td>\n",
       "      <td id=\"T_393e8_row2_col1\" class=\"data row2 col1\" >0.847</td>\n",
       "      <td id=\"T_393e8_row2_col2\" class=\"data row2 col2\" >0.894</td>\n",
       "      <td id=\"T_393e8_row2_col3\" class=\"data row2 col3\" >0.221</td>\n",
       "      <td id=\"T_393e8_row2_col4\" class=\"data row2 col4\" >0.323</td>\n",
       "    </tr>\n",
       "    <tr>\n",
       "      <td id=\"T_393e8_row3_col0\" class=\"data row3 col0\" >\\textsc{VarCtx}+\\textsc{diag}</td>\n",
       "      <td id=\"T_393e8_row3_col1\" class=\"data row3 col1\" >0.932</td>\n",
       "      <td id=\"T_393e8_row3_col2\" class=\"data row3 col2\" >0.954</td>\n",
       "      <td id=\"T_393e8_row3_col3\" class=\"data row3 col3\" >0.136</td>\n",
       "      <td id=\"T_393e8_row3_col4\" class=\"data row3 col4\" >0.204</td>\n",
       "    </tr>\n",
       "    <tr>\n",
       "      <td id=\"T_393e8_row4_col0\" class=\"data row4 col0\" >\\textsc{NoAtt}</td>\n",
       "      <td id=\"T_393e8_row4_col1\" class=\"data row4 col1\" >0.919</td>\n",
       "      <td id=\"T_393e8_row4_col2\" class=\"data row4 col2\" >0.945</td>\n",
       "      <td id=\"T_393e8_row4_col3\" class=\"data row4 col3\" >0.157</td>\n",
       "      <td id=\"T_393e8_row4_col4\" class=\"data row4 col4\" >0.231</td>\n",
       "    </tr>\n",
       "    <tr>\n",
       "      <td id=\"T_393e8_row5_col0\" class=\"data row5 col0\" >\\textsc{NoEnc}</td>\n",
       "      <td id=\"T_393e8_row5_col1\" class=\"data row5 col1\" >0.928</td>\n",
       "      <td id=\"T_393e8_row5_col2\" class=\"data row5 col2\" >0.950</td>\n",
       "      <td id=\"T_393e8_row5_col3\" class=\"data row5 col3\" >0.148</td>\n",
       "      <td id=\"T_393e8_row5_col4\" class=\"data row5 col4\" >0.217</td>\n",
       "    </tr>\n",
       "  </tbody>\n",
       "</table>\n"
      ],
      "text/plain": [
       "<pandas.io.formats.style.Styler at 0x7fc16c8e8e20>"
      ]
     },
     "metadata": {},
     "output_type": "display_data"
    },
    {
     "name": "stdout",
     "output_type": "stream",
     "text": [
      "\\begin{tabular}{lS[table-format=1.3]S[table-format=1.3]S[table-format=1.3]S[table-format=1.3]}\n",
      "\\toprule\n",
      "{desc} & {xent@16} & {xent@100} & {acc 1/16} & {acc 10/100} \\\\\n",
      "\\midrule\n",
      "\\textsc{FullCtx} & 0.869 & 0.909 & 0.198 & 0.293 \\\\\n",
      "\\textsc{FullCtx}+\\textsc{diag} & 0.990 & 0.998 & 0.102 & 0.157 \\\\\n",
      "\\textsc{VarCtx} & \\bfseries 0.847 & \\bfseries 0.894 & \\bfseries 0.221 & \\bfseries 0.323 \\\\\n",
      "\\textsc{VarCtx}+\\textsc{diag} & 0.932 & 0.954 & 0.136 & 0.204 \\\\\n",
      "\\textsc{NoAtt} & 0.919 & 0.945 & 0.157 & 0.231 \\\\\n",
      "\\textsc{NoEnc} & 0.928 & 0.950 & 0.148 & 0.217 \\\\\n",
      "\\bottomrule\n",
      "\\end{tabular}\n",
      "\n"
     ]
    }
   ],
   "source": [
    "cols = [\"xent@16\", \"xent@100\", \"acc 1/16\", \"acc 10/100\"]\n",
    "df = results.groupby(\"desc\", sort=False).mean()[cols].reset_index()\n",
    "df[\"desc\"] = (df[\"desc\"]\n",
    "              .str.replace(\"full context\", r\"\\\\textsc{FullCtx}\")\n",
    "              .str.replace(\"var context\", r\"\\\\textsc{VarCtx}\")\n",
    "              .str.replace(\", diag\", r\"+\\\\textsc{diag}\")\n",
    "              .str.replace(\"no att\", r\"\\\\textsc{NoAtt}\")\n",
    "              .str.replace(\"no enc\", r\"\\\\textsc{NoEnc}\"))\n",
    "styler = df.style\n",
    "styler.highlight_max(subset=[c for c in cols if c.startswith(\"acc\")], props=\"font-weight: bold\")\n",
    "styler.highlight_min(subset=[c for c in cols if not c.startswith(\"acc\")], props=\"font-weight: bold\")\n",
    "styler.applymap(lambda x: \"font-weight: bold\" if x == \"var context\" else \"\", subset=\"desc\")\n",
    "styler.format(precision=3)\n",
    "#styler.format(precision=4, subset=[\"xent@16\", \"xent@100\"])\n",
    "styler.hide(axis=\"index\")\n",
    "\n",
    "ipd.display(styler)\n",
    "print(styler.to_latex(siunitx=True, convert_css=True, hrules=True, column_format=\"lS[table-format=1.3]S[table-format=1.3]S[table-format=1.3]S[table-format=1.3]\"))"
   ]
  },
  {
   "cell_type": "code",
   "execution_count": 33,
   "id": "d55f327a",
   "metadata": {},
   "outputs": [
    {
     "data": {
      "text/plain": [
       "0.8760016421711023"
      ]
     },
     "execution_count": 33,
     "metadata": {},
     "output_type": "execute_result"
    }
   ],
   "source": [
    "results[cols].corr(method=\"pearson\").abs().to_numpy().min()"
   ]
  },
  {
   "cell_type": "code",
   "execution_count": 41,
   "id": "2d0bd981",
   "metadata": {},
   "outputs": [],
   "source": [
    "individuals_df = pq.read_table(\"../data/movebank+ungulates/individuals.parquet\").to_pandas().set_index(\"id\")\n",
    "seq_to_individual = (pq.read_table(\"../data/movebank+ungulates/locations_12h/\", columns=[\"seq_id\", \"individual_id\"])\n",
    " .to_pandas().drop_duplicates()\n",
    " .join(individuals_df, on=\"individual_id\")\n",
    " .set_index(\"seq_id\"))"
   ]
  },
  {
   "cell_type": "code",
   "execution_count": 42,
   "id": "94c814ce",
   "metadata": {},
   "outputs": [],
   "source": [
    "TAXON_COLS = [\"taxon_class\", \"taxon_order\", \"taxon_species\"]"
   ]
  },
  {
   "cell_type": "code",
   "execution_count": 44,
   "id": "5eaa0a65",
   "metadata": {},
   "outputs": [
    {
     "data": {
      "application/vnd.jupyter.widget-view+json": {
       "model_id": "10bbadc10dc1463894039b6b5399f655",
       "version_major": 2,
       "version_minor": 0
      },
      "text/plain": [
       "  0%|          | 0/3333 [00:00<?, ?it/s]"
      ]
     },
     "metadata": {},
     "output_type": "display_data"
    }
   ],
   "source": [
    "with notebook_utils.chdir(\"..\"):\n",
    "    dmodule.setup(stage=\"fit\")\n",
    "    dataset_train_raw = dmodule.train_dataloader().dataset\n",
    "    dataset_train_raw.preprocess_fn = lambda x: x\n",
    "    dataset_train_raw.num_candidates = None\n",
    "    indiv_counts = collections.Counter([seq_to_individual.loc[sid][\"individual_id\"] for traj in tqdm(dataset_train_raw) for sid in traj[\"seq_id\"]])"
   ]
  },
  {
   "cell_type": "code",
   "execution_count": 45,
   "id": "5d97425c",
   "metadata": {},
   "outputs": [],
   "source": [
    "taxon_stats = pd.read_pickle(\"../data/movebank+ungulates/taxon_stats.pickle\")"
   ]
  },
  {
   "cell_type": "code",
   "execution_count": 46,
   "id": "54c2a18e",
   "metadata": {},
   "outputs": [
    {
     "data": {
      "text/html": [
       "<div>\n",
       "<style scoped>\n",
       "    .dataframe tbody tr th:only-of-type {\n",
       "        vertical-align: middle;\n",
       "    }\n",
       "\n",
       "    .dataframe tbody tr th {\n",
       "        vertical-align: top;\n",
       "    }\n",
       "\n",
       "    .dataframe thead th {\n",
       "        text-align: right;\n",
       "    }\n",
       "</style>\n",
       "<table border=\"1\" class=\"dataframe\">\n",
       "  <thead>\n",
       "    <tr style=\"text-align: right;\">\n",
       "      <th></th>\n",
       "      <th>xent@16</th>\n",
       "      <th>#train</th>\n",
       "    </tr>\n",
       "  </thead>\n",
       "  <tbody>\n",
       "    <tr>\n",
       "      <th>xent@16</th>\n",
       "      <td>1.000000</td>\n",
       "      <td>-0.714386</td>\n",
       "    </tr>\n",
       "    <tr>\n",
       "      <th>#train</th>\n",
       "      <td>-0.714386</td>\n",
       "      <td>1.000000</td>\n",
       "    </tr>\n",
       "  </tbody>\n",
       "</table>\n",
       "</div>"
      ],
      "text/plain": [
       "          xent@16    #train\n",
       "xent@16  1.000000 -0.714386\n",
       "#train  -0.714386  1.000000"
      ]
     },
     "metadata": {},
     "output_type": "display_data"
    },
    {
     "data": {
      "text/html": [
       "<div>\n",
       "<style scoped>\n",
       "    .dataframe tbody tr th:only-of-type {\n",
       "        vertical-align: middle;\n",
       "    }\n",
       "\n",
       "    .dataframe tbody tr th {\n",
       "        vertical-align: top;\n",
       "    }\n",
       "\n",
       "    .dataframe thead th {\n",
       "        text-align: right;\n",
       "    }\n",
       "</style>\n",
       "<table border=\"1\" class=\"dataframe\">\n",
       "  <thead>\n",
       "    <tr style=\"text-align: right;\">\n",
       "      <th></th>\n",
       "      <th></th>\n",
       "      <th>xent@16</th>\n",
       "      <th>#train</th>\n",
       "    </tr>\n",
       "    <tr>\n",
       "      <th>class</th>\n",
       "      <th>order</th>\n",
       "      <th></th>\n",
       "      <th></th>\n",
       "    </tr>\n",
       "  </thead>\n",
       "  <tbody>\n",
       "    <tr>\n",
       "      <th rowspan=\"5\" valign=\"top\">Aves</th>\n",
       "      <th>Accipitriformes</th>\n",
       "      <td>0.814555</td>\n",
       "      <td>58994</td>\n",
       "    </tr>\n",
       "    <tr>\n",
       "      <th>Anseriformes</th>\n",
       "      <td>0.826731</td>\n",
       "      <td>64008</td>\n",
       "    </tr>\n",
       "    <tr>\n",
       "      <th>Cathartiformes</th>\n",
       "      <td>1.057042</td>\n",
       "      <td>8653</td>\n",
       "    </tr>\n",
       "    <tr>\n",
       "      <th>Charadriiformes</th>\n",
       "      <td>0.815012</td>\n",
       "      <td>205602</td>\n",
       "    </tr>\n",
       "    <tr>\n",
       "      <th>Ciconiiformes</th>\n",
       "      <td>0.696822</td>\n",
       "      <td>237304</td>\n",
       "    </tr>\n",
       "    <tr>\n",
       "      <th rowspan=\"3\" valign=\"top\">Mammalia</th>\n",
       "      <th>Artiodactyla</th>\n",
       "      <td>0.927873</td>\n",
       "      <td>201464</td>\n",
       "    </tr>\n",
       "    <tr>\n",
       "      <th>Carnivora</th>\n",
       "      <td>0.986052</td>\n",
       "      <td>12282</td>\n",
       "    </tr>\n",
       "    <tr>\n",
       "      <th>Proboscidea</th>\n",
       "      <td>0.980351</td>\n",
       "      <td>24870</td>\n",
       "    </tr>\n",
       "    <tr>\n",
       "      <th>Reptilia</th>\n",
       "      <th>Testudines</th>\n",
       "      <td>0.997962</td>\n",
       "      <td>34577</td>\n",
       "    </tr>\n",
       "  </tbody>\n",
       "</table>\n",
       "</div>"
      ],
      "text/plain": [
       "                           xent@16  #train\n",
       "class    order                            \n",
       "Aves     Accipitriformes  0.814555   58994\n",
       "         Anseriformes     0.826731   64008\n",
       "         Cathartiformes   1.057042    8653\n",
       "         Charadriiformes  0.815012  205602\n",
       "         Ciconiiformes    0.696822  237304\n",
       "Mammalia Artiodactyla     0.927873  201464\n",
       "         Carnivora        0.986052   12282\n",
       "         Proboscidea      0.980351   24870\n",
       "Reptilia Testudines       0.997962   34577"
      ]
     },
     "metadata": {},
     "output_type": "display_data"
    },
    {
     "name": "stdout",
     "output_type": "stream",
     "text": [
      "\\begin{tabular}{llS[table-format=1.3]S[table-format=6]}\n",
      "\\toprule\n",
      "{} & {} & {xent@16} & {#train} \\\\\n",
      "{class} & {order} & {} & {} \\\\\n",
      "\\midrule\n",
      "\\multirow[t]{5}{*}{Aves} & Accipitriformes & 0.815 & 58994 \\\\\n",
      " & Anseriformes & 0.827 & 64008 \\\\\n",
      " & Cathartiformes & 1.057 & 8653 \\\\\n",
      " & Charadriiformes & 0.815 & 205602 \\\\\n",
      " & Ciconiiformes & 0.697 & 237304 \\\\\n",
      "\\multirow[t]{3}{*}{Mammalia} & Artiodactyla & 0.928 & 201464 \\\\\n",
      " & Carnivora & 0.986 & 12282 \\\\\n",
      " & Proboscidea & 0.980 & 24870 \\\\\n",
      "Reptilia & Testudines & 0.998 & 34577 \\\\\n",
      "\\bottomrule\n",
      "\\end{tabular}\n",
      "\n"
     ]
    }
   ],
   "source": [
    "df = (results\n",
    " .query(\"desc == 'var context'\")\n",
    " .join(seq_to_individual, on=\"seq_id\").sort_values(by=TAXON_COLS)\n",
    " .groupby(\"taxon_order\", sort=False)\n",
    " .agg({**{\"xent@16\": \"mean\"}, **{col: \"first\" for col in TAXON_COLS[:-1]}})\n",
    " .reset_index(drop=True)\n",
    " .join(taxon_stats.groupby(\"order\").sum()[[(\"#obs\", \"train\")]].set_axis([\"#train\"], axis=\"columns\"), on=\"taxon_order\")\n",
    " .set_index(TAXON_COLS[:-1])\n",
    ")\n",
    "df.index.names = [name.replace(\"taxon_\", \"\") for name in df.index.names]\n",
    "\n",
    "ipd.display(df[[\"xent@16\", \"#train\"]].corr(method=\"pearson\"))\n",
    "\n",
    "ipd.display(df)\n",
    "print(df.style.format(precision=3).to_latex(\n",
    "    siunitx=True, convert_css=True, hrules=True, multirow_align=\"t\",\n",
    "    column_format=\"llS[table-format=1.3]S[table-format=6]\"\n",
    ").replace(\" nan \", \" --- \"))"
   ]
  }
 ],
 "metadata": {
  "kernelspec": {
   "display_name": "moveformer",
   "language": "python",
   "name": "moveformer"
  },
  "language_info": {
   "codemirror_mode": {
    "name": "ipython",
    "version": 3
   },
   "file_extension": ".py",
   "mimetype": "text/x-python",
   "name": "python",
   "nbconvert_exporter": "python",
   "pygments_lexer": "ipython3",
   "version": "3.9.5"
  }
 },
 "nbformat": 4,
 "nbformat_minor": 5
}
